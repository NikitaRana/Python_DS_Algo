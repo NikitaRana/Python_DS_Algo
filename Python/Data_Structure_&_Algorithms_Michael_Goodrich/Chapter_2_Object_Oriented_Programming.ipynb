{
  "nbformat": 4,
  "nbformat_minor": 0,
  "metadata": {
    "colab": {
      "name": "Chapter_2_Object_Oriented_Programming.ipynb",
      "provenance": [],
      "private_outputs": true,
      "authorship_tag": "ABX9TyOldZKEOXsyAdGt3zatuS5g",
      "include_colab_link": true
    },
    "kernelspec": {
      "name": "python3",
      "display_name": "Python 3"
    }
  },
  "cells": [
    {
      "cell_type": "markdown",
      "metadata": {
        "id": "view-in-github",
        "colab_type": "text"
      },
      "source": [
        "<a href=\"https://colab.research.google.com/github/NikitaRana/OSCP_2020/blob/master/Python/Data_Structure_%26_Algorithms_Michael_Goodrich/Chapter_2_Object_Oriented_Programming.ipynb\" target=\"_parent\"><img src=\"https://colab.research.google.com/assets/colab-badge.svg\" alt=\"Open In Colab\"/></a>"
      ]
    },
    {
      "cell_type": "markdown",
      "metadata": {
        "id": "bJQGhtWfpT1H",
        "colab_type": "text"
      },
      "source": [
        "Each object is an instance of a class. Each class presents to the outside world a concise and consistent view of the objects that are instances of this class, without going into too much unnecessary detail or giving others access to the inner workings of the objects. The class definition typically specifies instance variables, also known as data members, that the object contains, as well as the methods, also known as member functions, that the object can execute."
      ]
    },
    {
      "cell_type": "code",
      "metadata": {
        "id": "WvcXAt0fpQMy",
        "colab_type": "code",
        "colab": {}
      },
      "source": [
        ""
      ],
      "execution_count": 0,
      "outputs": []
    }
  ]
}