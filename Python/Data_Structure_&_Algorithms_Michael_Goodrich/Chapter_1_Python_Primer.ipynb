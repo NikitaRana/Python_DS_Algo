{
  "nbformat": 4,
  "nbformat_minor": 0,
  "metadata": {
    "colab": {
      "name": "Chapter 1 : Python Primer.ipynb",
      "provenance": [],
      "collapsed_sections": [],
      "include_colab_link": true
    },
    "kernelspec": {
      "name": "python3",
      "display_name": "Python 3"
    },
    "accelerator": "GPU"
  },
  "cells": [
    {
      "cell_type": "markdown",
      "metadata": {
        "id": "view-in-github",
        "colab_type": "text"
      },
      "source": [
        "<a href=\"https://colab.research.google.com/github/NikitaRana/OSCP_2020/blob/master/Python/Data_Structure_%26_Algorithms_Michael_Goodrich/Chapter_1_Python_Primer.ipynb\" target=\"_parent\"><img src=\"https://colab.research.google.com/assets/colab-badge.svg\" alt=\"Open In Colab\"/></a>"
      ]
    },
    {
      "cell_type": "markdown",
      "metadata": {
        "id": "C8NxLkrV0xHA",
        "colab_type": "text"
      },
      "source": [
        "Python Overview\n"
      ]
    },
    {
      "cell_type": "code",
      "metadata": {
        "id": "QJoqS54G01V3",
        "colab_type": "code",
        "outputId": "636f9e58-c3f8-4500-ab26-3d0c31659224",
        "colab": {
          "base_uri": "https://localhost:8080/",
          "height": 34
        }
      },
      "source": [
        "print(\"Welcome to the world of python\")"
      ],
      "execution_count": 0,
      "outputs": [
        {
          "output_type": "stream",
          "text": [
            "Welcome to the world of python\n"
          ],
          "name": "stdout"
        }
      ]
    },
    {
      "cell_type": "markdown",
      "metadata": {
        "id": "eoAuocbBAbwi",
        "colab_type": "text"
      },
      "source": [
        "Individual statements\n",
        "are typically concluded with a newline character, although a command can extend\n",
        "to another line, either with a concluding backslash character (\\), or if an opening\n",
        "delimiter has not yet been closed, such as the { character in defining value map"
      ]
    },
    {
      "cell_type": "markdown",
      "metadata": {
        "id": "jiUxxhM_Nqyc",
        "colab_type": "text"
      },
      "source": [
        ""
      ]
    },
    {
      "cell_type": "code",
      "metadata": {
        "id": "0k4qzBS_NtEl",
        "colab_type": "code",
        "outputId": "2142afa8-5ec6-4d4e-e43a-887661fd015a",
        "colab": {
          "base_uri": "https://localhost:8080/",
          "height": 67
        }
      },
      "source": [
        "#concluding a command with a blackslash character to extend it to the other line \n",
        "print(\"welcome to the world \\\n",
        " of python\")\n",
        "variable = input(\"Enter the value \\\n",
        "in the next line\")\n",
        "print(\\\n",
        "      variable)"
      ],
      "execution_count": 0,
      "outputs": [
        {
          "output_type": "stream",
          "text": [
            "welcome to the world  of python\n",
            "Enter the value in the next line356\n",
            "356\n"
          ],
          "name": "stdout"
        }
      ]
    },
    {
      "cell_type": "code",
      "metadata": {
        "id": "d6xjgBo1ORIv",
        "colab_type": "code",
        "outputId": "7c8c8b0d-a237-47f2-d036-d259cc5f055b",
        "colab": {
          "base_uri": "https://localhost:8080/",
          "height": 185
        }
      },
      "source": [
        "'''\n",
        "Program to compute the grade point average (GPA) for a student based on \n",
        "letter grades thata entered by the user\n",
        "'''\n",
        "print(\"Welcome to thte GPA calculator.\")\n",
        "print(\"Enter all the letter grades, one per line\")\n",
        "points = {'A':5.0,'B':4.0,'C':3.0,'D':2.0,'E':1.0}\n",
        "num_courses = 0\n",
        "total_points = 0\n",
        "done = False\n",
        "while not done:\n",
        "  grade = input()\n",
        "  if(grade==''): \n",
        "    done = True\n",
        "  elif (grade not in points):\n",
        "    print(\"Please enter the grade mentioned in the grade card range.\")\n",
        "    print(\"Currently, you have entered {0} as your current grade\".format(grade))\n",
        "  else:\n",
        "    num_courses = num_courses+1\n",
        "    total_points = total_points+points[grade]\n",
        "if(num_courses>0):\n",
        "  print(\"Your GPA is {0:.3}\".format(total_points/num_courses))"
      ],
      "execution_count": 0,
      "outputs": [
        {
          "output_type": "stream",
          "text": [
            "Welcome to thte GPA calculator.\n",
            "Enter all the letter grades, one per line\n",
            "A\n",
            "B\n",
            "A\n",
            "B\n",
            "A\n",
            "\n",
            "Your GPA is 4.6\n"
          ],
          "name": "stdout"
        }
      ]
    },
    {
      "cell_type": "markdown",
      "metadata": {
        "id": "RKdP0rYPRdJ2",
        "colab_type": "text"
      },
      "source": [
        "Python is an object-oriented language and classes form the basis for all data types.In this section, we describe key aspects of Python’s object model, and we introduce\n",
        "Python’s built-in classes, such as the int class for integers, the float class for floating-point values, and the str class for character strings."
      ]
    },
    {
      "cell_type": "markdown",
      "metadata": {
        "id": "sEB7QUdgSgQ1",
        "colab_type": "text"
      },
      "source": [
        "Relationship between Indentifiers, Objects and Assignment Statement\n",
        "\n",
        "temperature = 98.6 \n",
        "where, \n",
        "temperature is an identifier or name\n",
        "98.6 is an object value (floating point literal) belonging to float class in python and \n",
        "'=' is the binary operator \n"
      ]
    },
    {
      "cell_type": "markdown",
      "metadata": {
        "id": "eyhqgn6Xdknk",
        "colab_type": "text"
      },
      "source": [
        "Identifiers are case senitive.\n",
        "There are 33 specially reserved words that cannot be used as identifiers. \n",
        "![image.png](data:image/png;base64,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)"
      ]
    },
    {
      "cell_type": "markdown",
      "metadata": {
        "id": "Ju8gD11zeDEs",
        "colab_type": "text"
      },
      "source": [
        "\n",
        "\n",
        "*   Each identifier is implicitly associated with the memory address of the object to which it refers. \n",
        "*   A programmer can establish an alias by assigning a second identifier to an existing object.\n",
        "\n",
        "Continuing with our concrete example, we consider the command:\n",
        "temperature = temperature + 5.0\n",
        "The execution of this command begins with the evaluation of the expression on the\n",
        "right-hand side of the = operator. That expression, temperature + 5.0, is evaluated\n",
        "based on the existing binding of the name temperature, and so the result\n",
        "has value 103.6, that is, 98.6 + 5.0. That result is stored as a new floating-point\n",
        "instance, and only then is the name on the left-hand side of the assignment statement,\n",
        "temperature, (re)assigned to the result. The subsequent configuration is diagrammed\n",
        "in Figure. Of particular note, this last command had no effect on the\n",
        "value of the existing float instance that identifier original continues to reference.\n",
        "\n",
        "![image.png](data:image/png;base64,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)\n",
        "\n"
      ]
    },
    {
      "cell_type": "markdown",
      "metadata": {
        "id": "7uKqscDqfNM-",
        "colab_type": "text"
      },
      "source": [
        "Many of Python’s built-in classes support what is\n",
        "known as a literal form for designating new instances. For example, the command\n",
        "temperature = 98.6 results in the creation of a new instance of the float class; the\n",
        "term 98.6 in that expression is a literal form. We discuss further cases of Python\n",
        "literals in the coming section\n",
        "\n",
        "Yet, another way from a programmer's perspective is to indirectly create a new instance of a class is to call a function that creates and returns such an instance. For example, python has a built-in function called sorted which take a sequence of comparable numbers and returns an instance of list class containing those elements in sorted order. "
      ]
    },
    {
      "cell_type": "markdown",
      "metadata": {
        "id": "-0d9IRk2jKMU",
        "colab_type": "text"
      },
      "source": [
        "**CALLING METHODS**\n",
        "\n",
        "Python’s list class has a method named sort that can be\n",
        "invoked with a syntax such as data.sort( ). This particular method rearranges the\n",
        "contents of the list so that they are sorted.\n",
        "The expression to the left of the dot identifies the object upon which the method\n",
        "is invoked. Often, this will be an identifier (e.g., data), but we can use the dot operator\n",
        "to invoke a method upon the immediate result of some other operation. For\n",
        "example, if response identifies a string instance (we will discuss strings later in this\n",
        "section), the syntax response.lower( ).startswith( y ) first evaluates the method\n",
        "call, response.lower( ), which itself returns a new string instance, and then the\n",
        "startswith( y ) method is called on that intermediate string.\n",
        "When using a method of a class, it is important to understand its behavior.\n",
        "Some methods return information about the state of an object, but do not change\n",
        "that state. These are known as **accessors**. Other methods, such as the sort method\n",
        "of the list class, do change the state of an object. These methods are known as\n",
        "**mutators **or **update methods**."
      ]
    },
    {
      "cell_type": "markdown",
      "metadata": {
        "id": "Wvngk0rXQBCr",
        "colab_type": "text"
      },
      "source": [
        "**Python Built-In Classes**"
      ]
    },
    {
      "cell_type": "markdown",
      "metadata": {
        "id": "VhRUsOlilF-c",
        "colab_type": "text"
      },
      "source": [
        "\n",
        "\n",
        "```\n",
        "# The bool, int, float \n",
        "```\n",
        "\n"
      ]
    },
    {
      "cell_type": "markdown",
      "metadata": {
        "id": "bFYG_XGeIU4f",
        "colab_type": "text"
      },
      "source": [
        "**The list, tuple and str classes**\n",
        "--> The list, tuple, and str classes are sequence types in Python, representing a collection\n",
        "of values in which the order is significant. The list class is the most general,\n",
        "representing a sequence of arbitrary objects (akin to an “array” in other languages).\n",
        "The tuple class is an immutable version of the list class, benefiting from a **streamlined\n",
        "internal representation.**\n",
        "\n",
        "--> The str class is specially designed for representing an immutable sequence of text characters.\n",
        "\n",
        "--> Python does not have a separate class for character, they are just strings with length 1. "
      ]
    },
    {
      "cell_type": "markdown",
      "metadata": {
        "id": "IMquqShTPMZG",
        "colab_type": "text"
      },
      "source": [
        "**Containers are any object that holds an arbitrary number of other objects. Generally, containers provide a way to access the contained objects and to iterate over them. Examples of containers include tuple , list , set , dict ; these are the built-in containers**"
      ]
    },
    {
      "cell_type": "markdown",
      "metadata": {
        "id": "tju6z3EzJXjJ",
        "colab_type": "text"
      },
      "source": [
        "**The List class**\n",
        "--> A list instance stores a sequence of objects. A list is a referential structure, as it\n",
        "technically stores a sequence of references to its elements. Elements\n",
        "of a list may be arbitrary objects (including the None object). Lists are\n",
        "array-based sequences and are zero-indexed, thus a list of length n has elements\n",
        "indexed from 0 to n−1 inclusive\n",
        "--> lists can dynamically expand and contract their capacities as needed. "
      ]
    },
    {
      "cell_type": "code",
      "metadata": {
        "id": "wxs4xpzvRoqP",
        "colab_type": "code",
        "outputId": "61ee254c-0bc2-40df-9872-f4ae936375b0",
        "colab": {
          "base_uri": "https://localhost:8080/",
          "height": 167
        }
      },
      "source": [
        "empty_list = [ ]\n",
        "print(empty_list)\n",
        "\n",
        "empty_list_using_constructor = list() #by default\n",
        "print(empty_list_using_constructor)\n",
        "\n",
        "list_of_literal_strings = ['red','green','yellow']\n",
        "print(list_of_literal_strings)\n",
        "\n",
        "list_of_literal_numbers = [456,67,23]\n",
        "print(list_of_literal_numbers)\n",
        "\n",
        "var = 42\n",
        "list_of_mix_types = [var,'hello',22,'xii',76.8 ]\n",
        "print(list_of_mix_types)\n",
        "\n",
        "a=42\n",
        "b=65\n",
        "list_of_identifiers = [a,b]\n",
        "print(list_of_identifiers)\n",
        "\n",
        "# list accepts parameters which are iterable in type. eg: strings, lists, tuples, sets, dictionaries\n",
        "original_data = list('primer')\n",
        "print(original_data)\n",
        "\n",
        "#list is itself iterable hence, can be used to construct a new instance referencing the same contents as the original.\n",
        "copied_data = list (original_data)\n",
        "print(copied_data)"
      ],
      "execution_count": 0,
      "outputs": [
        {
          "output_type": "stream",
          "text": [
            "[]\n",
            "[]\n",
            "['red', 'green', 'yellow']\n",
            "[456, 67, 23]\n",
            "[42, 'hello', 22, 'xii', 76.8]\n",
            "[42, 65]\n",
            "['p', 'r', 'i', 'm', 'e', 'r']\n",
            "['p', 'r', 'i', 'm', 'e', 'r']\n"
          ],
          "name": "stdout"
        }
      ]
    },
    {
      "cell_type": "markdown",
      "metadata": {
        "id": "SW6xVG2O_y5k",
        "colab_type": "text"
      },
      "source": [
        "**The tuple class**\n",
        "--> The tuple class provides an immutable version of a sequence, and therefore its\n",
        "instances have an internal representation that may be more streamlined than that of\n",
        "a list. While Python uses the [ ] characters to delimit a list, parentheses delimit a\n",
        "tuple, with () being an empty tuple. "
      ]
    },
    {
      "cell_type": "code",
      "metadata": {
        "id": "-2o-F93PDfAq",
        "colab_type": "code",
        "outputId": "0cf3cbcc-20e1-482f-dbea-cdaef0f6d12c",
        "colab": {
          "base_uri": "https://localhost:8080/",
          "height": 286
        }
      },
      "source": [
        "#empty tuple\n",
        "empty_tuple = ()\n",
        "print(empty_tuple)\n",
        "\n",
        "empty_tuple_using_constructor = tuple()\n",
        "print(empty_tuple_using_constructor)\n",
        "\n",
        "#tuple of length 1 needs to be expressed using a comma\n",
        "tuple_with_single_element = (22,)\n",
        "print(tuple_with_single_element)\n",
        "\n",
        "#tuple of length 1 **NOT** expressed using a comma\n",
        "tuple_with_single_element - (34)\n",
        "print(tuple_with_single_element) #considered as a simple parenthesized numeric expression."
      ],
      "execution_count": 0,
      "outputs": [
        {
          "output_type": "stream",
          "text": [
            "()\n",
            "()\n",
            "(22,)\n"
          ],
          "name": "stdout"
        },
        {
          "output_type": "error",
          "ename": "TypeError",
          "evalue": "ignored",
          "traceback": [
            "\u001b[0;31m---------------------------------------------------------------------------\u001b[0m",
            "\u001b[0;31mTypeError\u001b[0m                                 Traceback (most recent call last)",
            "\u001b[0;32m<ipython-input-14-90451578cae1>\u001b[0m in \u001b[0;36m<module>\u001b[0;34m()\u001b[0m\n\u001b[1;32m     10\u001b[0m \u001b[0;34m\u001b[0m\u001b[0m\n\u001b[1;32m     11\u001b[0m \u001b[0;31m#tuple of length 1 **NOT** expressed using a comma\u001b[0m\u001b[0;34m\u001b[0m\u001b[0;34m\u001b[0m\u001b[0;34m\u001b[0m\u001b[0m\n\u001b[0;32m---> 12\u001b[0;31m \u001b[0mtuple_with_single_element\u001b[0m \u001b[0;34m-\u001b[0m \u001b[0;34m(\u001b[0m\u001b[0;36m34\u001b[0m\u001b[0;34m)\u001b[0m\u001b[0;34m\u001b[0m\u001b[0;34m\u001b[0m\u001b[0m\n\u001b[0m\u001b[1;32m     13\u001b[0m \u001b[0mprint\u001b[0m\u001b[0;34m(\u001b[0m\u001b[0mtuple_with_single_element\u001b[0m\u001b[0;34m)\u001b[0m \u001b[0;31m#considered as a simple parenthesized numeric expression.\u001b[0m\u001b[0;34m\u001b[0m\u001b[0;34m\u001b[0m\u001b[0m\n",
            "\u001b[0;31mTypeError\u001b[0m: unsupported operand type(s) for -: 'tuple' and 'int'"
          ]
        }
      ]
    },
    {
      "cell_type": "markdown",
      "metadata": {
        "id": "icX9lAflFZfJ",
        "colab_type": "text"
      },
      "source": [
        "[Difference between List and Tuple in more depth](https://www.afternerd.com/blog/difference-between-list-tuple/)\n",
        "\n",
        "> Indented block\n",
        "\n"
      ]
    },
    {
      "cell_type": "markdown",
      "metadata": {
        "id": "AWnJt6rNFZa5",
        "colab_type": "text"
      },
      "source": [
        "**The Str class**\n",
        "--> represents an immutbale sequence of chracter based upon Unicode international character set. Strings have a more compact internal represetation than the referential lists and tuples. "
      ]
    },
    {
      "cell_type": "code",
      "metadata": {
        "id": "2ywR1n-0GSmk",
        "colab_type": "code",
        "outputId": "b87ecea9-ea39-443d-80da-91c907cc1424",
        "colab": {
          "base_uri": "https://localhost:8080/",
          "height": 129
        }
      },
      "source": [
        "string_with_single_quote = 'python primer'\n",
        "print(string_with_single_quote)\n",
        "\n",
        "string_with_double_quotes = \"python's world\"\n",
        "print(string_with_double_quotes)\n",
        "\n",
        "string_with_escape_character = 'python\\'s zone'\n",
        "print(string_with_escape_character)\n",
        "\n",
        "#using ''' and \"\"\" to begin and end a string literal. In these the newline characters can be embedded naturally.\n",
        "\n",
        "print(\"\"\"Welcoem to the world of python data structure\n",
        "and algorithms. Please go through the first chapter focusing upon\n",
        "the basics of python.\"\"\")"
      ],
      "execution_count": 0,
      "outputs": [
        {
          "output_type": "stream",
          "text": [
            "python primer\n",
            "python's world\n",
            "python's zone\n",
            "Welcoem to the world of python data structure\n",
            "and algorithms. Please go through the first chapter focusing upon\n",
            "the basics of python.\n"
          ],
          "name": "stdout"
        }
      ]
    },
    {
      "cell_type": "markdown",
      "metadata": {
        "id": "8_2iIST5H_W5",
        "colab_type": "text"
      },
      "source": [
        "***The set and frozenset classes***\n",
        "--> Python’s set class represents the mathematical notion of a set, namely a collection\n",
        "of elements, without duplicates, and without an inherent order to those elements.\n",
        "The major advantage of using a set, as opposed to a list, is that it has a highly\n",
        "optimized method for checking whether a specific element is contained in the set.\n",
        "This is based on a data structure known as a hash table.\n",
        "\n",
        "Two restrictions caused by algorithmic underpinnings\n",
        "\n",
        "--> The first is that the set does not maintain the elements\n",
        "in any particular order. \n",
        "\n",
        "--> The second is that only instances of immutable types can be\n",
        "added to a Python set."
      ]
    },
    {
      "cell_type": "code",
      "metadata": {
        "id": "CjvnTfFYJujN",
        "colab_type": "code",
        "outputId": "78242b2c-8719-4573-e55c-02ecb97f68da",
        "colab": {
          "base_uri": "https://localhost:8080/",
          "height": 380
        }
      },
      "source": [
        "empty_set = { } # this is empty dictionary NOT set\n",
        "print(empty_set) \n",
        "\n",
        "#we dont use set{} like list{} to represent empty set\n",
        "#empty_set = set{}\n",
        "\n",
        "empty_set = set() # this is empty set \n",
        "print(empty_set)\n",
        "\n",
        "#sort list of elements\n",
        "set_for_sorting_iterable_list = set([3,1,4,1,5])\n",
        "print(set_for_sorting_iterable_list)\n",
        "\n",
        "#sort tuple of elements\n",
        "set_for_sorting_iterable_tuple = set((3,1,4,1,5))\n",
        "print(set_for_sorting_iterable_tuple)\n",
        "\n",
        "#sort set of elements\n",
        "set_for_sorting_iterable_set = set({3,1,4,1,5})\n",
        "print(set_for_sorting_iterable_set)\n",
        "\n",
        "set_of_numbers = {1,5,3,7}\n",
        "print(set_of_numbers)\n",
        "\n",
        "#set of immutable objects\n",
        "set_of_mix_types = {'hello',7,'20xx',17.8}\n",
        "print(set_of_mix_types)\n",
        "\n",
        "#set of immutable tuples\n",
        "set_of_immutbale_tuples = {('red','yellow','green'),(14,78,1234),(12.6,98,3,45,2),('hello',7,'20xx',17.8)}\n",
        "print(set_of_immutbale_tuples)\n",
        "\n",
        "#set of mutable lists\n",
        "set_of_mutable_lists = {[1,2,3,4],[5,6,7,8]} #will throw an error \n",
        "print(set_of_mutable_lists)"
      ],
      "execution_count": 0,
      "outputs": [
        {
          "output_type": "stream",
          "text": [
            "{}\n",
            "set()\n",
            "{1, 3, 4, 5}\n",
            "{1, 3, 4, 5}\n",
            "{1, 3, 4, 5}\n",
            "{1, 3, 5, 7}\n",
            "{17.8, 'hello', '20xx', 7}\n",
            "{('red', 'yellow', 'green'), (14, 78, 1234), (12.6, 98, 3, 45, 2), ('hello', 7, '20xx', 17.8)}\n"
          ],
          "name": "stdout"
        },
        {
          "output_type": "error",
          "ename": "TypeError",
          "evalue": "ignored",
          "traceback": [
            "\u001b[0;31m---------------------------------------------------------------------------\u001b[0m",
            "\u001b[0;31mTypeError\u001b[0m                                 Traceback (most recent call last)",
            "\u001b[0;32m<ipython-input-29-efcb13a3c587>\u001b[0m in \u001b[0;36m<module>\u001b[0;34m()\u001b[0m\n\u001b[1;32m     32\u001b[0m \u001b[0;34m\u001b[0m\u001b[0m\n\u001b[1;32m     33\u001b[0m \u001b[0;31m#set of mutable lists\u001b[0m\u001b[0;34m\u001b[0m\u001b[0;34m\u001b[0m\u001b[0;34m\u001b[0m\u001b[0m\n\u001b[0;32m---> 34\u001b[0;31m \u001b[0mset_of_mutable_lists\u001b[0m \u001b[0;34m=\u001b[0m \u001b[0;34m{\u001b[0m\u001b[0;34m[\u001b[0m\u001b[0;36m1\u001b[0m\u001b[0;34m,\u001b[0m\u001b[0;36m2\u001b[0m\u001b[0;34m,\u001b[0m\u001b[0;36m3\u001b[0m\u001b[0;34m,\u001b[0m\u001b[0;36m4\u001b[0m\u001b[0;34m]\u001b[0m\u001b[0;34m,\u001b[0m\u001b[0;34m[\u001b[0m\u001b[0;36m5\u001b[0m\u001b[0;34m,\u001b[0m\u001b[0;36m6\u001b[0m\u001b[0;34m,\u001b[0m\u001b[0;36m7\u001b[0m\u001b[0;34m,\u001b[0m\u001b[0;36m8\u001b[0m\u001b[0;34m]\u001b[0m\u001b[0;34m}\u001b[0m \u001b[0;31m#will throw an error\u001b[0m\u001b[0;34m\u001b[0m\u001b[0;34m\u001b[0m\u001b[0m\n\u001b[0m\u001b[1;32m     35\u001b[0m \u001b[0mprint\u001b[0m\u001b[0;34m(\u001b[0m\u001b[0mset_of_mutable_lists\u001b[0m\u001b[0;34m)\u001b[0m\u001b[0;34m\u001b[0m\u001b[0;34m\u001b[0m\u001b[0m\n",
            "\u001b[0;31mTypeError\u001b[0m: unhashable type: 'list'"
          ]
        }
      ]
    },
    {
      "cell_type": "code",
      "metadata": {
        "id": "cy_ldbDINxWS",
        "colab_type": "code",
        "outputId": "3a6b6074-fc4c-48d2-bc96-e8bb7ac1d24f",
        "colab": {
          "base_uri": "https://localhost:8080/",
          "height": 193
        }
      },
      "source": [
        "#set of mutable sets \n",
        "set_of_sets = {{1,2,3},{4,5,6},{7,8,9}} #will throw an error\n",
        "print(set_of_sets)"
      ],
      "execution_count": 0,
      "outputs": [
        {
          "output_type": "error",
          "ename": "TypeError",
          "evalue": "ignored",
          "traceback": [
            "\u001b[0;31m---------------------------------------------------------------------------\u001b[0m",
            "\u001b[0;31mTypeError\u001b[0m                                 Traceback (most recent call last)",
            "\u001b[0;32m<ipython-input-25-264c64f9fb7c>\u001b[0m in \u001b[0;36m<module>\u001b[0;34m()\u001b[0m\n\u001b[0;32m----> 1\u001b[0;31m \u001b[0mset_of_sets\u001b[0m \u001b[0;34m=\u001b[0m \u001b[0;34m{\u001b[0m\u001b[0;34m{\u001b[0m\u001b[0;36m1\u001b[0m\u001b[0;34m,\u001b[0m\u001b[0;36m2\u001b[0m\u001b[0;34m,\u001b[0m\u001b[0;36m3\u001b[0m\u001b[0;34m}\u001b[0m\u001b[0;34m,\u001b[0m\u001b[0;34m{\u001b[0m\u001b[0;36m4\u001b[0m\u001b[0;34m,\u001b[0m\u001b[0;36m5\u001b[0m\u001b[0;34m,\u001b[0m\u001b[0;36m6\u001b[0m\u001b[0;34m}\u001b[0m\u001b[0;34m,\u001b[0m\u001b[0;34m{\u001b[0m\u001b[0;36m7\u001b[0m\u001b[0;34m,\u001b[0m\u001b[0;36m8\u001b[0m\u001b[0;34m,\u001b[0m\u001b[0;36m9\u001b[0m\u001b[0;34m}\u001b[0m\u001b[0;34m}\u001b[0m \u001b[0;31m#will throw an error\u001b[0m\u001b[0;34m\u001b[0m\u001b[0;34m\u001b[0m\u001b[0m\n\u001b[0m\u001b[1;32m      2\u001b[0m \u001b[0mprint\u001b[0m\u001b[0;34m(\u001b[0m\u001b[0mset_of_sets\u001b[0m\u001b[0;34m)\u001b[0m\u001b[0;34m\u001b[0m\u001b[0;34m\u001b[0m\u001b[0m\n",
            "\u001b[0;31mTypeError\u001b[0m: unhashable type: 'set'"
          ]
        }
      ]
    },
    {
      "cell_type": "markdown",
      "metadata": {
        "id": "d-ws7D2RP09z",
        "colab_type": "text"
      },
      "source": [
        "**The Frozenset** --> frozenset is an IMMUTABLE form of a set"
      ]
    },
    {
      "cell_type": "code",
      "metadata": {
        "id": "tnNfy1zfPw7Y",
        "colab_type": "code",
        "outputId": "9b49df2d-0457-400d-bef2-548766ae27e4",
        "colab": {
          "base_uri": "https://localhost:8080/",
          "height": 36
        }
      },
      "source": [
        "empty_frozenset = frozenset([2,7,1])\n",
        "print(empty_frozenset)"
      ],
      "execution_count": 0,
      "outputs": [
        {
          "output_type": "stream",
          "text": [
            "frozenset({1, 2, 7})\n"
          ],
          "name": "stdout"
        }
      ]
    },
    {
      "cell_type": "markdown",
      "metadata": {
        "id": "w0hwssxlO14c",
        "colab_type": "text"
      },
      "source": [
        "**The dict class**\n",
        "--> Python’s dict class represents a dictionary, or mapping, from a set of distinct keys\n",
        "to associated values.\n",
        "\n",
        "--> Python implements a dict using an almost identical approach to that of a\n",
        "set, but with storage of the associated values.\n",
        "\n",
        "--> The constructor for the dict class accepts an existing mapping as a parameter,\n",
        "in which case it creates a new dictionary with identical associations as the existing\n",
        "one. Alternatively, the constructor accepts a sequence of key-value pairs as a parameter."
      ]
    },
    {
      "cell_type": "code",
      "metadata": {
        "id": "Z8Yl66oyPgqW",
        "colab_type": "code",
        "outputId": "15522685-8c72-4f20-db9e-4e724e8c7198",
        "colab": {
          "base_uri": "https://localhost:8080/",
          "height": 111
        }
      },
      "source": [
        "empty_dictionary = { }\n",
        "print(empty_dictionary)\n",
        "\n",
        "empty_dictionary_using_constructor = dict()\n",
        "print(empty_dictionary_using_constructor)\n",
        "\n",
        "dictionary_variable = {'apple':'fruit','monkey':'animal'}\n",
        "print(dictionary_variable)\n",
        "\n",
        "original_dictionary_pair = {('infinity','war'),('end','game')} #dictionary\n",
        "new_dictionary_using_constructor = dict(original_dictionary_pair) #dictionary given as a parameter to another dict() constructor\n",
        "print(new_dictionary_using_constructor)\n",
        "\n",
        "original_dictionary_pair = [('civil','war'),('winter','soldier')] #list \n",
        "new_dictionary_using_constructor = dict(original_dictionary_pair) #list is given as parameter to dict() constructor\n",
        "print(new_dictionary_using_constructor)\n",
        "\n",
        "\n",
        "\n",
        "#read more on creating dict() class objects\n"
      ],
      "execution_count": 0,
      "outputs": [
        {
          "output_type": "stream",
          "text": [
            "{}\n",
            "{}\n",
            "{'apple': 'fruit', 'monkey': 'animal'}\n",
            "{'end': 'game', 'infinity': 'war'}\n",
            "{'civil': 'war', 'winter': 'soldier'}\n"
          ],
          "name": "stdout"
        }
      ]
    },
    {
      "cell_type": "markdown",
      "metadata": {
        "id": "lqSBE8oUDv0F",
        "colab_type": "text"
      },
      "source": [
        "**Expressions, Operators and Precedence**\n",
        "expressions --> a+b\n",
        "\n",
        "compound expressions --> a+b*c (more than one operations)"
      ]
    },
    {
      "cell_type": "code",
      "metadata": {
        "id": "rHqML3GRU4zI",
        "colab_type": "code",
        "colab": {}
      },
      "source": [
        "a=[4,5,6,7]\n",
        "b=[6,4,7,5]\n",
        "if(a==b):\n",
        "  print(\"both variables refer to the same object\")\n",
        "elif(a==b):\n",
        "  print(\"both variables are true alias of one another\")\n",
        "elif(a is b):\n",
        "  print(\"both variables \")"
      ],
      "execution_count": 0,
      "outputs": []
    },
    {
      "cell_type": "code",
      "metadata": {
        "id": "xINY8UhzD82n",
        "colab_type": "code",
        "outputId": "e5ffd3bf-5ced-4d86-e891-1be1f131ae60",
        "colab": {
          "base_uri": "https://localhost:8080/",
          "height": 36
        }
      },
      "source": [
        "a=12\n",
        "b=13\n",
        "c=15\n",
        "result = a+b*c\n",
        "print(result)"
      ],
      "execution_count": 0,
      "outputs": [
        {
          "output_type": "stream",
          "text": [
            "207\n"
          ],
          "name": "stdout"
        }
      ]
    },
    {
      "cell_type": "markdown",
      "metadata": {
        "id": "P0a_U0ViUA5p",
        "colab_type": "text"
      },
      "source": [
        "**Logical Operators**\n",
        "--> Python supports the following keyword operators for Boolean values:\n",
        "\n",
        "**not unary negation**\n",
        "\n",
        "**and conditional and**\n",
        "\n",
        "**or conditional or** \n",
        "\n",
        "The and and or operators short-circuit, in that they do not evaluate the second\n",
        "operand if the result can be determined based on the value of the first operand.\n",
        "This feature is useful when constructing Boolean expressions in which we first test\n",
        "that a certain condition holds (such as a reference not being None), and then test a\n",
        "condition that could have otherwise generated an error condition had the prior test\n",
        "not succeeded."
      ]
    },
    {
      "cell_type": "markdown",
      "metadata": {
        "id": "-KOTqGHMUH9N",
        "colab_type": "text"
      },
      "source": [
        "**Equality Operators**\n",
        "\n",
        "**is** same identity\n",
        "\n",
        "**is not** different identity\n",
        "\n",
        "**==** equivalent \n",
        "\n",
        "**!=** not quivalent\n",
        "\n",
        "These operators have expected behavior for numeric types, and are defined lexicographically,\n",
        "and case-sensitively, for strings"
      ]
    },
    {
      "cell_type": "code",
      "metadata": {
        "id": "xzyfDTRhllHQ",
        "colab_type": "code",
        "outputId": "12a6aadb-946b-4774-da20-b7a52f6308c4",
        "colab": {
          "base_uri": "https://localhost:8080/",
          "height": 131
        }
      },
      "source": [
        "a = 0\n",
        "b = 1\n",
        "c = a and b\n",
        "print(c)\n",
        "d = a or b\n",
        "print(d)\n",
        "e = not(a and b)\n",
        "print(e)\n",
        "d = None\n",
        "f = d and a\n",
        "print(f) #most probably will generate an error --> condition(1) below\n",
        "\n",
        "'''checking conditions :\n",
        "1. test that the certian condition holds. \n",
        "2. test a condition that could have otherwise generated an error \n",
        "condition had the prior test not succeeded. \n",
        "'''"
      ],
      "execution_count": 0,
      "outputs": [
        {
          "output_type": "stream",
          "text": [
            "0\n",
            "1\n",
            "True\n",
            "None\n"
          ],
          "name": "stdout"
        },
        {
          "output_type": "execute_result",
          "data": {
            "text/plain": [
              "'checking conditions :\\n1. test that the certian condition holds. \\n2. test a condition that could have otherwise generated an error \\ncondition had the prior test not succeeded. \\n'"
            ]
          },
          "metadata": {
            "tags": []
          },
          "execution_count": 8
        }
      ]
    },
    {
      "cell_type": "markdown",
      "metadata": {
        "id": "iFPpBrllm_p2",
        "colab_type": "text"
      },
      "source": [
        "**Equality Operators**"
      ]
    },
    {
      "cell_type": "code",
      "metadata": {
        "id": "ClNJcY-BnV1Z",
        "colab_type": "code",
        "outputId": "a6827079-73af-4879-ae66-55581928ad0d",
        "colab": {
          "base_uri": "https://localhost:8080/",
          "height": 168
        }
      },
      "source": [
        "a = 24\n",
        "b = 24\n",
        "c = 25\n",
        "if a is b: #a and b are aliases to the same object\n",
        "  print('a and b have same identity')\n",
        "if(a is not c): #a\n",
        "  print('a and c have different identity')\n",
        "if(a==b):\n",
        "  print('a is equivalent to b')\n",
        "if(a!=c):\n",
        "  print('a is not equivalent to c')\n",
        "d = 24\n",
        "e = 24\n",
        "f = d\n",
        "g = e\n",
        "if(f==g):\n",
        "  print('f==g also evaluates to true when the identifiers refer to different objects that happen to have the same values \\\n",
        "  and can be deemed equivalent')\n",
        "\n",
        "#Equality operators for sets.\n",
        "a = ['p','y','t','h','o','n']\n",
        "b = ['y','t','o','p','h','n']\n",
        "c = ['y','t','o','k','h','n']\n",
        "if (a==b):\n",
        "  print('a and b are equal sets irrespective of order')\n",
        "if (a!=c):\n",
        "  print('a and c are unequal sets')\n",
        "\n",
        "# is and is not operators should be used for true aliasing \n",
        "\n",
        "a = ['p','y','t','h','o','n']\n",
        "b = ['p','y','t','h','o','n']\n",
        "if(a==b):\n",
        "  print('a and b are true aliases of each other')\n",
        "\n",
        "#Equality operators for strings\n",
        "a = 'python'\n",
        "b = 'yphtno'\n",
        "c = 'python'\n",
        "if(a==b):\n",
        "  print('a and b are equivalent strings irrespective of order')\n",
        "if(a!=c):\n",
        "  print('a and b are not equivalent strings.')"
      ],
      "execution_count": 0,
      "outputs": [
        {
          "output_type": "stream",
          "text": [
            "a and b have same identity\n",
            "a and c have different identity\n",
            "a is equivalent to b\n",
            "a is not equivalent to c\n",
            "f==g also evaluates to true when the identifiers refer to different objects that happen to have the same values   and can be deemed equivalent\n",
            "a and c are unequal sets\n",
            "a and b are true aliases of each other\n"
          ],
          "name": "stdout"
        }
      ]
    },
    {
      "cell_type": "markdown",
      "metadata": {
        "id": "BMKc2wewqhvc",
        "colab_type": "text"
      },
      "source": [
        "**Comparison Operators**\n",
        "These operators have expected behavior for numeric types, and are defined lexicographically,\n",
        "and case-sensitively, for strings"
      ]
    },
    {
      "cell_type": "code",
      "metadata": {
        "id": "Icm7PwXaueqh",
        "colab_type": "code",
        "outputId": "caf069f5-4a69-4ef9-f147-38fa2bd0992a",
        "colab": {
          "base_uri": "https://localhost:8080/",
          "height": 54
        }
      },
      "source": [
        "a=23\n",
        "b=24\n",
        "c='hello'\n",
        "d='HeLLo'\n",
        "if(a<b):\n",
        "  print('a is less than b')\n",
        "if(a<=b):\n",
        "  print('a is less than equal to b')\n",
        "if(d>c):\n",
        "  print('d is greater than c')\n",
        "if(d>=c):\n",
        "  print('d is greater than equal to c')"
      ],
      "execution_count": 0,
      "outputs": [
        {
          "output_type": "stream",
          "text": [
            "a is less than b\n",
            "a is less than equal to b\n"
          ],
          "name": "stdout"
        }
      ]
    },
    {
      "cell_type": "markdown",
      "metadata": {
        "id": "qD_9IgwQ0e8y",
        "colab_type": "text"
      },
      "source": [
        "**Arithematic Operators**\n",
        "'+' addition\n",
        "\n",
        "'-' subtraction\n",
        "\n",
        "'*' multiplication\n",
        "\n",
        "/ true division\n",
        "\n",
        "// integer division\n",
        "\n",
        "% the modulo operator"
      ]
    },
    {
      "cell_type": "code",
      "metadata": {
        "id": "poZSuUp501eE",
        "colab_type": "code",
        "outputId": "e208454e-cf39-48ab-a09b-d44cb35e14a1",
        "colab": {
          "base_uri": "https://localhost:8080/",
          "height": 129
        }
      },
      "source": [
        "a = 99\n",
        "b = 2\n",
        "print(a+b)\n",
        "print(a-b)\n",
        "print(a*b)\n",
        "print(a/b) # true division gives the floating point value\n",
        "print(a//b) #which gives the int floor value quotient \n",
        "print(a%b) #which gives the remainder"
      ],
      "execution_count": 0,
      "outputs": [
        {
          "output_type": "stream",
          "text": [
            "101\n",
            "97\n",
            "198\n",
            "49.5\n",
            "49\n",
            "1\n"
          ],
          "name": "stdout"
        }
      ]
    },
    {
      "cell_type": "markdown",
      "metadata": {
        "id": "nB6SyQJS1mfv",
        "colab_type": "text"
      },
      "source": [
        "**NOTE**\n",
        "\n",
        "We note that languages\n",
        "such as C, C++, and Java do not support the // operator; instead, the / operator\n",
        "returns the truncated quotient when both operands have integral type, and the\n",
        "result of true division when at least one operand has a floating-point type.\n",
        "\n",
        "-->  Python guarantees that q*m + r will equal n and 0 ≤ r < m. when the divisor m is negative then, m < r ≤ 0. "
      ]
    },
    {
      "cell_type": "code",
      "metadata": {
        "id": "PuSkvo431nYj",
        "colab_type": "code",
        "outputId": "b357760c-e9d8-4d9e-cb61-e83ed3f6a25c",
        "colab": {
          "base_uri": "https://localhost:8080/",
          "height": 279
        }
      },
      "source": [
        "print('for positive dividends')\n",
        "n = 6\n",
        "print(n)\n",
        "m = 4\n",
        "print(m)\n",
        "q = n//m\n",
        "print(q)\n",
        "r = n%m\n",
        "print(r)\n",
        "result = q*m+r\n",
        "print(result)\n",
        "if(r<m):\n",
        "  print('0 ≤ r < m')\n",
        "\n",
        "print('for negative dividends')\n",
        "n = -27\n",
        "print(n)\n",
        "m = 4\n",
        "print(m)\n",
        "q = n//m\n",
        "print(q)\n",
        "r = n%m\n",
        "print(r)\n",
        "result_2 = q*m+r\n",
        "print(result_2)\n",
        "if(m>r):\n",
        "  print('m < r ≤ 0')\n"
      ],
      "execution_count": 0,
      "outputs": [
        {
          "output_type": "stream",
          "text": [
            "for positive dividends\n",
            "6\n",
            "4\n",
            "1\n",
            "2\n",
            "6\n",
            "0 ≤ r < m\n",
            "for negative dividends\n",
            "-27\n",
            "4\n",
            "-7\n",
            "1\n",
            "-27\n",
            "m < r ≤ 0\n"
          ],
          "name": "stdout"
        }
      ]
    },
    {
      "cell_type": "markdown",
      "metadata": {
        "id": "qn54I22YJTKK",
        "colab_type": "text"
      },
      "source": [
        "**Bitwise Operators**\n",
        "Python provides the following bitwise operators for integers:\n",
        "\n",
        "∼ bitwise complement (prefix unary operator)\n",
        "\n",
        "& bitwise and\n",
        "\n",
        "| bitwise or\n",
        "\n",
        "ˆ bitwise exclusive-or\n",
        "\n",
        "'<<' -  shift bits left, filling in with zeros\n",
        "\n",
        "'>>' -  shift bits right, filling in with sign bit"
      ]
    },
    {
      "cell_type": "code",
      "metadata": {
        "id": "6Xgd95tnJ9Bc",
        "colab_type": "code",
        "outputId": "37a910d6-b206-44c2-8ace-ddf5ebf5cd71",
        "colab": {
          "base_uri": "https://localhost:8080/",
          "height": 129
        }
      },
      "source": [
        "a = 22\n",
        "b = 37\n",
        "print(~a)\n",
        "print(a&b)\n",
        "print(a|b)\n",
        "print(~(a|b))\n",
        "print(a<<5)\n",
        "print(a>>5)"
      ],
      "execution_count": 0,
      "outputs": [
        {
          "output_type": "stream",
          "text": [
            "-23\n",
            "4\n",
            "55\n",
            "-56\n",
            "704\n",
            "0\n"
          ],
          "name": "stdout"
        }
      ]
    },
    {
      "cell_type": "markdown",
      "metadata": {
        "id": "Wz9H1oC2KrPW",
        "colab_type": "text"
      },
      "source": [
        "**Sequence Operators**\n",
        "\n",
        "Each of Python’s built-in sequence types (str, tuple, and list) support the following\n",
        "operator syntaxes:\n",
        "\n",
        "s[j] element at index j\n",
        "\n",
        "s[start:stop] slice including \n",
        "indices [start,stop)\n",
        "\n",
        "s[start:stop:step] slice including indices start, start + step,\n",
        "start + 2 step, . . . , up to but not equalling or stop\n",
        "\n",
        "s + t concatenation of sequences\n",
        "\n",
        "k s shorthand for s + s + s + ... (k times)\n",
        "\n",
        "val in s containment check\n",
        "\n",
        "val not in s non-containment check"
      ]
    },
    {
      "cell_type": "code",
      "metadata": {
        "id": "AY_hXmG2LWTq",
        "colab_type": "code",
        "outputId": "30be018b-dedc-4376-f554-f8196e72b56b",
        "colab": {
          "base_uri": "https://localhost:8080/",
          "height": 34
        }
      },
      "source": [
        "#list example \n",
        "string_name = 'python data structures'\n",
        "string_name[1]\n",
        "print(string_name[1])"
      ],
      "execution_count": 0,
      "outputs": [
        {
          "output_type": "stream",
          "text": [
            "y\n"
          ],
          "name": "stdout"
        }
      ]
    },
    {
      "cell_type": "markdown",
      "metadata": {
        "id": "BVmoVlIBRjpi",
        "colab_type": "text"
      },
      "source": [
        "**Sequence Operators on Strings**\n",
        "- strings are immutable\n"
      ]
    },
    {
      "cell_type": "code",
      "metadata": {
        "id": "KQxTc4z7RrFJ",
        "colab_type": "code",
        "outputId": "60a331bc-1848-4a1b-e264-08678b1d5947",
        "colab": {
          "base_uri": "https://localhost:8080/",
          "height": 128
        }
      },
      "source": [
        "# sequence types : str, tuple and list \n",
        "string_name = 'python_data_structures'\n",
        "print(string_name[4])\n",
        "print(string_name[4:9]) #slice by step 1 by default to form sub-sequence of the given string\n",
        "print(string_name[2:3:10]) #slice by step 3 \n",
        "\n",
        "#concatenation of sequences\n",
        "another_name = '_and_algorithms'\n",
        "resultant_string = string_name+another_name\n",
        "print(resultant_string)\n",
        "#print the given string k number of times \n",
        "repetitive_string_name = 'primer'\n",
        "k = int(input(\"Enter the number of times you want to repeat the string :\"))\n",
        "print(repetitive_string_name*k) # will repeat string k number of times \n",
        "#checking for a particular value in the given string\n",
        "value_string = 'structures'"
      ],
      "execution_count": 0,
      "outputs": [
        {
          "output_type": "stream",
          "text": [
            "o\n",
            "on_da\n",
            "t\n",
            "python_data_structures_and_algorithms\n",
            "Enter the number of times you want to repeat the string :5\n",
            "primerprimerprimerprimerprimer\n"
          ],
          "name": "stdout"
        }
      ]
    },
    {
      "cell_type": "markdown",
      "metadata": {
        "id": "nNEWX_mwqDxA",
        "colab_type": "text"
      },
      "source": [
        "**Containment check**\n",
        "val in s"
      ]
    },
    {
      "cell_type": "code",
      "metadata": {
        "id": "PkV_zfz1qUZh",
        "colab_type": "code",
        "outputId": "aea587f3-f6d5-409e-f78f-6497864cf0f9",
        "colab": {
          "base_uri": "https://localhost:8080/",
          "height": 351
        }
      },
      "source": [
        "count = 0\n",
        "for character_value in value_string:\n",
        "  print(character_value)\n",
        "  if character_value == 's':\n",
        "    count = count+1\n",
        "print(\"The number of s\\'s in the given string is {0}\".format(count))\n",
        "\n",
        "print(\"-------------------------------------------------------------\")\n",
        "#checking for a larger substring in a given string \n",
        "value_string = \"ABCABBAABCABAAB\"\n",
        "# Method one : using in method\n",
        "\"AAB\" in value_string\n",
        "value_string.find('AAB')\n",
        "print(\" The find function gave the position of the starting of the searched word\")"
      ],
      "execution_count": 0,
      "outputs": [
        {
          "output_type": "stream",
          "text": [
            "A\n",
            "B\n",
            "C\n",
            "A\n",
            "B\n",
            "B\n",
            "A\n",
            "A\n",
            "B\n",
            "C\n",
            "A\n",
            "B\n",
            "A\n",
            "A\n",
            "B\n",
            "The number of s's in the given string is 0\n",
            "-------------------------------------------------------------\n",
            " The find function gave the position of the starting of the searched word\n"
          ],
          "name": "stdout"
        }
      ]
    },
    {
      "cell_type": "markdown",
      "metadata": {
        "id": "OLoRygYBqk-W",
        "colab_type": "text"
      },
      "source": [
        "**Non-containment check**\n",
        "va not in s"
      ]
    },
    {
      "cell_type": "code",
      "metadata": {
        "id": "5TmxWefJqqvs",
        "colab_type": "code",
        "outputId": "47357307-9fcc-4dbb-9ae1-cc25034282eb",
        "colab": {
          "base_uri": "https://localhost:8080/",
          "height": 136
        }
      },
      "source": [
        "#checking if a particular value is not found in the given string\n",
        "non_count = 0\n",
        "string_value = 'pythonprimer'\n",
        "for characer_value not in string_value:\n",
        "  non_count = non_count+1\n",
        "  if character_string != 's'):\n",
        "    not_count =  not_count+1\n",
        "print(\"s not found in the string even after count {0}\".format(char(count))"
      ],
      "execution_count": 0,
      "outputs": [
        {
          "output_type": "error",
          "ename": "SyntaxError",
          "evalue": "ignored",
          "traceback": [
            "\u001b[0;36m  File \u001b[0;32m\"<ipython-input-24-a6cdb254c29a>\"\u001b[0;36m, line \u001b[0;32m3\u001b[0m\n\u001b[0;31m    for characer_value not in string_value:\u001b[0m\n\u001b[0m                         ^\u001b[0m\n\u001b[0;31mSyntaxError\u001b[0m\u001b[0;31m:\u001b[0m invalid syntax\n"
          ]
        }
      ]
    },
    {
      "cell_type": "markdown",
      "metadata": {
        "id": "uUERVfZ8q5e8",
        "colab_type": "text"
      },
      "source": [
        "**Sequence Operators on List**\n",
        "- lists are mutable\n"
      ]
    },
    {
      "cell_type": "code",
      "metadata": {
        "id": "vB1lEUAssXnj",
        "colab_type": "code",
        "outputId": "4b15aef4-b1a4-4b1a-f84f-ea383dc07474",
        "colab": {
          "base_uri": "https://localhost:8080/",
          "height": 128
        }
      },
      "source": [
        "sample_list = ['a','b',4,6,87.3,'hello','python','primer',99.34,23,'n','parrot'] # list having multiple types of elements\n",
        "print(sample_list[1])\n",
        "\n",
        "#to remove elements form a given list of elements\n",
        "print(\"original list : {0}\".format(sample_list))\n",
        "del(sample_list[3])\n",
        "print(\"modified list : {0}\".format(sample_list))\n",
        "\n",
        "print(sample_list[2:5])\n",
        "#to perform a slicing on a given list, the syntax is list_name(start:stop[:step])\n",
        "print(sample_list[2:11:3])\n",
        "# the above syntax is similar to -> list_name[slice(start, stop, step)]\n",
        "print(sample_list[slice(2,10,2)])"
      ],
      "execution_count": 0,
      "outputs": [
        {
          "output_type": "stream",
          "text": [
            "b\n",
            "original list : ['a', 'b', 4, 6, 87.3, 'hello', 'python', 'primer', 99.34, 23, 'n', 'parrot']\n",
            "modified list : ['a', 'b', 4, 87.3, 'hello', 'python', 'primer', 99.34, 23, 'n', 'parrot']\n",
            "[4, 87.3, 'hello']\n",
            "[4, 'python', 23]\n",
            "[4, 'hello', 'primer', 23]\n"
          ],
          "name": "stdout"
        }
      ]
    },
    {
      "cell_type": "markdown",
      "metadata": {
        "id": "w2psnb3d6Xna",
        "colab_type": "text"
      },
      "source": [
        "**Negative indices for the sequence operators**"
      ]
    },
    {
      "cell_type": "code",
      "metadata": {
        "id": "Z7aUTsGJ6ghx",
        "colab_type": "code",
        "outputId": "bea240e9-11f4-4894-dfdb-0ee01f9f24d1",
        "colab": {
          "base_uri": "https://localhost:8080/",
          "height": 147
        }
      },
      "source": [
        "a = [0,1,2,3,4,5,6,7,8,9,10,11,12,13,14,15,16,17,18,19,20]\n",
        "print(a[-1])    # last item in the array\n",
        "print(a[-2:])   # last two items in the array\n",
        "print(a[:-2])   # everything except the last two items\n",
        "\n",
        "# Similarly, step may be a negative number:\n",
        "\n",
        "print(a[::-1])    # all items in the array, reversed\n",
        "print(a[1::-1])   # the first two items, reversed\n",
        "print(a[:-3:-1])  # the last two items, reversed\n",
        "print(a[-3::-1])  # everything except the last two items, reversed"
      ],
      "execution_count": 0,
      "outputs": [
        {
          "output_type": "stream",
          "text": [
            "20\n",
            "[19, 20]\n",
            "[0, 1, 2, 3, 4, 5, 6, 7, 8, 9, 10, 11, 12, 13, 14, 15, 16, 17, 18]\n",
            "[20, 19, 18, 17, 16, 15, 14, 13, 12, 11, 10, 9, 8, 7, 6, 5, 4, 3, 2, 1, 0]\n",
            "[1, 0]\n",
            "[20, 19]\n",
            "[18, 17, 16, 15, 14, 13, 12, 11, 10, 9, 8, 7, 6, 5, 4, 3, 2, 1, 0]\n"
          ],
          "name": "stdout"
        }
      ]
    },
    {
      "cell_type": "code",
      "metadata": {
        "id": "n4UVTA989eQG",
        "colab_type": "code",
        "outputId": "7a0b4785-d08a-418c-8393-0167f38de1e5",
        "colab": {
          "base_uri": "https://localhost:8080/",
          "height": 56
        }
      },
      "source": [
        "'''\n",
        "Program for finding a substring inside an already exisitng string without using the 'in' method and str.find(). \n",
        "Write the complete function showcasing the complete internal workng of the function. Also,print the number of times \n",
        "a particular substring occurs in a given string and it's respective position. \n",
        "\n",
        "Eg: \n",
        "input : AAB\n",
        "string : AABAABAABABBBBABBBBABABABABAAABBBBBABABABAAABBBB\n",
        "output : 5  -> this represnts the number of times the substtring occured \n",
        "[0,3,6,28,42] -> this represnts the postions at which the substring occured \n",
        "'''\n",
        "# your code comes here\n",
        "#\n",
        "#\n",
        "#\n",
        "#\n",
        "#"
      ],
      "execution_count": 0,
      "outputs": [
        {
          "output_type": "execute_result",
          "data": {
            "text/plain": [
              "\"\\nProgram for finding a substring inside an already exisitng string without using the 'in' method and str.find(). \\nWrite the complete function showcasing the complete internal workng of the function. Also,print the number of times \\na particular substring occurs in a given string and it's respective position. \\n\\nEg: \\ninput : AAB\\nstring : AABAABAABABBBBABBBBABABABABAAABBBBBABABABAAABBBB\\noutput : 5  -> this represnts the number of times the substtring occured \\n[0,3,6,28,42] -> this represnts the postions at which the substring occured \\n\""
            ]
          },
          "metadata": {
            "tags": []
          },
          "execution_count": 61
        }
      ]
    },
    {
      "cell_type": "markdown",
      "metadata": {
        "id": "5_HOP0ch_OJ8",
        "colab_type": "text"
      },
      "source": [
        "All sequences define comparison operations based on lexicographic order, performing\n",
        "an element by element comparison until the first difference is found. For\n",
        "\n",
        "example, [5, 6, 9] < [5, 7] because of the entries at index 1. \n",
        "\n",
        "Therefore, the following\n",
        "\n",
        "operations are supported by sequence types:\n",
        "\n",
        "s == t equivalent (element by element)\n",
        "\n",
        "s != t not equivalent\n",
        "\n",
        "s < t lexicographically less than\n",
        "\n",
        "s <= t lexicographically less than or equal to\n",
        "\n",
        "s > t lexicographically greater than\n",
        "\n",
        "s >= t lexicographically greater than or equal to"
      ]
    },
    {
      "cell_type": "code",
      "metadata": {
        "id": "bQajUWBR_fNK",
        "colab_type": "code",
        "outputId": "b51b09d4-2aba-418a-e5d6-f1414d5d849f",
        "colab": {
          "base_uri": "https://localhost:8080/",
          "height": 166
        }
      },
      "source": [
        "s = [5,6,9]\n",
        "t = [5,7]\n",
        "v = [6,5,9]\n",
        "print(s==t)\n",
        "print(s==v) # s and v are lexicographically not equal because the order is different even though the elements are same\n",
        "print(s!=v)\n",
        "print(s!=t)\n",
        "print(s<t)\n",
        "print(s<=t)\n",
        "print(s>t)\n",
        "print(s>=t)"
      ],
      "execution_count": 0,
      "outputs": [
        {
          "output_type": "stream",
          "text": [
            "False\n",
            "False\n",
            "True\n",
            "True\n",
            "True\n",
            "True\n",
            "False\n",
            "False\n"
          ],
          "name": "stdout"
        }
      ]
    },
    {
      "cell_type": "markdown",
      "metadata": {
        "id": "g4s8cW9SAp9U",
        "colab_type": "text"
      },
      "source": [
        "**Operators for sets and dictionaries**\n",
        "\n",
        "Sets and frozensets support the following operators:\n",
        "\n",
        "key in s containment check\n",
        "\n",
        "key not in s non-containment check\n",
        "\n",
        "s1 == s2 s1 is equivalent to s2\n",
        "\n",
        "s1 != s2 s1 is not equivalent to s2\n",
        "\n",
        "s1 <= s2 s1 is subset of s2\n",
        "\n",
        "s1 < s2 s1 is proper subset of s2\n",
        "\n",
        "s1 >= s2 s1 is superset of s2\n",
        "\n",
        "s1 > s2 s1 is proper superset of s2\n",
        "\n",
        "s1 | s2 the union of s1 and s2\n",
        "\n",
        "s1 & s2 the intersection of s1 and s2\n",
        "\n",
        "s1 − s2 the set of elements in s1 but not s2\n",
        "\n",
        "s1 ˆ s2 the set of elements in precisely one of s1 or s2\n",
        "\n",
        "**- the comparison operators, such as <, are not lexicographic; rather, they are based on the mathematical notion of a subset.**"
      ]
    },
    {
      "cell_type": "code",
      "metadata": {
        "id": "C6qnreOxVuLU",
        "colab_type": "code",
        "outputId": "2c439dde-776d-4640-90be-05b15d4066bb",
        "colab": {
          "base_uri": "https://localhost:8080/",
          "height": 437
        }
      },
      "source": [
        "# Sets (mutable) and frozensets (immutable)\n",
        "set_example = {2,5,'python',83.4,True}\n",
        "#operations on sets \n",
        "print(set_example) #gives sorted elements\n",
        "for key in set_example:\n",
        "  print(key)              #gives sorted elements\n",
        "print(\"-----------------\")\n",
        "#containment check in a single line \n",
        "result = 'python' in set_example\n",
        "print(result)\n",
        "print(\"-----------------\")\n",
        "#non-containment check in a python set\n",
        "result = 'primer' not in set_example\n",
        "print(result)\n",
        "frozen_set_example = frozenset(set_example)\n",
        "print(frozen_set_example)\n",
        "frozen_set_example[1] = '45' #will throw an error"
      ],
      "execution_count": 0,
      "outputs": [
        {
          "output_type": "stream",
          "text": [
            "{True, 2, 5, 83.4, 'python'}\n",
            "True\n",
            "2\n",
            "5\n",
            "83.4\n",
            "python\n",
            "-----------------\n",
            "True\n",
            "-----------------\n",
            "True\n",
            "frozenset({True, 2, 83.4, 5, 'python'})\n"
          ],
          "name": "stdout"
        },
        {
          "output_type": "error",
          "ename": "TypeError",
          "evalue": "ignored",
          "traceback": [
            "\u001b[0;31m---------------------------------------------------------------------------\u001b[0m",
            "\u001b[0;31mTypeError\u001b[0m                                 Traceback (most recent call last)",
            "\u001b[0;32m<ipython-input-12-48b71da78aa9>\u001b[0m in \u001b[0;36m<module>\u001b[0;34m()\u001b[0m\n\u001b[1;32m     14\u001b[0m \u001b[0mfrozen_set_example\u001b[0m \u001b[0;34m=\u001b[0m \u001b[0mfrozenset\u001b[0m\u001b[0;34m(\u001b[0m\u001b[0mset_example\u001b[0m\u001b[0;34m)\u001b[0m\u001b[0;34m\u001b[0m\u001b[0;34m\u001b[0m\u001b[0m\n\u001b[1;32m     15\u001b[0m \u001b[0mprint\u001b[0m\u001b[0;34m(\u001b[0m\u001b[0mfrozen_set_example\u001b[0m\u001b[0;34m)\u001b[0m\u001b[0;34m\u001b[0m\u001b[0;34m\u001b[0m\u001b[0m\n\u001b[0;32m---> 16\u001b[0;31m \u001b[0mfrozen_set_example\u001b[0m\u001b[0;34m[\u001b[0m\u001b[0;36m1\u001b[0m\u001b[0;34m]\u001b[0m \u001b[0;34m=\u001b[0m \u001b[0;34m'45'\u001b[0m \u001b[0;31m#will throw an error\u001b[0m\u001b[0;34m\u001b[0m\u001b[0;34m\u001b[0m\u001b[0m\n\u001b[0m",
            "\u001b[0;31mTypeError\u001b[0m: 'frozenset' object does not support item assignment"
          ]
        }
      ]
    },
    {
      "cell_type": "code",
      "metadata": {
        "id": "U0MOKd2zZwL8",
        "colab_type": "code",
        "outputId": "90d40007-6c9c-435b-94c6-e5d2025dd04b",
        "colab": {
          "base_uri": "https://localhost:8080/",
          "height": 204
        }
      },
      "source": [
        "# s is equivalent to t\n",
        "s = {'pyhton','1',56.4,'True'}\n",
        "t = {'pyhton','1',56.4,'True'}\n",
        "v = t = {'pyhton','1',56.4,'True','primer'}\n",
        "print(s==t)\n",
        "print(s!=t)\n",
        "print(s<t)\n",
        "print(s<=t)\n",
        "print(s>t)\n",
        "print(s>=t)\n",
        "print(s|v)\n",
        "print(s&v)\n",
        "print(v-s)\n",
        "print(s^v)"
      ],
      "execution_count": 0,
      "outputs": [
        {
          "output_type": "stream",
          "text": [
            "False\n",
            "True\n",
            "True\n",
            "True\n",
            "False\n",
            "False\n",
            "{'True', 'primer', 'pyhton', 56.4, '1'}\n",
            "{56.4, 'pyhton', 'True', '1'}\n",
            "{'primer'}\n",
            "{'primer'}\n"
          ],
          "name": "stdout"
        }
      ]
    },
    {
      "cell_type": "markdown",
      "metadata": {
        "id": "pp2rO5JUfij9",
        "colab_type": "text"
      },
      "source": [
        "\n",
        "\n",
        "*   The comparison operators define a partial order, but not a total order, as disjoint sets are neither “less than,” “equal\n",
        "to,” or “greater than” each other. \n",
        "*   Sets also support many fundamental behaviors\n",
        "through named methods (e.g., add, remove);\n",
        "\n"
      ]
    },
    {
      "cell_type": "code",
      "metadata": {
        "id": "juk7jy7Xfy5w",
        "colab_type": "code",
        "outputId": "aeec54bf-59d0-46c2-ee4e-e61be1f73121",
        "colab": {
          "base_uri": "https://localhost:8080/",
          "height": 73
        }
      },
      "source": [
        "original_set = {6,5,3,8,7,2}\n",
        "print(original_set)\n",
        "original_set.add(10)\n",
        "print(original_set)\n",
        "original_set.remove(5)\n",
        "print(original_set)"
      ],
      "execution_count": 0,
      "outputs": [
        {
          "output_type": "stream",
          "text": [
            "{2, 3, 5, 6, 7, 8}\n",
            "{2, 3, 5, 6, 7, 8, 10}\n",
            "{2, 3, 6, 7, 8, 10}\n"
          ],
          "name": "stdout"
        }
      ]
    },
    {
      "cell_type": "markdown",
      "metadata": {
        "id": "SwJ7fmPViLi1",
        "colab_type": "text"
      },
      "source": [
        "**Operations on Dictionaries**\n",
        "\n",
        "Dictionaries, like sets, do not maintain a well-defined order on their elements.\n",
        "Furthermore, the concept of a subset is not typically meaningful for dictionaries, so\n",
        "the dict class does not support operators such as <. Dictionaries support the notion\n",
        "of equivalence, with d1 == d2 if the two dictionaries contain the same set of keyvalue\n",
        "pairs."
      ]
    },
    {
      "cell_type": "code",
      "metadata": {
        "id": "owrkNTNWiRZ1",
        "colab_type": "code",
        "outputId": "fb871863-d46a-4b43-e1c6-093413c3883b",
        "colab": {
          "base_uri": "https://localhost:8080/",
          "height": 187
        }
      },
      "source": [
        "dictionary_sample = {'number':47,'string':'primer','decimal':67.5}\n",
        "another_dictionary_sample = {'number':47,'string':'primer','decimal':67.5}\n",
        "\n",
        "print('dictionary_sample {0}'.format(dictionary_sample))\n",
        "\n",
        "print('another dictionary_sample {0}'.format(another_dictionary_sample))\n",
        "\n",
        "#equivalence relation between two dictionaries \n",
        "print(dictionary_sample==another_dictionary_sample)\n",
        "\n",
        "#accessing dictionary values based upon key value\n",
        "print(dictionary_sample['number'])\n",
        "\n",
        "# setting or restting a value based upon key of an existing dictionary\n",
        "new_dictionary_sample = {'number':47,'string':'primer','decimal':67.5}\n",
        "print(new_dictionary_sample)\n",
        "new_dictionary_sample['number'] = 56\n",
        "print(new_dictionary_sample)\n",
        "# dictionary is mutable\n",
        "#dictionary also supports named methods\n",
        "\n",
        "#containment check \n",
        "print('string' in dictionary_sample)\n",
        "\n",
        "#non-containment check\n",
        "print('string' not in dictionary_sample)\n"
      ],
      "execution_count": 0,
      "outputs": [
        {
          "output_type": "stream",
          "text": [
            "dictionary_sample {'number': 47, 'string': 'primer', 'decimal': 67.5}\n",
            "another dictionary_sample {'number': 47, 'string': 'primer', 'decimal': 67.5}\n",
            "True\n",
            "47\n",
            "{'number': 47, 'string': 'primer', 'decimal': 67.5}\n",
            "{'number': 56, 'string': 'primer', 'decimal': 67.5}\n",
            "True\n",
            "False\n"
          ],
          "name": "stdout"
        }
      ]
    },
    {
      "cell_type": "markdown",
      "metadata": {
        "id": "7CfS5fUSlcNM",
        "colab_type": "text"
      },
      "source": [
        "**Extended assignment operators**\n"
      ]
    },
    {
      "cell_type": "code",
      "metadata": {
        "id": "XBb5cSbflyKv",
        "colab_type": "code",
        "outputId": "d0c08f25-7bfe-46d2-c97c-d0abe3b68e59",
        "colab": {
          "base_uri": "https://localhost:8080/",
          "height": 92
        }
      },
      "source": [
        "count = 0 #immutable int type\n",
        "print(count)\n",
        "count+=2 #it doesnt modifies the original int value but reassigns the constructor to the newly constructed value.\n",
        "print(count)\n",
        "#certain extended operations on list and mutating the values\n",
        "alpha = [1,2,4]\n",
        "beta = alpha\n",
        "alpha+=[6,7,8] #will give the new set\n",
        "beta+=[6,7,8] #will give the new set\n",
        "print('alpha : {0}'.format(alpha))\n",
        "print('beta : {0}'.format(beta))"
      ],
      "execution_count": 0,
      "outputs": [
        {
          "output_type": "stream",
          "text": [
            "0\n",
            "2\n",
            "alpha : [1, 2, 4, 6, 7, 8, 6, 7, 8]\n",
            "beta : [1, 2, 4, 6, 7, 8, 6, 7, 8]\n"
          ],
          "name": "stdout"
        }
      ]
    },
    {
      "cell_type": "markdown",
      "metadata": {
        "id": "rwOGA-mR8oJ6",
        "colab_type": "text"
      },
      "source": [
        "**Compound Expressions and Operator Precedence**\n",
        "\n",
        "* Operators within a category are typically evaluated from left to  right\n",
        "* Exceptions to this rule include that unary operators and exponentiation are evaluated form right to left. "
      ]
    },
    {
      "cell_type": "code",
      "metadata": {
        "id": "ZzFEDZGG-3an",
        "colab_type": "code",
        "outputId": "72db6817-a2f9-4437-aff4-d62a903dcdb3",
        "colab": {
          "base_uri": "https://localhost:8080/",
          "height": 54
        }
      },
      "source": [
        "#chained assignemnt \n",
        "x=y=2\n",
        "print(x*y)\n",
        "\n",
        "#chaining of comparison operators\n",
        "1<=x+y<=10 \n",
        "'''\n",
        "gives output as True and gets evaluated as (1<=x+y)and(x+y<=10) \n",
        "w/o computing the intermediate value x+y twice.\n",
        "''' "
      ],
      "execution_count": 0,
      "outputs": [
        {
          "output_type": "stream",
          "text": [
            "4\n"
          ],
          "name": "stdout"
        },
        {
          "output_type": "execute_result",
          "data": {
            "text/plain": [
              "True"
            ]
          },
          "metadata": {
            "tags": []
          },
          "execution_count": 6
        }
      ]
    },
    {
      "cell_type": "markdown",
      "metadata": {
        "id": "N9vo4xK1ATo3",
        "colab_type": "text"
      },
      "source": [
        "![image.png](data:image/png;base64,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)"
      ]
    },
    {
      "cell_type": "markdown",
      "metadata": {
        "id": "xgeDiHssAUdT",
        "colab_type": "text"
      },
      "source": [
        "**Control Flow**\n",
        "\n",
        "The colon character is used to delimit the\n",
        "beginning of a block of code that acts as a body for a control structure. If the body\n",
        "can be stated as a single executable statement, it can technically placed on the same\n",
        "line, to the right of the colon. However, a body is more typically typeset as an\n",
        "indented block starting on the line following the colon. Python relies on the indentation\n",
        "level to designate the extent of that block of code, or any nested blocks of\n",
        "code within."
      ]
    },
    {
      "cell_type": "code",
      "metadata": {
        "id": "VtRTiCZ4DOcb",
        "colab_type": "code",
        "outputId": "ba23db75-1dc8-4ae9-a34d-7af2cc436b8d",
        "colab": {
          "base_uri": "https://localhost:8080/",
          "height": 92
        }
      },
      "source": [
        "user_input = str(input(\"Enter the name of the file :\"))\n",
        "file_size = 10\n",
        "if(user_input==' '):\n",
        "  print(\"Please enter the name of the file.\")\n",
        "elif(user_input=='New Folder'):\n",
        "  print(\"Please enter an exisitng folder name.\")\n",
        "else:\n",
        "  print(\"Working through opening the entered file.\")\n",
        "  file_size_entered = input(\"Enter the file size : \")\n",
        "  if(file_size_entered==file_size):\n",
        "    print(\"The file size of the entered file is less.\")\n",
        "  else:\n",
        "    print(\"The file size of the entered file is more than 10 MB.\")"
      ],
      "execution_count": 0,
      "outputs": [
        {
          "output_type": "stream",
          "text": [
            "Enter the name of the file :Python_primer\n",
            "Working through opening the entered file.\n",
            "Enter the file size : 24\n",
            "The file size of the entered file is more than 10 MB.\n"
          ],
          "name": "stdout"
        }
      ]
    },
    {
      "cell_type": "markdown",
      "metadata": {
        "id": "HRnM_1-fGcgM",
        "colab_type": "text"
      },
      "source": [
        "**Loops in Python**\n",
        "* for\n",
        "* while\n",
        "* do-while \n",
        "\n",
        "# **NOTE : Have to execute the loop scripts**"
      ]
    },
    {
      "cell_type": "markdown",
      "metadata": {
        "id": "21wr4zNtIKKF",
        "colab_type": "text"
      },
      "source": [
        "**Break and Continue Statements**\n",
        "Python supports a break statement that immediately terminate a while or for loop\n",
        "when executed within its body. More formally, if applied within nested control\n",
        "structures, it causes the termination of the most immediately enclosing loop. As\n",
        "a typical example, here is code that determines whether a target value occurs in a\n",
        "data set:\n",
        "\n",
        "found = False\n",
        "\n",
        "for item in data:\n",
        "\n",
        "if item == target:\n",
        "\n",
        "found = True\n",
        "\n",
        "break\n",
        "\n",
        "Python also supports a continue statement that causes the current iteration of a\n",
        "loop body to stop, but with subsequent passes of the loop proceeding as expected.\n",
        "\n"
      ]
    },
    {
      "cell_type": "markdown",
      "metadata": {
        "id": "-9FxsCymIhND",
        "colab_type": "text"
      },
      "source": [
        "**Functions and Methods**\n",
        "--> function to describe a traditional, stateless function that is invoked\n",
        "without the context of a particular class or an instance of that class, such as\n",
        "sorted(data). We use the more specific term method to describe a member function\n",
        "that is invoked upon a specific object using an object-oriented message passing syntax,\n",
        "such as data.sort( )\n",
        "\n",
        "--> Each time a function is called,\n",
        "Python creates a dedicated activation record that stores information relevant to the\n",
        "current call. This activation record includes what is known as a namespace to manage all identifiers that have local scope within the current call.\n",
        "The namespace includes the function’s parameters and any other identifiers that are\n",
        "defined locally within the body of the function. An identifier in the local scope\n",
        "of the function caller has no relation to any identifier with the same name in the\n",
        "caller’s scope (although identifiers in different scopes may be aliases to the same\n",
        "object).\n",
        "\n",
        "**NOTE: Activation record is also called memory stack**\n"
      ]
    },
    {
      "cell_type": "markdown",
      "metadata": {
        "id": "KAm4sucGerxC",
        "colab_type": "text"
      },
      "source": [
        "**Return Statement**\n",
        "\n",
        "A return statement is used within the body of a function to indicate that the function should immediately cease execution, and that an expressed value should be returned to the caller. If a return statement is executed without an explicit argument, the None value is automatically returned. Likewise, None will be returned if the flow of control ever reaches the end of a function body without having executed a return statement. Often, a return statement will be the final command within the body of the function"
      ]
    },
    {
      "cell_type": "code",
      "metadata": {
        "id": "a2IxmiVNbvjb",
        "colab_type": "code",
        "outputId": "ba69f321-d168-458d-930e-b146695af75d",
        "colab": {
          "base_uri": "https://localhost:8080/",
          "height": 54
        }
      },
      "source": [
        "def item_in_target(item,target):\n",
        "  if item in target:\n",
        "    result = True\n",
        "  else:\n",
        "    result = False\n",
        "  return result\n",
        "\n",
        "def main():\n",
        "  target = 'python primer'\n",
        "  item = 'python'\n",
        "  result = item_in_target(item,target)\n",
        "  print(result)\n",
        "\n",
        "main() #in python 3 this works \n",
        "\n",
        "'''\n",
        "\n",
        "had it been python 2x, it would have required us to execute by running the command :\n",
        "\n",
        "if __name__=='__main__:\n",
        "  main()\n",
        "\n",
        "'''"
      ],
      "execution_count": 0,
      "outputs": [
        {
          "output_type": "stream",
          "text": [
            "True\n"
          ],
          "name": "stdout"
        },
        {
          "output_type": "execute_result",
          "data": {
            "text/plain": [
              "\"\\n\\nhad it been python 2x, it would have required us to execute by running the command :\\n\\nif __name__=='__main__:\\n  main()\\n\\n\""
            ]
          },
          "metadata": {
            "tags": []
          },
          "execution_count": 11
        }
      ]
    },
    {
      "cell_type": "markdown",
      "metadata": {
        "id": "9rFbfUE5nth_",
        "colab_type": "text"
      },
      "source": [
        "**Information Passing**\n",
        "\n",
        "In the context of a function signature, the identifiers used to describe the expected parameters are known as formal parameters, and the objects sent by the caller when invoking the function are the actual parameters. Parameter passing in Python follows the semantics of the standard assignment statement. When a function is invoked, each identifier that serves as a formal parameter is assigned, in the function's local scope, to the respective actual parameter that is provided by the caller of the function.\n",
        "\n",
        "An advantage to Python's mechanism for passing information to and from a function is that objects are not copied. This ensures that the invocation of a function is efficient, even in a case where a parameter or return value is a complex object."
      ]
    },
    {
      "cell_type": "code",
      "metadata": {
        "id": "ocRn-GxBol0N",
        "colab_type": "code",
        "outputId": "e8ad7ea7-6e08-4cf5-b390-31343cb66190",
        "colab": {
          "base_uri": "https://localhost:8080/",
          "height": 92
        }
      },
      "source": [
        "def count(data, target):\n",
        "  n=0\n",
        "  data.append('F')\n",
        "  print(\"The value of data inside function {0}\".format(data))\n",
        "  for item in data:\n",
        "      if(item==target):\n",
        "        n+=1\n",
        "      return n\n",
        "def contains(data, target):\n",
        "  for item in target:\n",
        "    if item==target: #found a match\n",
        "      return True\n",
        "  return False\n",
        "\n",
        "def main():\n",
        "  grades = ['A','B','C','D','E']\n",
        "  print(\"The value of data outside function {0}\".format(grades))\n",
        "  target = 'A'\n",
        "  prizes = count(grades,target)\n",
        "  found = contains(grades,target)\n",
        "  print(prizes)\n",
        "  print(found)\n",
        "\n",
        "main()"
      ],
      "execution_count": 0,
      "outputs": [
        {
          "output_type": "stream",
          "text": [
            "The value of data outside function ['A', 'B', 'C', 'D', 'E']\n",
            "The value of data inside function ['A', 'B', 'C', 'D', 'E', 'F']\n",
            "1\n",
            "True\n"
          ],
          "name": "stdout"
        }
      ]
    },
    {
      "cell_type": "markdown",
      "metadata": {
        "id": "32PPtI3Drl6E",
        "colab_type": "text"
      },
      "source": [
        "**Mutable Parameters**\n",
        "\n",
        "* Python's parameter passing model has additional implications when a parameter is a mutable object. Because the formal parameter is an alias for the actual parameter, the body of the function may interact with the object in ways that change its state.\n",
        "\n",
        "* As an aside, we note that reassigning a new\n",
        "value to a formal parameter with a function body, such as by setting data = [ ],\n",
        "does not alter the actual parameter; such a reassignment simply breaks the alias.\n",
        "\n",
        "\n"
      ]
    },
    {
      "cell_type": "code",
      "metadata": {
        "id": "BqiyHIJ5tiWh",
        "colab_type": "code",
        "outputId": "2df011d2-eb25-463a-bf38-c088a87eb7df",
        "colab": {
          "base_uri": "https://localhost:8080/",
          "height": 36
        }
      },
      "source": [
        "''' case where the formal parameter is required to alter \n",
        "or modify the actual parameter ''' \n",
        "\n",
        "def scale(data, factor):\n",
        "  for j in range(len(data)):\n",
        "    data[j] = data[j]*factor \n",
        "  return data\n",
        "\n",
        "def main():\n",
        "  list_sample=[1,2,3,4,5,6]\n",
        "  factor = 2\n",
        "  new_data = scale(list_sample,factor)\n",
        "  print(new_data)\n",
        "\n",
        "main()"
      ],
      "execution_count": 0,
      "outputs": [
        {
          "output_type": "stream",
          "text": [
            "[2, 4, 6, 8, 10, 12]\n"
          ],
          "name": "stdout"
        }
      ]
    },
    {
      "cell_type": "markdown",
      "metadata": {
        "id": "CimCIMwYBC0s",
        "colab_type": "text"
      },
      "source": [
        "**Default Parameter Values**\n",
        "\n",
        "* a default parameter is always placed of the right most corner of the function definiton. \n",
        "\n",
        "# **Run the below code again to rectify the errors**"
      ]
    },
    {
      "cell_type": "code",
      "metadata": {
        "id": "B52sZzJRCWTv",
        "colab_type": "code",
        "outputId": "ce978e33-23e8-463c-e70d-c2ccf190cde3",
        "colab": {
          "base_uri": "https://localhost:8080/",
          "height": 385
        }
      },
      "source": [
        "def display(name,place,animal,thing):\n",
        "  print(\"{0} {0} {0} {0}\").format(name).format(place).format(animal).format(thing)\n",
        "def display(place,animal,thing,name='python'):\n",
        "  print(\"{0} {0} {0} {0}\").format(name).format(place).format(animal).format(thing)\n",
        "def display(animal,thing,place='USA',name='panda'):\n",
        "  print(\"{0} {0} {0} {0}\").format(name).format(place).format(animal).format(thing)\n",
        "def display(thing,animal='koala',place='India',name='michael'):\n",
        "  print(\"{0} {0} {0} {0}\").format(name).format(place).format(animal).format(thing)\n",
        "def displa(name='lucifer',place='Kansas',animal='bear',thing='cage'):\n",
        "  print(\"{0} {0} {0} {0}\").format(name).format(place).format(animal).format(thing)\n",
        "\n",
        "def main():\n",
        "  display('cage')\n",
        "  display('lioness','jungle')\n",
        "  display('Lebanon','bamboo')\n",
        "  display('Puerto Rico','Rabbit','hut')\n",
        "\n",
        "main()"
      ],
      "execution_count": 0,
      "outputs": [
        {
          "output_type": "stream",
          "text": [
            "{0} {0} {0} {0}\n"
          ],
          "name": "stdout"
        },
        {
          "output_type": "error",
          "ename": "AttributeError",
          "evalue": "ignored",
          "traceback": [
            "\u001b[0;31m---------------------------------------------------------------------------\u001b[0m",
            "\u001b[0;31mAttributeError\u001b[0m                            Traceback (most recent call last)",
            "\u001b[0;32m<ipython-input-30-19c0a0e28ff9>\u001b[0m in \u001b[0;36m<module>\u001b[0;34m()\u001b[0m\n\u001b[1;32m     16\u001b[0m   \u001b[0mdisplay\u001b[0m\u001b[0;34m(\u001b[0m\u001b[0;34m'Puerto Rico'\u001b[0m\u001b[0;34m,\u001b[0m\u001b[0;34m'Rabbit'\u001b[0m\u001b[0;34m,\u001b[0m\u001b[0;34m'hut'\u001b[0m\u001b[0;34m)\u001b[0m\u001b[0;34m\u001b[0m\u001b[0;34m\u001b[0m\u001b[0m\n\u001b[1;32m     17\u001b[0m \u001b[0;34m\u001b[0m\u001b[0m\n\u001b[0;32m---> 18\u001b[0;31m \u001b[0mmain\u001b[0m\u001b[0;34m(\u001b[0m\u001b[0;34m)\u001b[0m\u001b[0;34m\u001b[0m\u001b[0;34m\u001b[0m\u001b[0m\n\u001b[0m",
            "\u001b[0;32m<ipython-input-30-19c0a0e28ff9>\u001b[0m in \u001b[0;36mmain\u001b[0;34m()\u001b[0m\n\u001b[1;32m     11\u001b[0m \u001b[0;34m\u001b[0m\u001b[0m\n\u001b[1;32m     12\u001b[0m \u001b[0;32mdef\u001b[0m \u001b[0mmain\u001b[0m\u001b[0;34m(\u001b[0m\u001b[0;34m)\u001b[0m\u001b[0;34m:\u001b[0m\u001b[0;34m\u001b[0m\u001b[0;34m\u001b[0m\u001b[0m\n\u001b[0;32m---> 13\u001b[0;31m   \u001b[0mdisplay\u001b[0m\u001b[0;34m(\u001b[0m\u001b[0;34m'cage'\u001b[0m\u001b[0;34m)\u001b[0m\u001b[0;34m\u001b[0m\u001b[0;34m\u001b[0m\u001b[0m\n\u001b[0m\u001b[1;32m     14\u001b[0m   \u001b[0mdisplay\u001b[0m\u001b[0;34m(\u001b[0m\u001b[0;34m'lioness'\u001b[0m\u001b[0;34m,\u001b[0m\u001b[0;34m'jungle'\u001b[0m\u001b[0;34m)\u001b[0m\u001b[0;34m\u001b[0m\u001b[0;34m\u001b[0m\u001b[0m\n\u001b[1;32m     15\u001b[0m   \u001b[0mdisplay\u001b[0m\u001b[0;34m(\u001b[0m\u001b[0;34m'Lebanon'\u001b[0m\u001b[0;34m,\u001b[0m\u001b[0;34m'bamboo'\u001b[0m\u001b[0;34m)\u001b[0m\u001b[0;34m\u001b[0m\u001b[0;34m\u001b[0m\u001b[0m\n",
            "\u001b[0;32m<ipython-input-30-19c0a0e28ff9>\u001b[0m in \u001b[0;36mdisplay\u001b[0;34m(thing, animal, place, name)\u001b[0m\n\u001b[1;32m      6\u001b[0m   \u001b[0mprint\u001b[0m\u001b[0;34m(\u001b[0m\u001b[0;34m\"{0} {0} {0} {0}\"\u001b[0m\u001b[0;34m)\u001b[0m\u001b[0;34m.\u001b[0m\u001b[0mformat\u001b[0m\u001b[0;34m(\u001b[0m\u001b[0mname\u001b[0m\u001b[0;34m)\u001b[0m\u001b[0;34m.\u001b[0m\u001b[0mformat\u001b[0m\u001b[0;34m(\u001b[0m\u001b[0mplace\u001b[0m\u001b[0;34m)\u001b[0m\u001b[0;34m.\u001b[0m\u001b[0mformat\u001b[0m\u001b[0;34m(\u001b[0m\u001b[0manimal\u001b[0m\u001b[0;34m)\u001b[0m\u001b[0;34m.\u001b[0m\u001b[0mformat\u001b[0m\u001b[0;34m(\u001b[0m\u001b[0mthing\u001b[0m\u001b[0;34m)\u001b[0m\u001b[0;34m\u001b[0m\u001b[0;34m\u001b[0m\u001b[0m\n\u001b[1;32m      7\u001b[0m \u001b[0;32mdef\u001b[0m \u001b[0mdisplay\u001b[0m\u001b[0;34m(\u001b[0m\u001b[0mthing\u001b[0m\u001b[0;34m,\u001b[0m\u001b[0manimal\u001b[0m\u001b[0;34m=\u001b[0m\u001b[0;34m'koala'\u001b[0m\u001b[0;34m,\u001b[0m\u001b[0mplace\u001b[0m\u001b[0;34m=\u001b[0m\u001b[0;34m'India'\u001b[0m\u001b[0;34m,\u001b[0m\u001b[0mname\u001b[0m\u001b[0;34m=\u001b[0m\u001b[0;34m'michael'\u001b[0m\u001b[0;34m)\u001b[0m\u001b[0;34m:\u001b[0m\u001b[0;34m\u001b[0m\u001b[0;34m\u001b[0m\u001b[0m\n\u001b[0;32m----> 8\u001b[0;31m   \u001b[0mprint\u001b[0m\u001b[0;34m(\u001b[0m\u001b[0;34m\"{0} {0} {0} {0}\"\u001b[0m\u001b[0;34m)\u001b[0m\u001b[0;34m.\u001b[0m\u001b[0mformat\u001b[0m\u001b[0;34m(\u001b[0m\u001b[0mname\u001b[0m\u001b[0;34m)\u001b[0m\u001b[0;34m.\u001b[0m\u001b[0mformat\u001b[0m\u001b[0;34m(\u001b[0m\u001b[0mplace\u001b[0m\u001b[0;34m)\u001b[0m\u001b[0;34m.\u001b[0m\u001b[0mformat\u001b[0m\u001b[0;34m(\u001b[0m\u001b[0manimal\u001b[0m\u001b[0;34m)\u001b[0m\u001b[0;34m.\u001b[0m\u001b[0mformat\u001b[0m\u001b[0;34m(\u001b[0m\u001b[0mthing\u001b[0m\u001b[0;34m)\u001b[0m\u001b[0;34m\u001b[0m\u001b[0;34m\u001b[0m\u001b[0m\n\u001b[0m\u001b[1;32m      9\u001b[0m \u001b[0;32mdef\u001b[0m \u001b[0mdispla\u001b[0m\u001b[0;34m(\u001b[0m\u001b[0mname\u001b[0m\u001b[0;34m=\u001b[0m\u001b[0;34m'lucifer'\u001b[0m\u001b[0;34m,\u001b[0m\u001b[0mplace\u001b[0m\u001b[0;34m=\u001b[0m\u001b[0;34m'Kansas'\u001b[0m\u001b[0;34m,\u001b[0m\u001b[0manimal\u001b[0m\u001b[0;34m=\u001b[0m\u001b[0;34m'bear'\u001b[0m\u001b[0;34m,\u001b[0m\u001b[0mthing\u001b[0m\u001b[0;34m=\u001b[0m\u001b[0;34m'cage'\u001b[0m\u001b[0;34m)\u001b[0m\u001b[0;34m:\u001b[0m\u001b[0;34m\u001b[0m\u001b[0;34m\u001b[0m\u001b[0m\n\u001b[1;32m     10\u001b[0m   \u001b[0mprint\u001b[0m\u001b[0;34m(\u001b[0m\u001b[0;34m\"{0} {0} {0} {0}\"\u001b[0m\u001b[0;34m)\u001b[0m\u001b[0;34m.\u001b[0m\u001b[0mformat\u001b[0m\u001b[0;34m(\u001b[0m\u001b[0mname\u001b[0m\u001b[0;34m)\u001b[0m\u001b[0;34m.\u001b[0m\u001b[0mformat\u001b[0m\u001b[0;34m(\u001b[0m\u001b[0mplace\u001b[0m\u001b[0;34m)\u001b[0m\u001b[0;34m.\u001b[0m\u001b[0mformat\u001b[0m\u001b[0;34m(\u001b[0m\u001b[0manimal\u001b[0m\u001b[0;34m)\u001b[0m\u001b[0;34m.\u001b[0m\u001b[0mformat\u001b[0m\u001b[0;34m(\u001b[0m\u001b[0mthing\u001b[0m\u001b[0;34m)\u001b[0m\u001b[0;34m\u001b[0m\u001b[0;34m\u001b[0m\u001b[0m\n",
            "\u001b[0;31mAttributeError\u001b[0m: 'NoneType' object has no attribute 'format'"
          ]
        }
      ]
    },
    {
      "cell_type": "markdown",
      "metadata": {
        "id": "g6eoLarGEylA",
        "colab_type": "text"
      },
      "source": [
        "**Keyword Paramters**\n",
        "\n",
        "* The traditional mechanism for matching the actual parameters sent by a caller, to\n",
        "the formal parameters declared by the function signature is based on the concept\n",
        "of positional arguments.\n",
        "\n",
        "* Python supports an alternate mechanism for sending a parameter to a function\n",
        "known as a keyword argument. A keyword argument is specified by explicitly\n",
        "assigning an actual parameter to a formal parameter by name\n"
      ]
    },
    {
      "cell_type": "code",
      "metadata": {
        "id": "2A1DJLQlFQZd",
        "colab_type": "code",
        "colab": {}
      },
      "source": [
        ""
      ],
      "execution_count": 0,
      "outputs": []
    }
  ]
}