{
  "nbformat": 4,
  "nbformat_minor": 0,
  "metadata": {
    "colab": {
      "name": "Chapter 1 : Python Primer.ipynb",
      "provenance": [],
      "collapsed_sections": [],
      "include_colab_link": true
    },
    "kernelspec": {
      "name": "python3",
      "display_name": "Python 3"
    },
    "accelerator": "GPU"
  },
  "cells": [
    {
      "cell_type": "markdown",
      "metadata": {
        "id": "view-in-github",
        "colab_type": "text"
      },
      "source": [
        "<a href=\"https://colab.research.google.com/github/NikitaRana/OSCP_2020/blob/master/Python/Data_Structure_%26_Algorithms_Michael_Goodrich/Chapter_1_Python_Primer.ipynb\" target=\"_parent\"><img src=\"https://colab.research.google.com/assets/colab-badge.svg\" alt=\"Open In Colab\"/></a>"
      ]
    },
    {
      "cell_type": "markdown",
      "metadata": {
        "id": "C8NxLkrV0xHA",
        "colab_type": "text"
      },
      "source": [
        "Python Overview\n"
      ]
    },
    {
      "cell_type": "code",
      "metadata": {
        "id": "QJoqS54G01V3",
        "colab_type": "code",
        "outputId": "636f9e58-c3f8-4500-ab26-3d0c31659224",
        "colab": {
          "base_uri": "https://localhost:8080/",
          "height": 34
        }
      },
      "source": [
        "print(\"Welcome to the world of python\")"
      ],
      "execution_count": 0,
      "outputs": [
        {
          "output_type": "stream",
          "text": [
            "Welcome to the world of python\n"
          ],
          "name": "stdout"
        }
      ]
    },
    {
      "cell_type": "markdown",
      "metadata": {
        "id": "eoAuocbBAbwi",
        "colab_type": "text"
      },
      "source": [
        "Individual statements\n",
        "are typically concluded with a newline character, although a command can extend\n",
        "to another line, either with a concluding backslash character (\\), or if an opening\n",
        "delimiter has not yet been closed, such as the { character in defining value map"
      ]
    },
    {
      "cell_type": "markdown",
      "metadata": {
        "id": "jiUxxhM_Nqyc",
        "colab_type": "text"
      },
      "source": [
        ""
      ]
    },
    {
      "cell_type": "code",
      "metadata": {
        "id": "0k4qzBS_NtEl",
        "colab_type": "code",
        "outputId": "2142afa8-5ec6-4d4e-e43a-887661fd015a",
        "colab": {
          "base_uri": "https://localhost:8080/",
          "height": 67
        }
      },
      "source": [
        "#concluding a command with a blackslash character to extend it to the other line \n",
        "print(\"welcome to the world \\\n",
        " of python\")\n",
        "variable = input(\"Enter the value \\\n",
        "in the next line\")\n",
        "print(\\\n",
        "      variable)"
      ],
      "execution_count": 0,
      "outputs": [
        {
          "output_type": "stream",
          "text": [
            "welcome to the world  of python\n",
            "Enter the value in the next line356\n",
            "356\n"
          ],
          "name": "stdout"
        }
      ]
    },
    {
      "cell_type": "code",
      "metadata": {
        "id": "d6xjgBo1ORIv",
        "colab_type": "code",
        "outputId": "7c8c8b0d-a237-47f2-d036-d259cc5f055b",
        "colab": {
          "base_uri": "https://localhost:8080/",
          "height": 185
        }
      },
      "source": [
        "'''\n",
        "Program to compute the grade point average (GPA) for a student based on \n",
        "letter grades thata entered by the user\n",
        "'''\n",
        "print(\"Welcome to thte GPA calculator.\")\n",
        "print(\"Enter all the letter grades, one per line\")\n",
        "points = {'A':5.0,'B':4.0,'C':3.0,'D':2.0,'E':1.0}\n",
        "num_courses = 0\n",
        "total_points = 0\n",
        "done = False\n",
        "while not done:\n",
        "  grade = input()\n",
        "  if(grade==''): \n",
        "    done = True\n",
        "  elif (grade not in points):\n",
        "    print(\"Please enter the grade mentioned in the grade card range.\")\n",
        "    print(\"Currently, you have entered {0} as your current grade\".format(grade))\n",
        "  else:\n",
        "    num_courses = num_courses+1\n",
        "    total_points = total_points+points[grade]\n",
        "if(num_courses>0):\n",
        "  print(\"Your GPA is {0:.3}\".format(total_points/num_courses))"
      ],
      "execution_count": 0,
      "outputs": [
        {
          "output_type": "stream",
          "text": [
            "Welcome to thte GPA calculator.\n",
            "Enter all the letter grades, one per line\n",
            "A\n",
            "B\n",
            "A\n",
            "B\n",
            "A\n",
            "\n",
            "Your GPA is 4.6\n"
          ],
          "name": "stdout"
        }
      ]
    },
    {
      "cell_type": "markdown",
      "metadata": {
        "id": "RKdP0rYPRdJ2",
        "colab_type": "text"
      },
      "source": [
        "Python is an object-oriented language and classes form the basis for all data types.In this section, we describe key aspects of Python’s object model, and we introduce\n",
        "Python’s built-in classes, such as the int class for integers, the float class for floating-point values, and the str class for character strings."
      ]
    },
    {
      "cell_type": "markdown",
      "metadata": {
        "id": "sEB7QUdgSgQ1",
        "colab_type": "text"
      },
      "source": [
        "Relationship between Indentifiers, Objects and Assignment Statement\n",
        "\n",
        "temperature = 98.6 \n",
        "where, \n",
        "temperature is an identifier or name\n",
        "98.6 is an object value (floating point literal) belonging to float class in python and \n",
        "'=' is the binary operator \n"
      ]
    },
    {
      "cell_type": "markdown",
      "metadata": {
        "id": "eyhqgn6Xdknk",
        "colab_type": "text"
      },
      "source": [
        "Identifiers are case senitive.\n",
        "There are 33 specially reserved words that cannot be used as identifiers. \n",
        "![image.png](data:image/png;base64,iVBORw0KGgoAAAANSUhEUgAAA0wAAAC1CAYAAABs6H/7AAAgAElEQVR4nOy9/28TV77/P3/A/OIf80MkJMtSfkCqKis/gKrKvhJokaUEXRRFbJEV0CKCdpHDrXDaFaFVSVjdGm2bqCVtL1abqNu624yyt6GXtJfQJaySvreuCGoiPu6W9CYFUwIhRCEKxGQenx/sccb22LFNvtjJ6yHNL/Z4PHPmnNd5Pc95nddR/u3f/o1/+7d/QxAEQRAEQRAEQUhFEcEkCIIgCIIgCIJgjQgmQRAEQRAEQRCELIhgEgRBEARBEARByIIIJkEQBEEQBEEQhCyIYBIEQRAEQRAEQciCCCZBEARBEARBEIQsZBVMiqLIIYcccsghhxxyyCGHHHJs6qNowSQIgiAIgiAIgrDVEcEkCIIgCIIgCIKQBRFMgiAIgiAIgiAIWZA1THLIIYcccsghhxxyyCHHlj2eSTAJgiAIgiAIgiBsVkQwCYIgCIIgCIIgZEEEkyAIgiAIgiAIQhZEMAmCIAiCIAiCIGRBBJMgCIIgCIIgCEIWRDAJgiCsOguM97+N3+vGnp5pR3XiOeDFW+fCrjrxHGjEHwiiDUaYiekbfeNlxn3C3X/iRF01arKM7Xi1yRV+95SZ8If4PFVpWZBU7J5jtHaHmQGejvfz55NeqtX0d7gT78kA3eH7icuN0//nV/FWV6AoCmr17zj33f21fvg0ii0LQRAEYSVEMAmCIKwV+n0GT71ocrYr2NX5A4vxL4nNjKH5XcvOes0Z+ifmN/imy5BHg7RUFi4S9OlLNFeppvdTS+dYevkvMBE6gs0kmCpbBnmUeTUeD7exreoEfbcfr8JDFUmRZSEIgiBkRwSTIAjCmhEjqh0xOeSZDqx+t49G27Izru7qYGReZpoKIhYmYC9GJMwx0u4xvZ/tNPbdIr309el+mipMM0y7g0SW0q/1lOl+Py+2X+PJsz9R8RRdFoIgCEI2RDAJgiCsGSsLJvR/0V1baTrnBVqHH27M7ZYrRYsEnScjHew0zR7ZGvu4m6FX7zHgd5reUR3ByILFOV7aR+ae/XmeBRFMgiAIq44IJkEQhDUjD8HEJJrXvsI5Qk6eRSQs/kDnrorl8rf56LsbSz3nyTXad9pSQit3B2+QMsk0O4Df1cHIkw2eHRTBJAiCsOqIYBIEQVgz8plh+plQ/TbTObsIhGczL6XPMn65i9ZjdXhq6qjx1HGs7TPCU2nrZfSHRC68Q7O3Fk/dAbzeRprbu+g530Jz72SB11tg/OKfkskMFEVBsQcIx54yF7lAoHE3drWa+ta/8d2V/+KIyzxTZk6gsMB4fwf+uudQlEpcR4KEZ54W9lzGbc/d4ELHK3hdVdhdXpo7viTy4NtnEAkLRIJ1OcLydOaH/5M9r5/lDbNoSgnLW2J24CQui3A8fe4nLned4Vith5oDdXg8DTR39BKOzpv+I99yvsDNBdOdFVEWyd94aqjzevEeeZX27k8573+D3miaUBQEQRAAEUyCIAhrSB5rmG5rHDSvYaoNEllMm6XQf2Xo7Es4FBs72oaY1UGfHaJthw3VfZpLUUNczPH/Bb3YlB009U0QA9AfMdH/Bm7V9N95Xw9A59Hga1QmHfkzXBr5iAaHOVnCc/j67zAfPsuO5GfbqA/9nLIeKBYO4DA/X0H3AfqDq7S5E6LM8Vvaer5hqP+/aP6PQ+yrKH5WZSkSZHfWsLx7DPh/R+fYr2nrncxheVbheDqx6NeccleiKLtpG55GRyc28RkNNgXFcZjg6MMUYZZfOf9afFksjBKsd6CYElPoCz/Tf2oPqnIETQSTIAiCJSKYBEEQ1oxcgmmJhegQ7zU8n5yRcdS/xZVo+szKU6YHTlKVsb7pIcOtL6AoKlXNl5jWzQkkXqJ73HydeSLBQzRokwVdL/kU4cByenSbk5rTXxFdfMBIR108hbW6j87RR6BPoB1cTtWt7g8xkbzOEyZCPo4mZ28KvA99isFT7sS1qzioTSSuYxIhxYah6eOE9pvCIk1hefrdPo6+FH+OVGFlCsuzCsdbuE5nzTaL2SjTeijHcfqii0WUczFlEeNuny+e7a+2m3Gzkl0cI1h7TASTIAhCFkQwCYIgrBnpgknF7tqH1+vlgMeZ2C9HxVF/hp6hn6z3YVr6ke69RsieeRbgESPtv4l/rjaiRWMmh1vF0RBk5MGyM65Hh+gN3y/oesmnMDvy5pmV2BRjl7/m8thUfDYrRQQpKOoBum8mhNvSDYL7WhmcXSr4uSB9Ji5NED7zup0nTIQOmfYvMsLynjAROsYhQ5As3SC42xQ2tztIZMkqHG+R29rRZCpym6+f6eR384x11iauYWNH4J8YiczzLefiymKOcMCV+Px5GoLf8yBZ3xaJDvYvh0kKgiAIKYhgEgRBWDPSBdM26oLDXAs2pOzro1Q105+eaCCBPhmiPnmuWViYrx2fodEnQuw3b7Jqr6Epbb1MIddLPkWKI79C6Nb8PwnssCUFwc72azxB58nIO+wziYPC7uMp0/0vL5dZ5WsMPkqZAnvmRAfpoZG2xj7uPv2R7ro/0j9tCIl0YfUS3eO3LMLxbtN3ZHmmzR4IY5KfqXXi+XZGnhZSzsWWRfq9q9g9x+noDRNdyMiRLgiCIJgQwSQIgrBmZAnJW4zQvd+RMvNU1dTHbYsZplQn2oGr7gBerzftOEzrwB3Qp/kuUGtyio2Znl00hX5gTi/wepb3sNJal8fc7D6wfA87zhKen2a49Q90jj3Kcs2V7sM8K6MkEiKkFNKzZ4bTb9HXuN0UlneMz//nLHtarmBOwZEqSu3sf6edl9PD8VLuZwXBZCrP/Mq5+LLQZ78lsKsytW4oCqrrBKGxhxn7TwmCIAhxRDAJgiCsGdnWMOks/vQx+21mx9VJozZOuouc6kT/hvaRR1Z/ZPrBr4Q/fhWPXU1zjJ0c7ZtksdDrZdzDyskBUmdrXqDlb3+h+YB5PVOhz2UOJ1sjwWRe45OYHbPbawmE0/bESluntTyLlu1+VlswPUtZ6MSmvuPj5lrT/ySOtPVUgiAIwjIimARBENaMXEkf5vmp+2BqaJ7jKKGb8ylXSE004MQ/cC+P/9WJzUQY6DpFnTnL2u4gN24Ufr1CBRP6Hfqbnjc9d3qq7kKf6zHj3S8tX29bG8OPVzckD4gnb6gwvY9d7zGWnrEwQ1h5LDarXcuQvNUoi0VmIpfpaqnHkfw/i72lBEEQBEAEkyAIwhqyQlrxjNA8Bdv+j/nJ7KTPD9G6fVn0VDT1p2Swi//NNL/cmScW7qAxmTENQCf24HuCRiY+e4DwbP7XMz4uWDChMz98hu3Gb6peX072UMRz6eg8Dgd4LnkPBwlNmmZDVm2zVlMGO2Ube7t/tBQQy9kIFZSdVpvVpiZ9qPAPmML6zPs+5Ur6kK2ciy2LOcKBU2nXXOTBSDCZujxV2AmCIAgGIpgEQRDWjJX2YbIKzdtGTed1FpLnzBMJ/nZ5TZC6h1P9PxPfv1Qn9uAHel57g48jc5n7HCX+4/FwG9sUI1tb/tdLPkXBggl4co32nbYMUbBMgfexOEawdlviHsyptJ8yN/IuNepqCCaT0LMdRbudLUTNEFYW4XjJx/uedmO9UDFpxXOVc1FlMUc4sIfa4BipT2WkcV/e40kQBEFIRQSTIAjCWqHfZ/DUiyYxpLL91BVmUyYkLELz1Do6RmaWZ4oWf+KL47tMyRwqcHp+i/eAB6djH2cG76BjONyVuFv+m8hMwi2O3eO79jpUdS/tI7MFXS/xEKkbqlqGoFlhJH/495RkDykUdB9PmRs1beTqOEj7xatc6fkTB4++wok9RjIDG9XNF5goNvNbYubLcsYryRKzA69SkbMsdBYm/ocWd6XpferEJjQaHSqK43e8P3K/yHIupiwSa5/UPbR8cSORwl4n9uBb2mu2oe7qYGRe0j4IgiBYIYJJEARh1VlgvP9tTtRVZ2asUypw1vyelq4wM8bpFqF5arWX1y+Ok9wZJ3af0b53aPa6sSsKqrOGwy1BLo/PmkLnOmho/5IrfR8SaH4Z37GD1Lnd1Pj+jDZyNzXcKo/rwQLjfSczEkio1V5O/rmf8RW27dFvaxx6KTXZQwZ53YfBU+bGvyHYchiP047Tc5iW4DeMz/2M5rWj2F3UHfHTGugg+Pl3RIvSTDMMt75Ey+D93KfND9HqsQrHM2OsJTvDsVoPNQfq8HgaaE5L9V5cORdaFnOEz75M+9eX6QsGaD7RxLGGfbhd/44v0MvIVPqGyYIgCIKBCCZBEAShzHnMzJ0HiXC+rY6UhSAIwmojgkkQBEEQBEEQBCELIpgEQRAEQRAEQRCyIIJJEARBEARBEAQhCyKYBEEQBEEQBEEQsiCCSRAEQRAEQRAEIQsimARBEARBEARBELIggkkQBEEQBEEQBCELIpgEQRAEQRAEQRCy8MyCSQ455JBDDjnkkEMOOeSQYzMfzySYBEEQBEEQBEEQNisimARBEARBEARBELIggkkQBEEQBEEQBCELGyiYdObD73PI68W74nGMzvDD4v5mdgB/hYKyO0hk6RluVxCErYPYjdVHn2X8cpCWwzU4VRW7q46jwRHmN/q+BEEQhDLhHgN+J4pSRzCykN9PVqk/30DBtMTswKtUKAqKow7/mwECgWxHB9rYbHF/I46PsJVYukFwdwWK4sQ/cG+j76Z8EbuxuugPGQ0exqHuxHv6A0JaD6FggFeDYRFMa43YBEEQSoClSJDdioJS8SoDs8V2rFtdMK2lUyKOj7CVEOdodRC7sYroLEaC1KpVNIR+IrbRt7PVEJsgCEIJIIKpaEQwCULBLE4y3KvROzzJouUJMebu3SEavcvMglT4ohG7sYo8YSJ0CFUc9g1CbIJQCAtMDl9A6/2WyUV9o2+mRNBZnPyWXu0Cw5N5OulCJrE57kWjRO/MsFB01RLBJIJJEPIhUZ8r/AMUGaQq5IPYjVVkgUiwTmY4BKEsSDikzzQLsNkw/FWxYRuPCCYRTIKQDyKY1gexG6uICCZBKB9EMGUigql0EMGU/0PEpolc+SvnTh2j3uVAURy4vKcIXv6JOaspvmwFFZsmMtBF67G9OFUFRXXi8TbRGvySkanHphN1Yg9+oK/jFbwuB4rdjbf5HfpG75dILP4iM5ErhM69jq/ehV1RsbsaaAl+w/jc08zT835uIc4SC9Ewvcb7V1Tsrv34WoNcCN9Km1Z+ytz4N3S1+uJ10+6i3neGLsu6aWSJPMQrfT/zZOoaWuB44nduvC1dDEeX30cy9tfyMBuObMbkIeHOY3i9r9M3OcfUSC+Bpv247LZEfRkiGku/SeNaFp1Ecl2EldEq4TYTu89o3zs0e93YFQcu7yt09P3Ag/Rn3/R2Yz0w2fj0I+mMGe0gkQk1dp+x/g9o8brZnjYooM/9xOWuMwk758BV76O1y8rOZbatZPtVndT43qIv8hAdndjUNbSAjxpnhWW72xyspk0QNo5i31ee/VLSplv1MRXsDt6gfORToqwOvU94fonYgzH632vB63Kn9mUr9gfGYE+WvtfcPxh9hoXQTPbfKf1JPravVNvoIre1o9iUbdQGx6yXBzy5RvtOG8r2MwzPJ+4xp3BZ5MHoBTqavYnn89LccYHRB+lXzyGY9Flu9nfgq3GiGu9T+5aJW19vRcFkVN4KnHUvEwh+itbzEW827ERVqqjt+Cez6XXH6gXp03wXqEVVqvA0vUV3j4YWCvJ2y2Hc9udo7LtF/DI6sejXnHJXothr8Xd+ghZ6F7+nCkXdw2tX7rDR3YnREFVnPScC5wlpn9P15iGqVRV77TuEZ03ORN7PLcR5ytzoRzQ4VFRnPf72LnoS2b1O1FWjqocITTxJnPuY6MB/UmNXUasbOH3+U7TQB5z2xutmTdulNMNm1P8KXMf8HHHvS9Qv4zcK6q4ORhKGRp8Z4ytNo6fTR7WiYKtr5RNNQ9M0NO0SYzPGe85mTIzPd3Hs5GHcNX46Qz2Ezr+Bt7oCRalkV/v3aRnLihFMJdxmYr9w6dSeeP33v0tI+4ROfy12pRL3a98wZb6xTW431gcj7v8zOn0voigO6lq74nU2uT7CNHJ7MZx4Pwqq08PBTiODnk4seom2miqUZJa9Tzl/uiFu52r+k4EUkbPcttwn3+TkLjcNb35ET08X7U012BUFxdFI1997ObVrD41vd9GTpd1tDlbTJggbRzHvq4B+SZ9m7KtetJ538VXbUGz1tH7Sk+hjevlqbLqM7JYxS/YKF2/0x22xUoHTc3R5i5q8+oOnzIxdQrOyYZqG9tUYM0ahFCyY8rF9pdtG9elLNFepKDvOEs6wlzrzw2fYrlSyu/M6hpeUXTA9JnrpNG5Vxe5JPGOnH49dRXW3cWXKPMyYxZ7pM4x01KEqCoq9Bl/gfPydntxPtdPJ8+pmEUzVPjp7tOVKmHKYF9npzF/v52/po7SLYwRrt6Go++gcfZT6NxYvSL/bR6NNwXZQ43bKe9aJzfxMJJr4v8UfCR18HsVxmODow2VjERtHa3SmKueNYv4HLvwtfYR8nkjwt6hplTXv5xYAndiERqNDRXWf5lL6qLP+iMl/DBOZ1wGdhcjHNDhsOBo+YtQ84m2kU1aep6F7jOUSNo++7+B4/+3l+mXUZ8VF6/BMyt8ahjd7SN5KzpGCUtVM/12jBRkZzBSL+lyEYCrZNjPPzdDR+HsIXjeNrC4woflwpJf1Zrcb60qukDyjHWzjRVc1quMlAhdvMGO2ZwtjdDdYlGdyQMOGo+FjIsnpXnPbctKojS/3F/pdBpp3JkaI82935c1q2gRh4yj0fRXTL7Fs28s6JC9RVrYduF7YhqM+wMXItMlvLLA/yCesuGjBlMP2lXQbfUg48BsUZSfNA3dTxbRhZ9XfEoyY5JylYNJZvBniYEY9NXwwG9tbh0yi0MqePeXB0Ju4VQXV/Qb9E49M9/OY230nqFqF5T+lIZhyHvnEjMa42+fDZjVtbPGCjMpra+zjbtZ69pTpgZNUWU45GpW1dDtWw7kr/LmFODMMt7qsjUE6+iR9R52ZxsHAcMQcx+mLGjXJVP8zRmgM42xnf2g85b+fXTDZ2BH4Z+qIlNFBpsyYmX+Tr2Aq3TZjjIaptUEi6ZmfFscI1tpTjfIWtRtrQz6CyULAALBItO84jqyhH8bgkJOjfZOJ3+ZqW8W1u/JmNW2CsHEU+L6K6pfYXIIpQ2jEKbg/WFPBlM32mZ+jFNvosmhLH0TUpy7S5FBR94eYWDFyI4u4ApL2PUUUWtgzPUp/U3V2f23LrmFa4VoZjqRVQT25TufuShR1F77zFwlHosxlxIEmHOZslfHJNdp3bivduF6rxpvXcwsAzA/Rul1FqXqdwRU6DUOcZhiHJEZa5e2msK0cddYUeppev55dMBUSXlfob0q1zRjhAdkc4TlG2j3W8ehbzW6sCfkJJkvnRb9FX+P2nE6BPhFiv2oWssvXzBS3ub7L3u7Km9W0CcLGUdj7Kq5fYpMJJuuBq4L7gzUWTJa2L+U5SrSN6hNoB6vSxI4xgVFNU380tXyt+tWEr2VdT3WejHSwc6V12iv5ayKY4tdYmLlLNPp/XAsewpavYDKtTUnOZKnV1J0Mcnl8Nv6C9XFC++0rzH6VXrYyfWGGO9Eok9eCeG3pjTeP5xaAZSds5bppGN9cdcGo66pp1GoTCqaSbTOGY7DCbLa5rWwxu7G25COYbOxsv0aGJDI6wlzOm/GukqOQudpWce2uvBHBtDko5H0V2y+xyQSTh/aRubTviugP1lQwZbF9Kc9Rqm3UIqLC6AOrTjIwnZaQxyrU3fC18o40y7RnK/prW1Yw6fNEw18SbP1DPLPRSo5I1oLSid0bYyD0LqeMjFeKshwnb1TG6mZCQ98RDoetj8i9Dc56tcRC9HsuBNs4VuPMNAIZjXeF596w5ygtrA2c5Zk5HLBc52xCwVSybcYoTxf+0GD2+wr/yD1jxmjT2431JB/BlEWk5HBCsp8jgikVEUybg0LeV7H9EptMMFnV3yL6gzUVTLnsTRm00fl/EthhQ9nZwcgTPSFe0kS4QdZQdxvV/k8YyvourhG5Z6wjF8GU30Podxg8sw+7UoXH/x59g9eITP7KzEKssJA8q0sv3GXsi9fii8b2h5jQ7zPY8gKKzUff3VJ1bWJMDQaosduwe/y81zfISGSCOzML6Pk4Glg99zrefilTSEheorGqe7u5aXnqY252H0BNCQHYhIKJUm0zS8wOvk5VeuhJLja13VhvnkEwGaOV6gG6b1qn+1662c3eFPslgikVEUybgwJD8orql9gCgqmI/kAEUw6MdaQe2kem47N3VgnYwLpfnb1CS5VawNr6HCF52RJgbD3BZMQyWix+K3QNU9ZbMhuKJ0z1+3GkLCYuMYw891ZpHfMUTMAmMZCrTDKbVh5JH5JZGldYXJvyfZkLJqPupfwmVrJtJr4I1Ybj6BdE87mxzWw31p1nEEzJznilpA/m70UwpSKCaXNQ4Psqql9ik/gDuTc3Lbg/eCbBZPium1UwgX5b46DNxs63e/m8cXv2NVmWSR8SCRvSk49kxSrpQ2KtaxZ/zSoJWjGUoWBSqWq+xLS5REz51/MSTLMj9H2Znr7RlDnFGJHJms4WjE22/nJ1A/dUMZzWjFjRp8yNvEuNmr4uI8/nFlhOdZklrXhsmsjFz/jq58csp7RUc6RvrcTddpUHy8N4RTluyVFD02ygvjDN/Uf57sNUiOE1MgWm/8aIW1Yyf1OybWaOSPcRizSyYGwy2/uXoeW9mDaz3Vh3nkUwgf7gKm3uyhxpxVVU95sMPXiadk0RTHFEMG0OCs9aWni/hGlW15xxb5779x+Vkc3KLZgK7g+S655So0QW7k/zyDgn23pL81YGm1QwGc+o7j3Age2O7FlGs6QVz5r+HuKbC/f2cDW5F5N1WnHDJ1F3nWVo2iS8YncZCtTGl6tsHcEEzH9P+65KFNPGkT3d79Di3YnNbmdbnoIpZbPXtnOJ67xFk6cKJWVk2GrDRNPGpcpzHNR+3kAjMstI+15URcXuOU579+doPd2ca/FSbduGfVtq483/uYU4j4kOvYvXoaI693Oy8xM07XO6z73GEbeDlP1a9IdEtD/GQ7MyNgisxN2sEUkxBEU6boZIVnfhO/dJ4v29aAotWE3nyJgxUnHUt/LppSHC312h7z0/nuoa6vbYLX5Twm0m9gsDbfuwKxVUe9/gfKgHLXSewIl6nKqK/WAPkzkE0+axG+vNswkmeMpcRKPZXWmxca2C6v4jWsQspEQwpSKCaXNQxPsquF+CZJY4pRKXr4NQYsPnqrLajmQlwURh/YFplkh1NXEu9Fe624/jqWpaDr1OprZ+jvrWv3Bp+Du+G/xv3vPvpfrf97EnY4ZjEwkmdObDZ9mxzY69Ikc4eq6Na9M3WNY+JRh4mTpnBYr992iTRlqMbBvX3uHKa4nNf1Pquhv37w7i2VozTBB3RAZ5z5+o0K46jvgDBC98z62b3/B+IMBZbSw1XM9yCnCe6PUBQudex1fviu/8bndR7ztD9/DtjMXY+sIEV7vPJM6twOn5Hf5AN1+NTW38wu3YLQbfa05UKhd1R5oJBL8kfOtHrrx/lsDZXsaMcL0Cn1uAeFKNMFrgOPUuB4riwFV3hOb2z7iSshEewCIzkct0GQlJVCc1x87QNRDJmJUo3nGLMTXUSaPbger0cODIq7SHrhCZMUZUVtk5it3iSkcTNc4KVKcHr+91zoWuEJm5z5jWQSDwIYMW0+gl22b0R0xe/ZhW335cdhXVWcNhf4Dur0ZNC3zZ/HZjXXlWwQTxzYEjDHSdSSS3qcBZ8wdauy6b6n76NUUwxRHBtDko9n0V0i/F0af+QUfjbuyqE8+Bxiz9XSmTh2CC/PsDAP1Xhjp+j9teidPzEkea2wldMZehTiz6dzp8e3GqFTg9Xnyn3o2fMzuKdjZA4P1BUwjgZhJMJAZzKzIjwMzkDHVfYmHyKt2tvrivpTrxHG4m0P01Y/fMET453m3sPqNfvIWvxolqrueW5V84GyiYBEEQBEEQBEEoZ+LrmDb3puwimARBEARBEARBKIJE8p1EavHNiggmQRAEQRAEQRAKZ/572ndtz5LJdPMggkkQBEEQBEEQhPyYv07oz+cJaX/lvP83qBnZmjcfIpgEQRAEQRAEQciP+TDn9jrjWZrdL/NxxhYamw8RTIIgCIIgCIIgCFkQwSQIgiAIgiAIgpAFEUyCIAiCIAiCIAhZEMEkCIIgCIIgCIKQBRFMgiAIgiAIgiAIWRDBJAiCIAiCIAiCkAURTIIgCIIgCIIgCFkQwSQIgiAIgiAIgpCFDRRMS8wOvEqFoqAoCkrOXYKXz63wDzD7DP8qCKvDPQb8ThSljmBk4Rmv9ZS58W8IthzG46xAsbuoO/ohI/ObfRs4QcjC7AD+CgVld5DI0rNcaDXb6Ub+hyAIgrCRlI5gUrZRGxxjcYVzRTAJpcFqOUlPmRv9iAZHJdXeNzgf6kELnSfw6keERTAJWxURTKvIApFgHYr0n4IgCEVTEoKp4qXDHKpSc8wyiWASSo1VcpIWxwjWbsPW8BkTMRFIggCIYFpVRDAJgiA8K6UhmPy9XO3ch5p1lkkE09ZAZ3HyW3q1CwxPlqLjYWZ1nCR9IsR+Veq1sJosMDl8Aa33WyYXy1SEi2BaRXRic/eJRqPcmVmgTGuEIBTG4iTDvRq9w5NZIpcEoTBKRDAN8DD6BUcd2WaZRDBtDYz37MQ/cG+jb2YFVsdJWooE2S31WlhVEnWz4lUGZp9JbWwcIpgEQXgWEjZE+lZhtSgZwTTLLCPte7PMMolg2hqIYBKEZ0cE0zIimARhSyKCSVhlSkgwgZ51lmklwRTPMtbV6qPe5UCxu6j3naHr8k/MZcQf6MyH3+eQ9xCv9P3Mk6lraIHjid+58bZ0MRx9bHG/OrEHP9DX8Qpe49zmd+gbvVDDsWwAACAASURBVE/sGUrh2dGJzUS4EnqXU779uOxq4jmCXB6ftQi/WGQmcpmu1j9Q46xAUSpwerz4WoNcGLmbeJb4NQe6znCsxomqKKhOD15fG8ELI0ylrLXJt1weEu48hvfQ+4Tnl4g9GKP/vRa8Ljf+gclkjL3l8cxO07PwlLmbX9Hu24tTVbG7vDR3aAxP3ORSVicpjzIxHMKM5y0HsVjOLPJg9AIdzV5cdlvifV5g9IExRPOY230nqFIq2RX4ltmMBvSUB0Nv4lYrcbdd5UFKU5gnGu5NXFtFURy46n20Br8kHJ1PbYux+4z2vUOz141dceDyvkJH3w88SGtb82O9nA2c5f3BX5iPhuntfB2f14NTdeDyvs7H4V+X69TSDYK7K7K0owp2B2+wofIp9ivh0J844nagqE5qfG/x30PfMpC0XQ72h8bj5ZRTMBVi781iZjrxfn6XyEa5m8bABSJz6RENhdrUUhdMRv9pUQdi00QGumg9thenqqCoTjzeJlqDXzIyZdUPChuOPsv45S5affsTNmw/vtYui7qZq8/dvH2MMQhpbQfNbdTwBY/RGX4IsfuM9X9Ai9fNdv9FxrSj2HIlI3tyjfadNpTtZxiWBE1bgpISTGSdZcolmB4THfhPauwqanUDp89/ihb6gNPenahKFTVtl4imOCHLnYfrmJ8j7n34Oz8x/UZB3dWRltJZJxb9mlPuShR7beL8d/F7qlDUPbx25c7GxYUbTpJaTd2JAMFQDz1df6KhugLFvp+O8LTp3p4y+91b7FJV7J7jtHd/jqZ9SvDtFo64Hdga+7irgz77LYFdlSj2Gprau+jReggF36LlyG7sNh99dw0XrZByMUa9X+Hijf74b5QKnJ6jdIbvMzN2CU37jE7fiyiKg7rWLjRNix9fjTGzIQX8lLmRd6lRFRSlCo/vTYKhHkKdf6Su2onz+QoLJynPMknEV/d0+qhWFGx1rXyiaWhlsX6rXHlM9NJp3KqK3eOnM9RDqNOPx66iutu4MpWo1/o03wVqUTPqsE7sdh9NVTYcDR8xana09YeMBg/jUCpw1vmX21bgZeqcFaj7Q0wYF4r9wqVTe1CVKjz+dwlpn9Dpr8WuVOJ+7Rumkn9o2CoVx549vOhItEeTrVJUD21D9+L3qE8z9lUvWs+7+KptKLZ6Wj/pSbSjXr4am944O6Xf4cpre1DVXfjOfYLW8yGt9c+hKCqOulc41/05mvY5f+m/wTzkEEyF2ntDzGxnj+cFHAm719P9Fk2eKhRFQa15lxHzuyzIppr/o8wEk1HPlSo8TW/R3aOhhYK83XIYt/05GvtuyXqnUiP2CwNt+7ArFcmsqqHzb+CtrkCx76Nt4BfTQGWuPvfhBj7E2qLPjPGVZtW3amjaJcZmjLZuimi5GE7Y5Pjg8MHOMI+mL9FcpaLsOGuRsVZnfvgM25VKdnde58l6P6SwIZSYYDLNMqVU0myCSWch8jENjlwOzPM0dI+xYPG/irKD4/23lzuFRMYyRXHROjyzfK3FHwkdfB7FcZjg6MPl82PjaI3ODR5heMj1C/2mEXIAncVIkFpVQd39HqNPEvem36KvcTuK7Sja7bQxk9g0/4r8yiIx7vb5sClVHNQm0jrMRWb+9RNRYyF5QeWSMN62Hbhe2IajPsDFyHTaLJSRzak0Zln0B1dpc1eiqHs41f8zC8kHNBxnNdNJKrCuSEjeeqGzeDPEwQxboROb0Gh02NjeOhR31sH0Ho8Supn4dGGM7obnUapO0HfbPPq+wITmw6FU4j71dZrDDvrCBP+4+q/Etee5GToat0vB66YZEeMaZtuzbKtU92kumWe+k/bNYoDHcPhLJiRP58noe+xWnTRq48k2r88O0bbDliomDSwFUzH23hAzme9GX4jwWaPTYkuLAmxqyn+Ul2DS7/bRaFOwHdS4nVL+OrGZn4lES/FZtjJzRLqPWNgO0OeuE2x4HsVxhO7IXOLTfPrczcvKfavRLrbxoqsa1fESgYs3mEnaiIeEA79BUXbSPHA31RfS7zLQvBNF/S3ByLzFtYXNSMkJJphhuNWFojg52jeZqKRZztUn6TvqzF5pDQHkOE5f1Oj8TIIpY+TAcNjty6EhPGV64CRVllOzRieaJrBKAUMcmTtxw5FKmSVKxyiD7SuMMBZaLoZToaBUNdNv+f+lJJhiTPX7cSgqVc2XmM4Z6mM4FoXXFRFM60TODm6eSPC3qGliVp/6htfclfEZiNl7iVkn04xO8udDtG7PtS2C6TYSo5ZqbZBIega7xTGCtXaTcFshFDnbAE/JCaY5Rto9FnYn2+dYC6ai7H0uMbMsgpSdHYw8WWHQy8qmrvgfpYC1YDJsjxFZIJQ2xmCype1I1mUVx9EviOqQX5+7eclfMFkMngNm+5A+qKBPXaTJoVoP9giblhIUTKaRvOTIaZbZqMQIWfZK+4SJ0CHUFOc/lxNiOOzmjiUh4NRDhCYsJl6fXKN957aNXx+QgWEszeLjEaOd+1CVSly+D+gPR4jOpRtRYzRYQXUd53z/d0SicxajUoWWi3E/uTYoLiXBZAj3F2gZvG/xvZWTVHhdEcG0TiREjbWt0Hky0sFOi/DK+IzGNlwH9uNS02cv4ufEQzNUqlqurPAOjXPNAzJmEgIiKRJWWrv5mJvdB1DTQ61KTjBlS0JhtHcLoWEhmIqz9yuIGX2c0H57nmLHyqbm8R8bTpaQvCfX6dxdiaLuwnf+IuFIlDnZC65EMSI/stkOlutycgAinz5381KIYLIWoYA+gXawKm2QxngX1TT1RyVsdQtRgoKJ5dHg5CyT1bmG85FPg1DzHLW1EEzJDjXbIkKltDYE1BeYuRMlOvlPgt6qjM49OXVvWgzurDtJ0Lxg2hTuY5ynOvdzMvgN40YYTMHlYhhvD+0jc1hTQoJpRUfKwkkqoq6IYFofjP2ucr8bq3pnJIFQqWrq43aGQ2k46fkkVTDOXeE+ksJiJcGU5fuSE0yrMcNUrL1fScwY3+eIEljBppatYOIpc6Mf0eBQl+ueWk3dyWzJLYSNYznyJnvfmF6X8+lzNy/5CyYbO9uvZVmHZBE1YvTzeUQUCJuL0hRMGbNMTy3OzSfVuNU5BQomw/mobiY09B3hcNj6iNzbsNhgfeEW4QvB5UxHKzmBsSnGBj7j3KnfJzLlKSgZcdGPuTd2mdC515OZ8hRFXV47UHC55ONUlLlgKqKuiGBaH+LlbKPa/wlD2d5L+BqRe2mZwYxkBVbriADrWelsGOe68IcGs9eP8I/ci2WfWTc9lYVAoAQFk858+Cw70ka64+GJNhxNF02JLhJkCKZi7X1xgqkwm1qugglAJ3ZvLJ6p0Pys6WswhQ0m2+xmrnNKvV6uLfkLphVs9/w/CeywJcN244NvaTZX2BKUqGAibZbp/3hoFZKXGDVW93Zz07K2GyEr5mnsQkPy7jPY8sIK6342Dn3q75ypqYpnZHvvvxkciTB5Z4YFPR8DC+gL3Bv7Gy3uyuyhZCyxcO8HvmjZYyrLQsulzARTckQv28iz1fMUXldEMK0Ts1doqVILXK+RSMSg1hL434u019hxNHxMZMF8gUJC8paYHXydqhXXB5rOzykSEjM06WE6JSeYlsPpFNVN49td9ITep6XuudSkGmasQvKKsvcr2J2lH+neuy3F9hVuU0vdMc3TMQT0hbuMffEabjVX6KOw/hiz09vY2/2j9TvMqMulXi/XllUTTMYaV8VD+8h0/D2o++gcfbRWty6UKKUrmFKyEr3L1S9fyTzXWOS70iLglO8LFUzG4n9zEopSwXCYfkMgI01onoIJyFeopBqgQsul3ASTEaecJemD5QLwwuuKCKZ1Qo/S31SdlhAgF0ZK+W3UdF5nIZllb1vG/ktGIoe8kj5MXaTJYTMtzM5FbhuZTP+fbv9KTjDF21JFzRt0GXu75dzXCOukD0XZ+/ySPixnvivGppa6Y5q/YIqfXmr1R0ipqzmTPpi/L/V6ubasnmAC/bbGQZuNnW/38nnj9uxrnoRNTQkLJkyzTNUcOrLP4lxjE0k1R5rZ9A0mCxVMLKcTtgxTiG+E+ZerG7EXk9G5Z6a91OfCdNRsS+vcpwn3/S+RmTSHMZlB7ADdN+eZDV/ky4z0o8uxvMkRroLKJR/jbYyipc4ILtyf5tEG2KakI6zWEhi6ayqPRaaHzrJLTd8Ij4Lrigim9SJHSmqIbyTb28PVxF5M8Qx523AcDHEz2TEa65lS02Mvpwq3SiuuE5u5wcWP/peflyBXamBjw+PevwwlQtRMWZzSU5kn93JSM8WXEU5qnjHW57l//9EGDfjE7Wpm+uocWKYVL8bem9KKpwvd5HpO8wBHoTbV/B+l6phmcQxnR+j70pxGOU4yk2PWmTxhQ9DvMdTmQc2VVjwli2ep18u1JTkjbZop1Remuf8ofR+mPAYSEj6SuvcAB7Y7sifeEDY1pS2YzGlfsyVX0B8S0f4YDyHI2MiwEnezlraTexGCCZ1Y9BJtNVUo6k68pz8gpPUQCgY4UVeNqjzHQe3nDWhAOvMjHXHHPbnJ7Od0n2vBW70Nu70ytXNP2ZDxDJ3dn6P1dNHeVIM96Xgtl4Gz7j9o6+yOX7P9OB67mjZCX0i55GO8jWxlCqqriXOhv8b/t6ppg8IhY0xdacOtKqbn+5TzpxvY4fZy2GO1xqmwuiKCaT2x2PTUtLmsYv892uQT0x5MPrSJtLpqOC1qLYHvTBuYxm4z1HEwsXHtH+kM9aD1dHPu1GHcdjV1/y2LzSe10HkCJ+pxqir2gz1Mpgkm9Xknzh3xe07ZdNVyXZXh9Ffi8nUQSrTxqg1LH22ELVbg9PwWr9ebOBo44m+lPdjH8M0HqQM02TauLdjemzeudeNuPEt3j2EjK8jcn6lAm5ryH6XqmOZOK6466znRdo7uHs1Ut0oxokLQ526gNf8G1WrjWvU3NGs3TEKq1OvlGvPkGu07bfEskOc+SdTtFy0yJucz85pYh7nNjr2iNJdnCGtPiQsmTLNMubLRLTITuUxX6x/iSQxUJzXHztA1EMkYPStOMCVuZWGCq91n8NW7sCsVOD2/wx/o5quxqQ3cDO4x0cH/wl9Xjao4cNUdwR/4kAvhn7l55UMCgQ60sWRONhai1+MLfH37cdlVFMWBq95Ha/dw0mnQF6JcH/iMc6eOUe9yoCgqdtd+fK1/YTjDOcu3XPI03vqvDHX8Hre9EqfnJY40txO6YvUe14tFHox+QcC3F6dagbPmD7R2XSYyc58xrYNA4EMGLUK88q0rIpjWmyUWJq/S3eqL123ViedwM4Hurxm79xj06fh+S5b7csRJhsKlz/ro80TDGoGmRNuyu6g78irtoSsWs7qPmLz6Ma2Jdqg6azjsD9D91Wgi4UP8Xpdt1dfcGv8maeNU5158gS/SNlc1XX7qH3Q07sauOvEcaKS5/TOubNimlY+JXjodH3jIlhlQfYHGbtOoeTbBBBRm72eX2+lklNG+d2j2uuNtss5PR98PPMj4TSE2FUrfMc3iGOrzRK8PEDr3esJOKSh2F/W+M3QP394yG5yWHbFpIgNdyYQkqnMvx1q7GMho36VeL9eaGFNDnTS6HahODwcybHGBoapPrtG+syLLvozCVmADBZMgCIKQnTwHlUoaI0qgEvepL7mZtu+bvjDNzyM9KySdEQRB2Fji65hybD8gbHpEMAmCIJQkm0EwGbP2ufaCMZ6zFJK9CIIgpJPIlJdILS5sTUQwCYIglCSbQTAtJ4upaf/WIvyN5QQWMsMkCEIpMv897bu2p+wjJ2w9RDAJgiCUJJtBMBHPYNd9jGq1AmfdywSCn6JpGprWQ+h8K0fcDhT7PtoGfpF1M4IglAbz1wn9+Twh7a+c9/8GNY9tI4TNjQgmQRCEkmSTCCYgnqjhCqH2VznscaIqynLCmeCXhKPzkpFNEITSYT7Mub1OVEXF7n6ZjzO2CRG2GiKYBEEQBEEQBEEQsiCCSRAEQRAEQRAEIQsimARBEARBEARBELIggkkQBEEQBEEQBCELIpgEQRAEQRAEQRCyIIJJEARBEARBEAQhCyKYBEEQBEEQBEEQsiCCSRCELcgSCzN3iUbvMxeT3TUEQRAEQcjOBgmmh4Q7j+H1eos4DvFK3//JBmIGswP4KxSU3UEiSxt9M3lQbveblXsM+J0oSh3ByMIGXkMomNgtrgRewqEoKMlNYZc3iV3/umn8dwW7gzdYWvHzzcZT5sa/IdhyGI+zAsXuou7oh4zMi5VfHUq1Hq3FfYlNFVaL1ayfpdoGhUIoPcFU58KuKCiqE88BEUwrUm4CpNzuNysimMqTWUba96I6DtJ+cYjwd1f48vKPzItgWjuWbhDcXYGiOPEP3Ev78ilzox/R4Kik2vsG50M9aKHzBF79iLAIplWiVOuRCCahlCmmfi4QCdaZBuKe5VpCqVFyIXlLkSC7FQWl4lUGZqVarUi5CZByu9+siGAqS+aHaN2upnVmG80WFkyLYwRrt2Fr+IwJCY1cI0q1HolgEkoZEUxCKiKYyp1yEyDldr9ZEcFUjhj2RQTTehJj7t4dotG7zCykPoU+EWK/WmrvY7NRqvVIBJNQyhRTP3Vic/eJRqPcmVkwRUKVahsUCkEEU7lTbgKk3O43KyKYyhERTKVFab6PzUap1iMRTEIpI2uYhFREMJU75SZAyu1+syKCqRwpTQddBFNpvY/NRqnWIxFMQikjgklIpUwFUyJpxKH3Cc8vEXswRv97LXhd7kSM/PIC7syO2IgxzVJxY/cZ7XuHZq8bu+LA5X2Fjr4feFCq8fVmAfLoFuHeDpoP1+BUVezuowT6bjCXcusrlZ3BIg9GL9DR7MVlt2F3eWnuuMDog8W0G1hkJnKF0LnX8dW7sCsqdlcDLcFvGJ97mvt+UwpfJxYNc0HT0Pq+ZXKhVMr7KXM3v6Ldtzdepi4vzR0awxM3uZS1Y9aJPfiBvo5X8LocKHY33uZ36Bu9TyzlPOnc1w2j3imZh2EjrJ13nfnw+xzyHuKVvp95MnUNLXCceuO9tnQxHH2c+X+xaSJX/sq5U8fi5yoOXN5TBC//lNYeIX/BtMht7Sg2ZRu1wTHSWyIAT67RvtOGsv0MwyWTNMGinmd9H1aJIYRnI4ezVlA9zWwLvYaNU53U+N6iL/IQHZ3Y1DW0gI8aZ0WOdmK+rzEeRcP0drzKYY8TVXHgbvxz4npWFGqXdWIzEa6E3uWUbz8uu5q4ryCXx2fLJImUzvxYL2cDZ3l/8Bfmo2F6O1/H5/XgVB24vK/zcfjXtD6Ggt9xbCbCQNcZjtU4URUF1enB62sjeGGEqaQftMhM5DJdrX+Iv2OlAqfHi681yIWRu5n3sG7oLEaC1KoKtsY+7uqp3z0Z6WCnYvUdyfWtam2QyKJORv2cvEq38bx51ekCBr/Kze/copSpYEp0wBWvcPFGP6fclYkGe5TO8EOKFkyxX7h0ag+qUoXH/y4h7RM6/bXYlUrcr33DVCnWXcPxcOzC86ITT9NbdPd8Tnf7cTx2FUXZRk1H2GQYVyo7gMdEL53GrarYPX46Qz2EOv147Cqqu40rU8vm0HhfqrOeE4HzhLTP6XrzENWqir32HcKzT63vN0Uw6cSiX8fvxXGY4Gi2TnK9ecrcyLvUqAqKUoXH9ybBUA+hzj9SV+3E+XyFdcdsPIu9Fn/nJ2ihd/F7qlDUPbx25Y7p2UQwrRuLkwz3avR0+qhWFGx1rXyiaWiaRu/wJItkE0zLHZ3rmJ8j7n2Jd/oBp7074w7Fro60FNjLNsZZ9zKB4KdoPR/xZsNOVKWK2o5/MptSwfPvZPXpSzRXqSg7zlpkkdOZHz7DdqWS3Z3XebL6pVgkFvU86/u4wPCktIXVJVv9Kr6euk++ycldbhre/Iieni7am2ri2W0djXT9vZdTu/bQ+HYXPTnbiXE9FceePbzoqKGpvSv1emodHSMzaf1BEXbZSDyiVlN3IkAw1ENP159oqK5Ase+nIzxdIn1OLrKUl6mMFdVD29A907MU9o712W8J7KpEsSeurfUQCr5Fy5Hd2G0++u7GgKfMfvcWu1QVu+c47d2fo2mfEny7hSNuh7UYWU+MQaOq1xlM8SHniQR/S4XTyXPJZzEwxJSNne3XErbTKG8b1Yd/z4HqvXnY/iIEUzn6nVuU8hZMth24XtiGoz7Axci0aVSjGME0z83QURzK8zQEr5sExgITmg+H4qJ1eGZ1H3Y1MASIuodTl35JKYOFm3+l0aGiqL8lGJlPfL5S2eks3gxx0GHD0fARo8lZIp3YhEajw8b21iGMqzH/Axf+lj4SEjdMqpXjZiGY9AdXaSs5sWS6L3UPp/p/ZnnSSyd2u4+mKjWzY178kdDB5zOfJTaO1uhMG/kXwbTe5AoByy2YFBRlB8f7by+/00SGNyXDNujMX+/nb+kzisb56j46Rx+Z/7mATvYh4cBvUJSdNA/cTW0r+l0GmnemtfdSIHs9l5C89SBb/Sq2nsZnAhu18eXfGXWvoHayfD3VfZpL5tF6/RE3PzuGQ1FMI/6Jr4qxyzzk+oX+tAiJ5dkIdfd7jD4plZ4nG7nK6yGjwcPx8kpx4gt5xzHu9vmwKVUc1CbS+uFFZv71E9FFHfRb9DVuR7EdRbudNs8dm+ZfkV+tZ7/XjRmGW10oiof2kbnlj/VxQvur2PnyyxyyvUDL4H3TbwyfxVxHTfU9XYiuWKfzFUxl6nduUcpbMCkKSlUz/XfTJ4ALF0zGyG26cQYSjcOeKhRKhZxrggwjYB41WaHscjpdievlEe6j3+2j0WZxX2n3q89dJ9jwfJaRxI0kxlS/H4eiUtV8iemMG7NyAp8yPXCSKsuQKaNzNhtAEUzrzTMJpoxZHcOW2NkfGs+j7hoOSb6dqdXnppCTgxq3zaPDUxdpcqio+0NMlE5DQgTTRlPo+omV6qlVWyimnaxwX0mn1Oz4FmOXc2A4/2Vhg3P5NeRw4q2wesfGe9pOY9+t7PbMmK3LmKUpFZaYHXydqhS/x/BJnPi//B/ad1ak+nP6OKH99rRZKZNAzfALC63T1p+Xrd+5RSlzwZQtlr9QwWSEsmRzfOYYafeUZqKCFZIoGGl7l79foeyMOF5Lp8uYts6jczHuK/09mu/3oSGW0mfHSgFjlCp9JMrAqmNO/EY9RGjCIiDqyTXad24z1TsRTOvNswimgtdDZv57lmsVOCqpT6AdrEob1DAcoGqa+qMlNPAAIpg2mkIF00r11GoNSK7vsrWTle7rCROhQ6gp3xdjl3NhnF8Oa+dWEEw85mb3gbTyKuRaOk9G32O3qqC6jnO+/zsi0TmLfvkRo537UJVKXL4P6A9HiM6VVu9tDNiqe7u5uQRJ+6geIjQRZbDlBZSdHYwkZhWN81PrbjG2v7DBr7L1O7coZS6Y0qZcl69SYEU3DLP1ovDkUYqZ+1bKOmd8n5wVyl12SYGVsyyydy76wgx3olEmrwXx2nIIJvfLtB7bEb9eRtx1CWCMOGXteC065uRvcpffcp0UwbTebIxgWmJh5i7R6P9xLXgI27MKJquZzOQI6UkGpi2SrWwoIpg2lnwFU7711Op9raZzmf69ujzKXoxdtkJfYOZOlOjkPwl6qzaJYFrp+/g5Od+xKbTP6K9U535OBlOTOCUjQ5LnVeCsO5klkcQGkAwbNGbB7ptEkiGeDtB98zHL9jR9Zi1X/VwNwVTGfucWpcwFUzajWKjxNj5z4Q8NEg6Hsxw/cq/UspYULZisyy5e/jaq/Z8wlLUcrhG5Z8RPL7EQ/Z4LwbZkVp2cjT0lO9YOfP/1Dr4qFdX9JkMPSsjRK6ZjNkIVqpsJDX2XvR5F7iVG7UQwrTfrJpj0eaLhLwkms0hlE83m/yjAoZz/J4EdtuQoaXygQy3R8A0RTBtLjnpUVD0tT8GkL9wifCFI67G9ODMGBTeTYEqzAwW9Y4DH3Bu7TOjc66Y+XU1b0wzEphgb+Ixzp35vum76WpyNwhAjiZnIJ9do31mZDNGL20tjZidbZMhaC6Yy9ju3KCKYjPMHX7cYYSgDVhBMSze72asqphC7Fcpu9gotVWqemW5iTA0GqLHbsHv8vNc3yEhkIr7D9UoheUnDGuNufzNVSiXutqs8KJnCN0I/ssWDW5VjYhQr79huEUzrzboIJv0Og2f2YVeq8Pjfo2/wGpHJX5lZiK1OSB6wvD7RQ/vIdNw5yFikXyqIYNpYsoV2FltP10swGSFm5pClYuwy6FN/50xNVTxz6Xv/zeBIhMk7MyzomykkLxHCZS6vgt9x5n8u3PuBL1r2pL2HNPQF7o39jRZ3ZfaQ9HXFWOsZX8e0cLObvaopjHPpR7r3bov7OY/jWfUy1xGttWAqY79zi7IFBZNhVNIW301dpMlhw3H0C6LlVHPzSvpgzla3QtnpUfqbqlEcx+mLrpDrxkjfaZXieAXBlCLI9Nv0H99RYqF5xpqQLIuLLRcLGwuSnRztm8zjOUQwrTdrL5iW09PuCPwzbbZnldYwJdBvaxy02dj5di+fN263XjhcEohg2lis108UX0/XSTDlzORWiF02+vzfEEhunWGweQRTMiV4cm1jMe84yz/n1U6N91wiZZnwT9S9Qf7xNx+2lIHMRJ3YfoZ/XO9ir5qaICLOWgumMvY7tyibVDAZi+kyG3hyH5OMCj1HpPuIRXrH+PViD36g9y9DpZcTP5lWPF1sPGVu9CMaHGqa+Fm57BYiH9OQkVY8Qew+o709XJ2KmfY7SF83YdonI4tgyngvdy9yvMRC85J1Ra0lMGTejG+R6aGz7FKVzHJcGKO7wSKteOJ3D0Yv8Jerxl5MIpjWm/UTTBYOnT7DSEcd6ioJJiOjpbr3AAe2O/LM1LcRiGDaWHIJpmLq6WoLJiXT7ifX0qgZzmThdtkQTJmp+PW5MB0120rHyc/JcnkpVSfou21KuXfGhQAAGIJJREFUK57cy8dcXoW+4yVmwxf5MmWbETCvmdzb/SNLTBPu+18iM2kDqskMu8baoI0mMRtp+3eO/G5HWiIrw0f08McWLzbLGcu1F0xl63duUTapYFpOsas4fkvrp18zHP5/DPa9h9/j4t/rdlmkTAVivzDQtg+7UkG19w3Oh3rQQucJnKiP7yZ+sIfJUqu45o1rXYnNAnu6OdfipVq12p8pHyf9MdGB/6TGrqJWN3D6/KfxjekCL1PnrECx/x5t8gkwy0j7XlTFtIGd8d+2bdi3qXkLJnjKg6E3caulFJoXY+pKG25VQVF34j39ASHtU86fbmCH28thj1UsvU4seom2mirTb3oIBQOcqKtGVZ7joPazCKYNYl1C8ua/p31XJYpSldhIWqOn+x1avDux2e1sWy3BhM58+Cw7ttmxV5Rqil8QwbTRZKlHRdfT1RZM8Y1YXe7f83b358l7UBWL/YaAwu2yzvxIR1xIJTdk/Zzucy14q7dht1eWnWBSn3fi3BHvm3u636LJUxVP0JBeXgW9Y/Mmt/9BW2d3vJzaj+OxmwZeUzYBPkNn9+doyc2GMwXuxmGEvFXhdG5PiL1l4sJ7G05nlcUmt4nfr7lgojz9zi3KphVM8JjolXP4apyoqhOP18epc3/lSuQ+s2O9nA2c5f3B25kjsvojJq9+TKtvPy67iuqs4bA/QPdXo6W58G5+DO1sgMD7V5ic/oG+jlfwuhxxY+Z/h770DevydtKXWJi8Snerj3qXA0V14jncTKD7a8bumUe2bjH4XnNCSLmoO9JMIPgl4Vs/cuX9swTO9jJmDtfLKpgA/R5DbR7U9I0PN5RFHox+QcC3F6dagbPmD7R2XSYyc58xrYNA4EMGLUIX9YUJrnafwVfvwq5U4PT8Dn+gm6/GpgoUr8Jqsj5JH3Ri0UHe8yc6PFcdR/wBghe+59bNb3g/EOCsNmYKkSlWMJGY5a3IsidNqSCCaWPJVo+KraerJZh05pN98c9Mj16go9mb6Hfr8XdcSNto1kyhdvkx0cH/wl9Xjao4cNUdwR/4kAvhn7l55UMCgQ60sVKvgeYy/ppb49/QlUjkoDr34gt8YVFehb1jfSHK9YHPOHfqWLzfV1Tsrv34Wv/CcNSc6Ok6A6F3OZXwkxTFgaveR2v3MNES8pOS+0FaZQVOhm9apcKHdRNMUH5+5xal5ASTIAiCkB/xdUyyG7wgbH4KW3ckCMLqIoJJEAShLEkkdTFtwCgIwmZFBJMgbCQimARBEMqR+e9p37V9efNaQRA2MSKYBGEjEcEkCIJQLsxfJ/Tn84S0v3Le/xvUjAyVgiBsTkQwCcJGIoJJEAShXJgPc26vM56Z0v0yH2ekrhcEYXMigkkQNhIRTIIgCIIgCIIgCFkQwSQIgiAIgiAIgpAFEUyCIAiCIAiCIAhZEMEkCIIgCIIgCIKQBRFMgiAIgiAIgiAIWRDBJAiCIAiCIAiCkAURTIIgCIIgCIIgCFkQwSQIgiAIgiAIgpCFLSyY7jHgd6IodQQjCxt9M+vD7AD+CgVld5DI0kbfzGaj2Pr0lLnxbwi2HMbjrECxu6g7+iEj87Id6ZqhzzJ+OUjL4RqcqordVcfR4AjzG31fgrDVKJs+aQv6C8IzYGwyXMHu4A1KumoLeSOCaSsZwLLpnMqRLPVp6QbB3RUoihP/wL203zxlbvQjGhyVVHvf4HyoBy10nsCrHxEWwbQ26A8ZDR7Goe7Ee/oDQloPoWCAV4NhEUxrRc42IGxpyqZP2qT+grTN7DxT2Yhg2oyIYNpsBjAXZdM5lSNFCKbFMYK127A1fMZETATS2qOzGAlSq1bREPqJ2EbfzlZBnDIhG2XTJ21Sf0HaZnZEMAlpiGDabAYwF2XTOZUj2epTjLl7d4hG7zKzkFro+kSI/apChX+A2fW92S3KEyZCh1DFOVhnsreBzYnO4uS39GoXGJ7cIn1LsZRNn7RZ/YWt1jYLIUfZLE4y3KvROzzJouVvRTBtRkQwbToDmIOy6ZzKkcLr01IkyG5FBNP6sUAkWCejqcIaYzhLUs9WpGz6pC3oLwjZSdTb7H23CKbNiAimrWQAy6ZzKkdEMJU+IpiE9UAEU96UTZ+0Bf0FITsimLYkGyiYdGIzEa6E3uWUbz8uu4pid+NtCXJ5fJbMFR0PCXcew+t9nb7JOaZGegk07cdlt2F3NdASHCJquQ7kKXM3v6LdtzeREctLc4fG8MRNLm0aA7jEQjRMb8creF0OFEXF7tqPrzXIhfAtFoxiydo5LTITuULo3Ov46l3YFTVRpt8wPvc08+9i00QGumg9thenqqCoTjzeJlqDXzIy9ThxUvz9DnSd4ViNE1VRUJ0evL42ghdGmCqbNTs6sQc/0GeUrd2Nt/kd+kbvp62BydahWnxuvAcl/RAHa20wOi+LMq94lYFZU2PQZxm/3EWrz7At+/G1dlnYpIQ9OvQ+4fklYg/G6H+vBa/LLe8wg2xtI92m/42OZi8uu4rq3IsvcIHI3FPgcdzeJ214Nns/y5jWQSDwIYPRh0TDf6PzlA+vx4lqd+M99RfCSfuUTjxbZVerj3qXA8Xuot53hq7LPzGX8jc68+H3OeQ9Rmf4IcTuM9b/AS1eN9v9ffy/YJ1Fu04cGyYKjHs+xCt9P/Nk6hpa4HjiOd14W7oYjmYpl7zbAzAfpvOQF+8rfUw+ucuI9mea6l3YFQcu7ymCw7cz1w3mFEz5vpO0W164Rbi3g2avG7uiJH7XRvDC90SToVWF+h+lIJhy1T3DcS+wL8/6XIvMRC7T1foHapwVKEoFTo837lOM3E17j4s8GL2QaLu2hI91gdEH1sFqa4uxTlXB1tjH3bS2+2Skg52K1XfA/BCt21XU2iCRRR2rsjEGOa3buLkMzYJpjEeTV+k2ynKlNieULBsnmIwFdWo1dScCBEM99HT9iYbqChT7fjrC02lGy6i8uzh28jDuGj+doR5C59/AW12BolSyq/37tExXT5kbeZcaVUFRqvD43iQY6iHU+Ufqqp04n6/YBILJyLSmojrr8bd30ZPI/HWirhpVPURo4kn81Cydk2EEVGc9JwLnCWmf0/XmIapVFXvtO4RnTYZWn+a7QC2qUoWn6S26ezS0UJC3Ww7jtj9HY98tdECf/ZbArkoUew1NyXt6i5Yju7HbfPTdLYcl9zqx6Necclei2Gvxd36CFnoXv6cKRd3Da1fumOpoAYIpEf/c0+mjWlGw1bXyiaahyZqHNcJYU/IZnb4XURQHda1daJqG1vstk4uJtxj7hYG2fdiVimTWwqR9se+jbeAXk6OQeK8Vr3DxRn+8jigVOD1H486MYGKltrGHk283s2vHId7s+pye7rdo8lShKCqOg0H+/uUb7HL/nre7/7qCvTeut509nhdweI7TnvIbBdX9JkMP0h3Hx0QH/pMau4pa3cDp85+ihT7gtHcnqlJFTdslkzgzzR5dDHPp1J7kYNDBzm+5NXYJzaqeaRraV2PMbMg40bLz5jrm54h7X8KWGc+ooO7qyNzKoKD2wHL/4jrKySMeavzvEtI+5fzpBqpVBUXdS/tI2nh8VsFUyDtZRp+7TrDh+bhf4X870T+dJ3CiHqdqZ39oPG6zi/Y/NtJfyFX34lk+C+rLAevnesrsd2+xS1Wxe47T3v05mvYpwbdbOOJ2pImNx0Qvncatqtg9CZ+s04/HrqK627gytQH9/JNrtO+0oVS9zqB5MIx5IsHfUuF08lyGD2KIKRs7268R95gyy0afGeMrzarv1tC0S4zNGOVrvCsb1Yd/z4Hqvfm1OaGk2cAZpodcv9CfNgqxPDqg7n6P0SfmymRUXgWlqpn+ZGVf/o2y/QzDpgqoP7hKm7sSRd3Dqf6fl2da0Ind7qOpSi1zwaQTm9BodKio7tP/f3vn99rGlcXx+QPmRY9+MBiEQA+BJQg/2JQiPzS0GFyziwnZFpOUFie0RcmWtdkSp6Vr+2EVFmy2drZb01psu8o2ot042STdOKztYkOrJTaNKUqbhJhEaey4anCCEque7z5o7mg0mjv6YcUaOd8P3IdEP6yZO/ee8733nHNx0bpioT3A8lfzSIh7IjNOD7/FmS++xU95Big7uahKI/aMLeoTCKDdncRBjwLPgRhuW1ZvMqkbSCTTADK4OxmCR/HjQOymxfBsIPX9D0hu1MFEsXEV0QO7ofhew/iVn3PXkbmO2MGA5XkrQzDpMCRvu3EKyVtHItIDn7Ib+8cX81awDSfM14NIYl3/X71fPS0IPtME394wziXWWHnPlmJjQ4HiCyF2M/eatnYRfX61rPk+932NaDv2ZZ5DbfRhgdDSkE78Hft9Hvj2f4wr5lV4UYJe2Y39kSXoa8y6I9SEZ4PNUH0vIXzuO6Ty5k63hX6ad1hbcOT87dxcplfqVJQgBuZTps+UOx5g2jlX4T9yzuRUC1uiYtfAXL7ItbVJ5faJjpiX1Rdw7KJFzGET6eWvMWv83kr9DzcIJodnrwxbnsXmurRbmDy4C4rnEGK3LbtEmTV8n/hRL3SgYeNaFAcK+kn4JZ7C/t4WUpgfCEJR2jG8YHo+teuI7vOj9a238IrnGfTP3DN9Rtwj8zjYiu02jTm1HYNzqyWMOeJ23JfDJAar1Lh60BL+On8QGqtFpt0UZLByvhc+RYW/7yLWCvxzN0yAW0VMDK3om7prE0Zgocx4cSGOzO8XE4XtlraBcBh2GTtO9ccvWJs6Cr/ShBfHlyyVcIRhLWVypWByD3JHVkuexiGfORwj71W9v1X4Dp1GUgPkCzikkGJjw2ZOL3u+N3/GTqhIhJa2jMlDASjqbzGesHHthHPjO4LJ5AYcxYeBiwVTy3HLGW/it5p2X1DJeIBJMD2PsGWX1dj52BfFTfPX2dmksvsk+5sezg9hl9Tel0hR/8MNgsnp2bPHzpZnsbkuMb6KRYJodzHV1yrpJ12AFCxqbAebuD/zLvx5u0XiHgTQe/bfGG5tyBdz2nVE93ktu1LVEUyFY8h+zBH34z7BJDV6DsbQqJdvfrCFmLCuJFi/r44Fkx5zW7j1LKHcBFvxfnOex+NFjO1phKI+h9CH5xBPJLFeEBqh4fGVE9ijKlCDR/Dh+W+QSK7X2eq7/vwUOGU6jy9juLXJlNBJweR+ZI6s2BF1MGDCoBpOhOhXO0FN8ik2NuwWVhxes53vzZ+RCJXNq4h0NuWH2OiOZIEjbyBK0Yvf4eQICdwrmArnGvFbzcnplYwH2NsL8QtE7ofV9tjYpPL7BChu70ulmP/hDsEkf/YkSPvG7roe4MrYb6AqjQiGPsD5eALJdRvrLXJ+bPtJhLjV5n4Zz1BnBNc2AeOZVl9B9GYSM/3PQGkdwYK+i2hEzuQtBFdHMJU25kg94B7BpKWRupNEcvlrjHf7ty6YxIQuHbBumAC3hjjHp2wBVOT9WjqFO8kkli+Po9tjnWRzOVNGsqPajK6jlmRZI3QilxSpBvbh6Lgs+dRlGM+PLMEz23KTIQWT+5E5ssLZcnJwRT+KXUXxb0vYB7Gh2Niwu+/lLpAV+z6718WuRCmOjwgny+UmmFev86l3wVTJeECVBFMlfYIS7H0RSvY/3CCYnJ69fJxtOSC7rlwIq7B1DQh0HcW4qeCG4X842sgajQEjrFAI+nsmkSTE08uIXHuEXDSJdXGmGoLJThRRMNUrNRVMWvoW4mfGc9XWHAcaBZMVqRGSIRVMm0gn/4cz44NGRTvHSmLQkFldwlT0fRwz95011wePsLp0CdHRd03fqxbGpbsR8Uw19yE69w3i8bh9S6zqO2cUTO5H5sgWc7Tt3lP/88f24TbBJJx8JyFh/DHLe0opF1zvgqmS8YAqCaZK+gQOz4ScyvwPNwgmp2evXFvucF2ZFSxNncTosdf1SnkKFFNOW7ZPPWju/RRzMvsYv4zEai2qwYldSH3H8fFlDLc2GkIzK/bEDqosmoSCieRTM8GkrfwXQx3+bPWxE//CzEICy3dSSGvVDsmTJda5YQLcIlUJyctgZSaMDq8H3vZenJicwULiJu6k0tAcDKAZLX0XS6ffQZvqFEaxifTqtzjd/wLUuojd1VekSq7oR8HkfmSOrDCuTeiMXLU3YCKcyzCqO2D+2DZcIphE9SyTYyRWyXOhO1Ye4VrkZdOc9TQIpkrGA6oXkld2nwDlhuRV7n+4WTBVYstLvC4tjdWlL9Df1pjr8/vT6PerRfKZa4XIs8vuxqWvRdCpmp4N/fn1HJzE3UfZeaEwzJGCieRTI8G0joXhdtglh1Yvh0nEYUuSQKXJnXWESLrcStEH4UQUJAPD0QAWIPqgyHvrRySIoiEBHJpcLkHcUTC5H5kja6qO5Zjkrjie0UFkuEEwiVLJlj4WBQSKFRgwXn8aBFMl4wFVE0zl9wmQC6sqpejDVvwPFwumimx5Oddlea61JM4fbrYU33AR+v1QO8fx1RchePIWP/VnYNcQvlqcQKdqF+ZIwUTyqbFgKnT0tfU4RjqaqiCYTKVp1RcRnjMftraBtbnjeE61HjZWb4iynpKy4pk1JM6dxIUb+v87CSb/UUytmcPkTGdYmSfZ+wuYPGsto5u719lVwU3cj5/D2YIyy7nKc9KVSzeRXkJkv01ZcQDisL5PZsVZTBRM7sfBkdVWMTfYDtWpjHJeeVg3OFD1wnYLJhX+w5O4bcxRpvPUChZAfsFPc39Cm2oTKmzkYTaibXAWP2UP8ClBMIkdGvMOyCbS99bwoKbnMJWRgF72eED1BFPZfaIjjoGwLSu+gVTiAj6+cAObW/I/6kAwlWrLAdhf1xrik/9BImURQUZVPJH741D+HQAy93Dl81OYrcVZTACMXUfPr9Hzaosl+kXkyrXj7f5ueGwjkeR9buyCmr5TS6/h3gPrOUwUTDuJGgkmDQ8XRrKCxTjY9DNERvvR3dwEr7exKoIJyGBlehBtqgJFbUX3Hz8wDtJraevGa+1bSBJ1DY+QnHsf3T41W1Rh7FPEYp8hMvoOetp8sE3KzTNO97Ew3AlVMR1SdyqC0f5uNHua4G1S8ybZvIPxBkcRORUzHTQpnJHchBDo+h0GxyLZ/h0+gnav6t4VqQI0ZJIXMdjhNz0/pkOBlV/hQOwGBVPd4Lzyr61/h1jf81DtDupUn0df7DuT4+gGB6pe2G7B1IDdgQBaut/Dh9F/5uYdm/OZAADaz0jE3s6GFBccktqItr4YEuulOELGF+oVwhSowcMYFb/Bf7hGB3ZXVrGrvPGAKgomlNknxoeQSc5ipFs/uPboKKKxGE5F/oJjPXvgNYpEbMX/cLFgKtOWZ3EoK642o+v3QxiLfIbYqQkMH+6AV7GUkrc7YDj2D4yH30JXoAGK93XElkspT/EkEOXF/QgEdhUs0mYXeZsQCPglaQ0OfW6E9z6H0Oinug/0rKloBAXTTqSGRR8eITnzN/R2NUNVfAh29aA3/BHOxG/g2vRHCIdHEFsyT+2VGFAguxNwGuFQJwJqAwIdb2Bg4hISqXtYio0gHP4IM3XhvDuxiXQyjlj4CPYGfVD0+9k3fBLT5l0emXHK3MLMiT59gguiq6cP4fGziN+6ium/Hkf4+OdYMs4teYjk4hSio+8itDcIr6JA8QaxNzSEyPxt429p6SQWp05i9Nib+m9S4Q3uQ2jgE8xbd8Jcjpa+idnIkH69DQi0v4recAQXllZMq5gUTO6nhFCpzBoSUxNGIrga6MSbAxOYKtgtdYMDVS/UICTv4g+4fkn0YwMCHSGET1sP9DSzgVTiEiYG3sgmuKsBdLw5hImphGU3vRTBBED7EXMjr6PN24hA+0vo6RtGdNr6XdvFFkoclzweUF3BBKD0PslHS99CPPZnHN4bhFdR4Q122dz/Sv0PNwsmlGfLAdhf1ybSycVsUafQPgS9atan2BvCQGS+cMEBm0gvzyIyEMraejWA9tf6EI58iaWaFHzIYZw/ZVfN1EjLkJ0r6dTnGazMjeFgmw9qoB0v9/wBw9Fp064cBdNOxD1lxQkhhJCKKaW6GyGEEFI+FEyEEEJ2ABRMhBBCngwUTIQQQnYAFEyEEEKeDBRMhBBCdgAUTIQQQp4MFEyEEEJ2ABRMhBBCngwUTIQQQgghhBAigYKJEEIIIYQQQiRQMBFCCCGEEEKIBAomQgghhBBCCJGwZcHExsbGxsbGxsbGxsa2k1vFgokQQgghhBBCnnYomAghhBBCCCFEAgUTIYQQQgghhEhgDhMbGxsbGxsbGxsb21PbKhZMhBBCCCGEEPK0Q8FECCGEEEIIIRIomAghhBBCCCFEAgUTIYQQQgghhEigYCKEEEIIIYQQCRRMhBBCCCGEECKBgokQQgghhBBCJFAwEUIIIYQQQogECiZCCCGEEEIIkfB/hVFjlOtaZNkAAAAASUVORK5CYII=)"
      ]
    },
    {
      "cell_type": "markdown",
      "metadata": {
        "id": "Ju8gD11zeDEs",
        "colab_type": "text"
      },
      "source": [
        "\n",
        "\n",
        "*   Each identifier is implicitly associated with the memory address of the object to which it refers. \n",
        "*   A programmer can establish an alias by assigning a second identifier to an existing object.\n",
        "\n",
        "Continuing with our concrete example, we consider the command:\n",
        "temperature = temperature + 5.0\n",
        "The execution of this command begins with the evaluation of the expression on the\n",
        "right-hand side of the = operator. That expression, temperature + 5.0, is evaluated\n",
        "based on the existing binding of the name temperature, and so the result\n",
        "has value 103.6, that is, 98.6 + 5.0. That result is stored as a new floating-point\n",
        "instance, and only then is the name on the left-hand side of the assignment statement,\n",
        "temperature, (re)assigned to the result. The subsequent configuration is diagrammed\n",
        "in Figure. Of particular note, this last command had no effect on the\n",
        "value of the existing float instance that identifier original continues to reference.\n",
        "\n",
        "![image.png](data:image/png;base64,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)\n",
        "\n"
      ]
    },
    {
      "cell_type": "markdown",
      "metadata": {
        "id": "7uKqscDqfNM-",
        "colab_type": "text"
      },
      "source": [
        "Many of Python’s built-in classes support what is\n",
        "known as a literal form for designating new instances. For example, the command\n",
        "temperature = 98.6 results in the creation of a new instance of the float class; the\n",
        "term 98.6 in that expression is a literal form. We discuss further cases of Python\n",
        "literals in the coming section\n",
        "\n",
        "Yet, another way from a programmer's perspective is to indirectly create a new instance of a class is to call a function that creates and returns such an instance. For example, python has a built-in function called sorted which take a sequence of comparable numbers and returns an instance of list class containing those elements in sorted order. "
      ]
    },
    {
      "cell_type": "markdown",
      "metadata": {
        "id": "-0d9IRk2jKMU",
        "colab_type": "text"
      },
      "source": [
        "**CALLING METHODS**\n",
        "\n",
        "Python’s list class has a method named sort that can be\n",
        "invoked with a syntax such as data.sort( ). This particular method rearranges the\n",
        "contents of the list so that they are sorted.\n",
        "The expression to the left of the dot identifies the object upon which the method\n",
        "is invoked. Often, this will be an identifier (e.g., data), but we can use the dot operator\n",
        "to invoke a method upon the immediate result of some other operation. For\n",
        "example, if response identifies a string instance (we will discuss strings later in this\n",
        "section), the syntax response.lower( ).startswith( y ) first evaluates the method\n",
        "call, response.lower( ), which itself returns a new string instance, and then the\n",
        "startswith( y ) method is called on that intermediate string.\n",
        "When using a method of a class, it is important to understand its behavior.\n",
        "Some methods return information about the state of an object, but do not change\n",
        "that state. These are known as **accessors**. Other methods, such as the sort method\n",
        "of the list class, do change the state of an object. These methods are known as\n",
        "**mutators **or **update methods**."
      ]
    },
    {
      "cell_type": "markdown",
      "metadata": {
        "id": "Wvngk0rXQBCr",
        "colab_type": "text"
      },
      "source": [
        "**Python Built-In Classes**"
      ]
    },
    {
      "cell_type": "markdown",
      "metadata": {
        "id": "VhRUsOlilF-c",
        "colab_type": "text"
      },
      "source": [
        "\n",
        "\n",
        "```\n",
        "# The bool, int, float \n",
        "```\n",
        "\n"
      ]
    },
    {
      "cell_type": "markdown",
      "metadata": {
        "id": "bFYG_XGeIU4f",
        "colab_type": "text"
      },
      "source": [
        "**The list, tuple and str classes**\n",
        "--> The list, tuple, and str classes are sequence types in Python, representing a collection\n",
        "of values in which the order is significant. The list class is the most general,\n",
        "representing a sequence of arbitrary objects (akin to an “array” in other languages).\n",
        "The tuple class is an immutable version of the list class, benefiting from a **streamlined\n",
        "internal representation.**\n",
        "\n",
        "--> The str class is specially designed for representing an immutable sequence of text characters.\n",
        "\n",
        "--> Python does not have a separate class for character, they are just strings with length 1. "
      ]
    },
    {
      "cell_type": "markdown",
      "metadata": {
        "id": "IMquqShTPMZG",
        "colab_type": "text"
      },
      "source": [
        "**Containers are any object that holds an arbitrary number of other objects. Generally, containers provide a way to access the contained objects and to iterate over them. Examples of containers include tuple , list , set , dict ; these are the built-in containers**"
      ]
    },
    {
      "cell_type": "markdown",
      "metadata": {
        "id": "tju6z3EzJXjJ",
        "colab_type": "text"
      },
      "source": [
        "**The List class**\n",
        "--> A list instance stores a sequence of objects. A list is a referential structure, as it\n",
        "technically stores a sequence of references to its elements. Elements\n",
        "of a list may be arbitrary objects (including the None object). Lists are\n",
        "array-based sequences and are zero-indexed, thus a list of length n has elements\n",
        "indexed from 0 to n−1 inclusive\n",
        "--> lists can dynamically expand and contract their capacities as needed. "
      ]
    },
    {
      "cell_type": "code",
      "metadata": {
        "id": "wxs4xpzvRoqP",
        "colab_type": "code",
        "colab": {
          "base_uri": "https://localhost:8080/",
          "height": 167
        },
        "outputId": "61ee254c-0bc2-40df-9872-f4ae936375b0"
      },
      "source": [
        "empty_list = [ ]\n",
        "print(empty_list)\n",
        "\n",
        "empty_list_using_constructor = list() #by default\n",
        "print(empty_list_using_constructor)\n",
        "\n",
        "list_of_literal_strings = ['red','green','yellow']\n",
        "print(list_of_literal_strings)\n",
        "\n",
        "list_of_literal_numbers = [456,67,23]\n",
        "print(list_of_literal_numbers)\n",
        "\n",
        "var = 42\n",
        "list_of_mix_types = [var,'hello',22,'xii',76.8 ]\n",
        "print(list_of_mix_types)\n",
        "\n",
        "a=42\n",
        "b=65\n",
        "list_of_identifiers = [a,b]\n",
        "print(list_of_identifiers)\n",
        "\n",
        "# list accepts parameters which are iterable in type. eg: strings, lists, tuples, sets, dictionaries\n",
        "original_data = list('primer')\n",
        "print(original_data)\n",
        "\n",
        "#list is itself iterable hence, can be used to construct a new instance referencing the same contents as the original.\n",
        "copied_data = list (original_data)\n",
        "print(copied_data)"
      ],
      "execution_count": 7,
      "outputs": [
        {
          "output_type": "stream",
          "text": [
            "[]\n",
            "[]\n",
            "['red', 'green', 'yellow']\n",
            "[456, 67, 23]\n",
            "[42, 'hello', 22, 'xii', 76.8]\n",
            "[42, 65]\n",
            "['p', 'r', 'i', 'm', 'e', 'r']\n",
            "['p', 'r', 'i', 'm', 'e', 'r']\n"
          ],
          "name": "stdout"
        }
      ]
    },
    {
      "cell_type": "markdown",
      "metadata": {
        "id": "SW6xVG2O_y5k",
        "colab_type": "text"
      },
      "source": [
        "**The tuple class**\n",
        "--> The tuple class provides an immutable version of a sequence, and therefore its\n",
        "instances have an internal representation that may be more streamlined than that of\n",
        "a list. While Python uses the [ ] characters to delimit a list, parentheses delimit a\n",
        "tuple, with () being an empty tuple. "
      ]
    },
    {
      "cell_type": "code",
      "metadata": {
        "id": "-2o-F93PDfAq",
        "colab_type": "code",
        "colab": {
          "base_uri": "https://localhost:8080/",
          "height": 286
        },
        "outputId": "0cf3cbcc-20e1-482f-dbea-cdaef0f6d12c"
      },
      "source": [
        "#empty tuple\n",
        "empty_tuple = ()\n",
        "print(empty_tuple)\n",
        "\n",
        "empty_tuple_using_constructor = tuple()\n",
        "print(empty_tuple_using_constructor)\n",
        "\n",
        "#tuple of length 1 needs to be expressed using a comma\n",
        "tuple_with_single_element = (22,)\n",
        "print(tuple_with_single_element)\n",
        "\n",
        "#tuple of length 1 **NOT** expressed using a comma\n",
        "tuple_with_single_element - (34)\n",
        "print(tuple_with_single_element) #considered as a simple parenthesized numeric expression."
      ],
      "execution_count": 14,
      "outputs": [
        {
          "output_type": "stream",
          "text": [
            "()\n",
            "()\n",
            "(22,)\n"
          ],
          "name": "stdout"
        },
        {
          "output_type": "error",
          "ename": "TypeError",
          "evalue": "ignored",
          "traceback": [
            "\u001b[0;31m---------------------------------------------------------------------------\u001b[0m",
            "\u001b[0;31mTypeError\u001b[0m                                 Traceback (most recent call last)",
            "\u001b[0;32m<ipython-input-14-90451578cae1>\u001b[0m in \u001b[0;36m<module>\u001b[0;34m()\u001b[0m\n\u001b[1;32m     10\u001b[0m \u001b[0;34m\u001b[0m\u001b[0m\n\u001b[1;32m     11\u001b[0m \u001b[0;31m#tuple of length 1 **NOT** expressed using a comma\u001b[0m\u001b[0;34m\u001b[0m\u001b[0;34m\u001b[0m\u001b[0;34m\u001b[0m\u001b[0m\n\u001b[0;32m---> 12\u001b[0;31m \u001b[0mtuple_with_single_element\u001b[0m \u001b[0;34m-\u001b[0m \u001b[0;34m(\u001b[0m\u001b[0;36m34\u001b[0m\u001b[0;34m)\u001b[0m\u001b[0;34m\u001b[0m\u001b[0;34m\u001b[0m\u001b[0m\n\u001b[0m\u001b[1;32m     13\u001b[0m \u001b[0mprint\u001b[0m\u001b[0;34m(\u001b[0m\u001b[0mtuple_with_single_element\u001b[0m\u001b[0;34m)\u001b[0m \u001b[0;31m#considered as a simple parenthesized numeric expression.\u001b[0m\u001b[0;34m\u001b[0m\u001b[0;34m\u001b[0m\u001b[0m\n",
            "\u001b[0;31mTypeError\u001b[0m: unsupported operand type(s) for -: 'tuple' and 'int'"
          ]
        }
      ]
    },
    {
      "cell_type": "markdown",
      "metadata": {
        "id": "icX9lAflFZfJ",
        "colab_type": "text"
      },
      "source": [
        "[Difference between List and Tuple in more depth](https://www.afternerd.com/blog/difference-between-list-tuple/)\n",
        "\n",
        "> Indented block\n",
        "\n"
      ]
    },
    {
      "cell_type": "markdown",
      "metadata": {
        "id": "AWnJt6rNFZa5",
        "colab_type": "text"
      },
      "source": [
        "**The Str class**\n",
        "--> represents an immutbale sequence of chracter based upon Unicode international character set. Strings have a more compact internal represetation than the referential lists and tuples. "
      ]
    },
    {
      "cell_type": "code",
      "metadata": {
        "id": "2ywR1n-0GSmk",
        "colab_type": "code",
        "colab": {
          "base_uri": "https://localhost:8080/",
          "height": 129
        },
        "outputId": "b87ecea9-ea39-443d-80da-91c907cc1424"
      },
      "source": [
        "string_with_single_quote = 'python primer'\n",
        "print(string_with_single_quote)\n",
        "\n",
        "string_with_double_quotes = \"python's world\"\n",
        "print(string_with_double_quotes)\n",
        "\n",
        "string_with_escape_character = 'python\\'s zone'\n",
        "print(string_with_escape_character)\n",
        "\n",
        "#using ''' and \"\"\" to begin and end a string literal. In these the newline characters can be embedded naturally.\n",
        "\n",
        "print(\"\"\"Welcoem to the world of python data structure\n",
        "and algorithms. Please go through the first chapter focusing upon\n",
        "the basics of python.\"\"\")"
      ],
      "execution_count": 13,
      "outputs": [
        {
          "output_type": "stream",
          "text": [
            "python primer\n",
            "python's world\n",
            "python's zone\n",
            "Welcoem to the world of python data structure\n",
            "and algorithms. Please go through the first chapter focusing upon\n",
            "the basics of python.\n"
          ],
          "name": "stdout"
        }
      ]
    },
    {
      "cell_type": "markdown",
      "metadata": {
        "id": "8_2iIST5H_W5",
        "colab_type": "text"
      },
      "source": [
        "***The set and frozenset classes***\n",
        "--> Python’s set class represents the mathematical notion of a set, namely a collection\n",
        "of elements, without duplicates, and without an inherent order to those elements.\n",
        "The major advantage of using a set, as opposed to a list, is that it has a highly\n",
        "optimized method for checking whether a specific element is contained in the set.\n",
        "This is based on a data structure known as a hash table.\n",
        "\n",
        "Two restrictions caused by algorithmic underpinnings\n",
        "\n",
        "--> The first is that the set does not maintain the elements\n",
        "in any particular order. \n",
        "\n",
        "--> The second is that only instances of immutable types can be\n",
        "added to a Python set."
      ]
    },
    {
      "cell_type": "code",
      "metadata": {
        "id": "CjvnTfFYJujN",
        "colab_type": "code",
        "colab": {
          "base_uri": "https://localhost:8080/",
          "height": 380
        },
        "outputId": "78242b2c-8719-4573-e55c-02ecb97f68da"
      },
      "source": [
        "empty_set = { } # this is empty dictionary NOT set\n",
        "print(empty_set) \n",
        "\n",
        "#we dont use set{} like list{} to represent empty set\n",
        "#empty_set = set{}\n",
        "\n",
        "empty_set = set() # this is empty set \n",
        "print(empty_set)\n",
        "\n",
        "#sort list of elements\n",
        "set_for_sorting_iterable_list = set([3,1,4,1,5])\n",
        "print(set_for_sorting_iterable_list)\n",
        "\n",
        "#sort tuple of elements\n",
        "set_for_sorting_iterable_tuple = set((3,1,4,1,5))\n",
        "print(set_for_sorting_iterable_tuple)\n",
        "\n",
        "#sort set of elements\n",
        "set_for_sorting_iterable_set = set({3,1,4,1,5})\n",
        "print(set_for_sorting_iterable_set)\n",
        "\n",
        "set_of_numbers = {1,5,3,7}\n",
        "print(set_of_numbers)\n",
        "\n",
        "#set of immutable objects\n",
        "set_of_mix_types = {'hello',7,'20xx',17.8}\n",
        "print(set_of_mix_types)\n",
        "\n",
        "#set of immutable tuples\n",
        "set_of_immutbale_tuples = {('red','yellow','green'),(14,78,1234),(12.6,98,3,45,2),('hello',7,'20xx',17.8)}\n",
        "print(set_of_immutbale_tuples)\n",
        "\n",
        "#set of mutable lists\n",
        "set_of_mutable_lists = {[1,2,3,4],[5,6,7,8]} #will throw an error \n",
        "print(set_of_mutable_lists)"
      ],
      "execution_count": 29,
      "outputs": [
        {
          "output_type": "stream",
          "text": [
            "{}\n",
            "set()\n",
            "{1, 3, 4, 5}\n",
            "{1, 3, 4, 5}\n",
            "{1, 3, 4, 5}\n",
            "{1, 3, 5, 7}\n",
            "{17.8, 'hello', '20xx', 7}\n",
            "{('red', 'yellow', 'green'), (14, 78, 1234), (12.6, 98, 3, 45, 2), ('hello', 7, '20xx', 17.8)}\n"
          ],
          "name": "stdout"
        },
        {
          "output_type": "error",
          "ename": "TypeError",
          "evalue": "ignored",
          "traceback": [
            "\u001b[0;31m---------------------------------------------------------------------------\u001b[0m",
            "\u001b[0;31mTypeError\u001b[0m                                 Traceback (most recent call last)",
            "\u001b[0;32m<ipython-input-29-efcb13a3c587>\u001b[0m in \u001b[0;36m<module>\u001b[0;34m()\u001b[0m\n\u001b[1;32m     32\u001b[0m \u001b[0;34m\u001b[0m\u001b[0m\n\u001b[1;32m     33\u001b[0m \u001b[0;31m#set of mutable lists\u001b[0m\u001b[0;34m\u001b[0m\u001b[0;34m\u001b[0m\u001b[0;34m\u001b[0m\u001b[0m\n\u001b[0;32m---> 34\u001b[0;31m \u001b[0mset_of_mutable_lists\u001b[0m \u001b[0;34m=\u001b[0m \u001b[0;34m{\u001b[0m\u001b[0;34m[\u001b[0m\u001b[0;36m1\u001b[0m\u001b[0;34m,\u001b[0m\u001b[0;36m2\u001b[0m\u001b[0;34m,\u001b[0m\u001b[0;36m3\u001b[0m\u001b[0;34m,\u001b[0m\u001b[0;36m4\u001b[0m\u001b[0;34m]\u001b[0m\u001b[0;34m,\u001b[0m\u001b[0;34m[\u001b[0m\u001b[0;36m5\u001b[0m\u001b[0;34m,\u001b[0m\u001b[0;36m6\u001b[0m\u001b[0;34m,\u001b[0m\u001b[0;36m7\u001b[0m\u001b[0;34m,\u001b[0m\u001b[0;36m8\u001b[0m\u001b[0;34m]\u001b[0m\u001b[0;34m}\u001b[0m \u001b[0;31m#will throw an error\u001b[0m\u001b[0;34m\u001b[0m\u001b[0;34m\u001b[0m\u001b[0m\n\u001b[0m\u001b[1;32m     35\u001b[0m \u001b[0mprint\u001b[0m\u001b[0;34m(\u001b[0m\u001b[0mset_of_mutable_lists\u001b[0m\u001b[0;34m)\u001b[0m\u001b[0;34m\u001b[0m\u001b[0;34m\u001b[0m\u001b[0m\n",
            "\u001b[0;31mTypeError\u001b[0m: unhashable type: 'list'"
          ]
        }
      ]
    },
    {
      "cell_type": "code",
      "metadata": {
        "id": "cy_ldbDINxWS",
        "colab_type": "code",
        "colab": {
          "base_uri": "https://localhost:8080/",
          "height": 193
        },
        "outputId": "3a6b6074-fc4c-48d2-bc96-e8bb7ac1d24f"
      },
      "source": [
        "#set of mutable sets \n",
        "set_of_sets = {{1,2,3},{4,5,6},{7,8,9}} #will throw an error\n",
        "print(set_of_sets)"
      ],
      "execution_count": 25,
      "outputs": [
        {
          "output_type": "error",
          "ename": "TypeError",
          "evalue": "ignored",
          "traceback": [
            "\u001b[0;31m---------------------------------------------------------------------------\u001b[0m",
            "\u001b[0;31mTypeError\u001b[0m                                 Traceback (most recent call last)",
            "\u001b[0;32m<ipython-input-25-264c64f9fb7c>\u001b[0m in \u001b[0;36m<module>\u001b[0;34m()\u001b[0m\n\u001b[0;32m----> 1\u001b[0;31m \u001b[0mset_of_sets\u001b[0m \u001b[0;34m=\u001b[0m \u001b[0;34m{\u001b[0m\u001b[0;34m{\u001b[0m\u001b[0;36m1\u001b[0m\u001b[0;34m,\u001b[0m\u001b[0;36m2\u001b[0m\u001b[0;34m,\u001b[0m\u001b[0;36m3\u001b[0m\u001b[0;34m}\u001b[0m\u001b[0;34m,\u001b[0m\u001b[0;34m{\u001b[0m\u001b[0;36m4\u001b[0m\u001b[0;34m,\u001b[0m\u001b[0;36m5\u001b[0m\u001b[0;34m,\u001b[0m\u001b[0;36m6\u001b[0m\u001b[0;34m}\u001b[0m\u001b[0;34m,\u001b[0m\u001b[0;34m{\u001b[0m\u001b[0;36m7\u001b[0m\u001b[0;34m,\u001b[0m\u001b[0;36m8\u001b[0m\u001b[0;34m,\u001b[0m\u001b[0;36m9\u001b[0m\u001b[0;34m}\u001b[0m\u001b[0;34m}\u001b[0m \u001b[0;31m#will throw an error\u001b[0m\u001b[0;34m\u001b[0m\u001b[0;34m\u001b[0m\u001b[0m\n\u001b[0m\u001b[1;32m      2\u001b[0m \u001b[0mprint\u001b[0m\u001b[0;34m(\u001b[0m\u001b[0mset_of_sets\u001b[0m\u001b[0;34m)\u001b[0m\u001b[0;34m\u001b[0m\u001b[0;34m\u001b[0m\u001b[0m\n",
            "\u001b[0;31mTypeError\u001b[0m: unhashable type: 'set'"
          ]
        }
      ]
    },
    {
      "cell_type": "markdown",
      "metadata": {
        "id": "d-ws7D2RP09z",
        "colab_type": "text"
      },
      "source": [
        "**The Frozenset** --> frozenset is an IMMUTABLE form of a set"
      ]
    },
    {
      "cell_type": "code",
      "metadata": {
        "id": "tnNfy1zfPw7Y",
        "colab_type": "code",
        "colab": {
          "base_uri": "https://localhost:8080/",
          "height": 36
        },
        "outputId": "9b49df2d-0457-400d-bef2-548766ae27e4"
      },
      "source": [
        "empty_frozenset = frozenset([2,7,1])\n",
        "print(empty_frozenset)"
      ],
      "execution_count": 31,
      "outputs": [
        {
          "output_type": "stream",
          "text": [
            "frozenset({1, 2, 7})\n"
          ],
          "name": "stdout"
        }
      ]
    },
    {
      "cell_type": "markdown",
      "metadata": {
        "id": "w0hwssxlO14c",
        "colab_type": "text"
      },
      "source": [
        "**The dict class**\n",
        "--> Python’s dict class represents a dictionary, or mapping, from a set of distinct keys\n",
        "to associated values.\n",
        "\n",
        "--> Python implements a dict using an almost identical approach to that of a\n",
        "set, but with storage of the associated values.\n",
        "\n",
        "--> The constructor for the dict class accepts an existing mapping as a parameter,\n",
        "in which case it creates a new dictionary with identical associations as the existing\n",
        "one. Alternatively, the constructor accepts a sequence of key-value pairs as a parameter."
      ]
    },
    {
      "cell_type": "code",
      "metadata": {
        "id": "Z8Yl66oyPgqW",
        "colab_type": "code",
        "colab": {
          "base_uri": "https://localhost:8080/",
          "height": 111
        },
        "outputId": "15522685-8c72-4f20-db9e-4e724e8c7198"
      },
      "source": [
        "empty_dictionary = { }\n",
        "print(empty_dictionary)\n",
        "\n",
        "empty_dictionary_using_constructor = dict()\n",
        "print(empty_dictionary_using_constructor)\n",
        "\n",
        "dictionary_variable = {'apple':'fruit','monkey':'animal'}\n",
        "print(dictionary_variable)\n",
        "\n",
        "original_dictionary_pair = {('infinity','war'),('end','game')} #dictionary\n",
        "new_dictionary_using_constructor = dict(original_dictionary_pair) #dictionary given as a parameter to another dict() constructor\n",
        "print(new_dictionary_using_constructor)\n",
        "\n",
        "original_dictionary_pair = [('civil','war'),('winter','soldier')] #list \n",
        "new_dictionary_using_constructor = dict(original_dictionary_pair) #list is given as parameter to dict() constructor\n",
        "print(new_dictionary_using_constructor)\n",
        "\n",
        "\n",
        "\n",
        "#read more on creating dict() class objects\n"
      ],
      "execution_count": 37,
      "outputs": [
        {
          "output_type": "stream",
          "text": [
            "{}\n",
            "{}\n",
            "{'apple': 'fruit', 'monkey': 'animal'}\n",
            "{'end': 'game', 'infinity': 'war'}\n",
            "{'civil': 'war', 'winter': 'soldier'}\n"
          ],
          "name": "stdout"
        }
      ]
    }
  ]
}