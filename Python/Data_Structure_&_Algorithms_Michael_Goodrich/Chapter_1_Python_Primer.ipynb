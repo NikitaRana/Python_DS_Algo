{
  "nbformat": 4,
  "nbformat_minor": 0,
  "metadata": {
    "colab": {
      "name": "Chapter 1 : Python Primer.ipynb",
      "provenance": [],
      "collapsed_sections": []
    },
    "kernelspec": {
      "name": "python3",
      "display_name": "Python 3"
    },
    "accelerator": "GPU"
  },
  "cells": [
    {
      "cell_type": "markdown",
      "metadata": {
        "id": "C8NxLkrV0xHA",
        "colab_type": "text"
      },
      "source": [
        "Python Overview\n"
      ]
    },
    {
      "cell_type": "code",
      "metadata": {
        "id": "QJoqS54G01V3",
        "colab_type": "code",
        "outputId": "636f9e58-c3f8-4500-ab26-3d0c31659224",
        "colab": {
          "base_uri": "https://localhost:8080/",
          "height": 34
        }
      },
      "source": [
        "print(\"Welcome to the world of python\")"
      ],
      "execution_count": 0,
      "outputs": [
        {
          "output_type": "stream",
          "text": [
            "Welcome to the world of python\n"
          ],
          "name": "stdout"
        }
      ]
    },
    {
      "cell_type": "markdown",
      "metadata": {
        "id": "eoAuocbBAbwi",
        "colab_type": "text"
      },
      "source": [
        "Individual statements\n",
        "are typically concluded with a newline character, although a command can extend\n",
        "to another line, either with a concluding backslash character (\\), or if an opening\n",
        "delimiter has not yet been closed, such as the { character in defining value map"
      ]
    },
    {
      "cell_type": "markdown",
      "metadata": {
        "id": "jiUxxhM_Nqyc",
        "colab_type": "text"
      },
      "source": [
        ""
      ]
    },
    {
      "cell_type": "code",
      "metadata": {
        "id": "0k4qzBS_NtEl",
        "colab_type": "code",
        "outputId": "2142afa8-5ec6-4d4e-e43a-887661fd015a",
        "colab": {
          "base_uri": "https://localhost:8080/",
          "height": 67
        }
      },
      "source": [
        "#concluding a command with a blackslash character to extend it to the other line \n",
        "print(\"welcome to the world \\\n",
        " of python\")\n",
        "variable = input(\"Enter the value \\\n",
        "in the next line\")\n",
        "print(\\\n",
        "      variable)"
      ],
      "execution_count": 0,
      "outputs": [
        {
          "output_type": "stream",
          "text": [
            "welcome to the world  of python\n",
            "Enter the value in the next line356\n",
            "356\n"
          ],
          "name": "stdout"
        }
      ]
    },
    {
      "cell_type": "code",
      "metadata": {
        "id": "d6xjgBo1ORIv",
        "colab_type": "code",
        "outputId": "f1cfc865-09f9-4635-dd2b-0d39e88e9b98",
        "colab": {
          "base_uri": "https://localhost:8080/",
          "height": 168
        }
      },
      "source": [
        "'''\n",
        "Program to compute the grade point average (GPA) for a student based on \n",
        "letter grades thata entered by the user\n",
        "'''\n",
        "print(\"Welcome to thte GPA calculator.\")\n",
        "print(\"Enter all the letter grades, one per line\")\n",
        "points = {'A':5.0,'B':4.0,'C':3.0,'D':2.0,'E':1.0}\n",
        "num_courses = 0\n",
        "total_points = 0\n",
        "done = False\n",
        "while not done:\n",
        "  grade = input()\n",
        "  if(grade==''): \n",
        "    done = True\n",
        "  elif (grade not in points):\n",
        "    print(\"Please enter the grade mentioned in the grade card range.\")\n",
        "    print(\"Currently, you have entered {0} as your current grade\".format(grade))\n",
        "  else:\n",
        "    num_courses = num_courses+1\n",
        "    total_points = points[grade]\n",
        "if(num_courses>0):\n",
        "  print(\"Your GPA is {0:.3}\".format(total_points/num_courses))"
      ],
      "execution_count": 0,
      "outputs": [
        {
          "output_type": "stream",
          "text": [
            "Welcome to thte GPA calculator.\n",
            "Enter all the letter grades, one per line\n",
            "A\n",
            "B\n",
            "A\n",
            "B\n",
            "A\n",
            "\n",
            "Your GPA is 1.0\n"
          ],
          "name": "stdout"
        }
      ]
    },
    {
      "cell_type": "markdown",
      "metadata": {
        "id": "RKdP0rYPRdJ2",
        "colab_type": "text"
      },
      "source": [
        ""
      ]
    },
    {
      "cell_type": "code",
      "metadata": {
        "id": "AD-Z-z1qOvQl",
        "colab_type": "code",
        "colab": {}
      },
      "source": [
        "Python is an object-oriented language and classes form the basis for all data types.In this section, we describe key aspects of Python’s object model, and we introduce\n",
        "Python’s built-in classes, such as the int class for integers, the float class for floating-point values, and the str class for character strings."
      ],
      "execution_count": 0,
      "outputs": []
    },
    {
      "cell_type": "markdown",
      "metadata": {
        "id": "sEB7QUdgSgQ1",
        "colab_type": "text"
      },
      "source": [
        "Relationship between Indentifiers, Objects and Assignment Statement\n",
        "\n",
        "temperature = 98.6 \n",
        "where, \n",
        "temperature is an identifier or name\n",
        "98.6 is an flat object value belonging to float class in python and \n",
        "'=' is the binary operator \n"
      ]
    },
    {
      "cell_type": "markdown",
      "metadata": {
        "id": "J2uAr2M9S6S8",
        "colab_type": "text"
      },
      "source": [
        "Identifiers are **case senitive**\n",
        "\n"
      ]
    },
    {
      "cell_type": "markdown",
      "metadata": {
        "id": "pTVDpwIHTGIN",
        "colab_type": "text"
      },
      "source": [
        ""
      ]
    }
  ]
}