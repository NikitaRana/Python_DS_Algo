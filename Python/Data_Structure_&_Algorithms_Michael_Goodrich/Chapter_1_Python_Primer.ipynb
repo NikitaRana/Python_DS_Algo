{
  "nbformat": 4,
  "nbformat_minor": 0,
  "metadata": {
    "colab": {
      "name": "Chapter 1 : Python Primer.ipynb",
      "provenance": [],
      "collapsed_sections": [],
      "include_colab_link": true
    },
    "kernelspec": {
      "name": "python3",
      "display_name": "Python 3"
    },
    "accelerator": "GPU"
  },
  "cells": [
    {
      "cell_type": "markdown",
      "metadata": {
        "id": "view-in-github",
        "colab_type": "text"
      },
      "source": [
        "<a href=\"https://colab.research.google.com/github/NikitaRana/OSCP_2020/blob/master/Python/Data_Structure_%26_Algorithms_Michael_Goodrich/Chapter_1_Python_Primer.ipynb\" target=\"_parent\"><img src=\"https://colab.research.google.com/assets/colab-badge.svg\" alt=\"Open In Colab\"/></a>"
      ]
    },
    {
      "cell_type": "markdown",
      "metadata": {
        "id": "C8NxLkrV0xHA",
        "colab_type": "text"
      },
      "source": [
        "Python Overview\n"
      ]
    },
    {
      "cell_type": "code",
      "metadata": {
        "id": "QJoqS54G01V3",
        "colab_type": "code",
        "outputId": "636f9e58-c3f8-4500-ab26-3d0c31659224",
        "colab": {
          "base_uri": "https://localhost:8080/",
          "height": 34
        }
      },
      "source": [
        "print(\"Welcome to the world of python\")"
      ],
      "execution_count": 0,
      "outputs": [
        {
          "output_type": "stream",
          "text": [
            "Welcome to the world of python\n"
          ],
          "name": "stdout"
        }
      ]
    },
    {
      "cell_type": "markdown",
      "metadata": {
        "id": "eoAuocbBAbwi",
        "colab_type": "text"
      },
      "source": [
        "Individual statements\n",
        "are typically concluded with a newline character, although a command can extend\n",
        "to another line, either with a concluding backslash character (\\), or if an opening\n",
        "delimiter has not yet been closed, such as the { character in defining value map"
      ]
    },
    {
      "cell_type": "markdown",
      "metadata": {
        "id": "jiUxxhM_Nqyc",
        "colab_type": "text"
      },
      "source": [
        ""
      ]
    },
    {
      "cell_type": "code",
      "metadata": {
        "id": "0k4qzBS_NtEl",
        "colab_type": "code",
        "outputId": "2142afa8-5ec6-4d4e-e43a-887661fd015a",
        "colab": {
          "base_uri": "https://localhost:8080/",
          "height": 67
        }
      },
      "source": [
        "#concluding a command with a blackslash character to extend it to the other line \n",
        "print(\"welcome to the world \\\n",
        " of python\")\n",
        "variable = input(\"Enter the value \\\n",
        "in the next line\")\n",
        "print(\\\n",
        "      variable)"
      ],
      "execution_count": 0,
      "outputs": [
        {
          "output_type": "stream",
          "text": [
            "welcome to the world  of python\n",
            "Enter the value in the next line356\n",
            "356\n"
          ],
          "name": "stdout"
        }
      ]
    },
    {
      "cell_type": "code",
      "metadata": {
        "id": "d6xjgBo1ORIv",
        "colab_type": "code",
        "outputId": "7c8c8b0d-a237-47f2-d036-d259cc5f055b",
        "colab": {
          "base_uri": "https://localhost:8080/",
          "height": 185
        }
      },
      "source": [
        "'''\n",
        "Program to compute the grade point average (GPA) for a student based on \n",
        "letter grades thata entered by the user\n",
        "'''\n",
        "print(\"Welcome to thte GPA calculator.\")\n",
        "print(\"Enter all the letter grades, one per line\")\n",
        "points = {'A':5.0,'B':4.0,'C':3.0,'D':2.0,'E':1.0}\n",
        "num_courses = 0\n",
        "total_points = 0\n",
        "done = False\n",
        "while not done:\n",
        "  grade = input()\n",
        "  if(grade==''): \n",
        "    done = True\n",
        "  elif (grade not in points):\n",
        "    print(\"Please enter the grade mentioned in the grade card range.\")\n",
        "    print(\"Currently, you have entered {0} as your current grade\".format(grade))\n",
        "  else:\n",
        "    num_courses = num_courses+1\n",
        "    total_points = total_points+points[grade]\n",
        "if(num_courses>0):\n",
        "  print(\"Your GPA is {0:.3}\".format(total_points/num_courses))"
      ],
      "execution_count": 0,
      "outputs": [
        {
          "output_type": "stream",
          "text": [
            "Welcome to thte GPA calculator.\n",
            "Enter all the letter grades, one per line\n",
            "A\n",
            "B\n",
            "A\n",
            "B\n",
            "A\n",
            "\n",
            "Your GPA is 4.6\n"
          ],
          "name": "stdout"
        }
      ]
    },
    {
      "cell_type": "markdown",
      "metadata": {
        "id": "RKdP0rYPRdJ2",
        "colab_type": "text"
      },
      "source": [
        "Python is an object-oriented language and classes form the basis for all data types.In this section, we describe key aspects of Python’s object model, and we introduce\n",
        "Python’s built-in classes, such as the int class for integers, the float class for floating-point values, and the str class for character strings."
      ]
    },
    {
      "cell_type": "markdown",
      "metadata": {
        "id": "sEB7QUdgSgQ1",
        "colab_type": "text"
      },
      "source": [
        "Relationship between Indentifiers, Objects and Assignment Statement\n",
        "\n",
        "temperature = 98.6 \n",
        "where, \n",
        "temperature is an identifier or name\n",
        "98.6 is an object value (floating point literal) belonging to float class in python and \n",
        "'=' is the binary operator \n"
      ]
    },
    {
      "cell_type": "markdown",
      "metadata": {
        "id": "eyhqgn6Xdknk",
        "colab_type": "text"
      },
      "source": [
        "Identifiers are case senitive.\n",
        "There are 33 specially reserved words that cannot be used as identifiers. \n",
        "![image.png](data:image/png;base64,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)"
      ]
    },
    {
      "cell_type": "markdown",
      "metadata": {
        "id": "Ju8gD11zeDEs",
        "colab_type": "text"
      },
      "source": [
        "\n",
        "\n",
        "*   Each identifier is implicitly associated with the memory address of the object to which it refers. \n",
        "*   A programmer can establish an alias by assigning a second identifier to an existing object.\n",
        "\n",
        "Continuing with our concrete example, we consider the command:\n",
        "temperature = temperature + 5.0\n",
        "The execution of this command begins with the evaluation of the expression on the\n",
        "right-hand side of the = operator. That expression, temperature + 5.0, is evaluated\n",
        "based on the existing binding of the name temperature, and so the result\n",
        "has value 103.6, that is, 98.6 + 5.0. That result is stored as a new floating-point\n",
        "instance, and only then is the name on the left-hand side of the assignment statement,\n",
        "temperature, (re)assigned to the result. The subsequent configuration is diagrammed\n",
        "in Figure. Of particular note, this last command had no effect on the\n",
        "value of the existing float instance that identifier original continues to reference.\n",
        "\n",
        "![image.png](data:image/png;base64,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)\n",
        "\n"
      ]
    },
    {
      "cell_type": "markdown",
      "metadata": {
        "id": "7uKqscDqfNM-",
        "colab_type": "text"
      },
      "source": [
        "Many of Python’s built-in classes support what is\n",
        "known as a literal form for designating new instances. For example, the command\n",
        "temperature = 98.6 results in the creation of a new instance of the float class; the\n",
        "term 98.6 in that expression is a literal form. We discuss further cases of Python\n",
        "literals in the coming section\n",
        "\n",
        "Yet, another way from a programmer's perspective is to indirectly create a new instance of a class is to call a function that creates and returns such an instance. For example, python has a built-in function called sorted which take a sequence of comparable numbers and returns an instance of list class containing those elements in sorted order. "
      ]
    },
    {
      "cell_type": "markdown",
      "metadata": {
        "id": "-0d9IRk2jKMU",
        "colab_type": "text"
      },
      "source": [
        "**CALLING METHODS**\n",
        "\n",
        "Python’s list class has a method named sort that can be\n",
        "invoked with a syntax such as data.sort( ). This particular method rearranges the\n",
        "contents of the list so that they are sorted.\n",
        "The expression to the left of the dot identifies the object upon which the method\n",
        "is invoked. Often, this will be an identifier (e.g., data), but we can use the dot operator\n",
        "to invoke a method upon the immediate result of some other operation. For\n",
        "example, if response identifies a string instance (we will discuss strings later in this\n",
        "section), the syntax response.lower( ).startswith( y ) first evaluates the method\n",
        "call, response.lower( ), which itself returns a new string instance, and then the\n",
        "startswith( y ) method is called on that intermediate string.\n",
        "When using a method of a class, it is important to understand its behavior.\n",
        "Some methods return information about the state of an object, but do not change\n",
        "that state. These are known as **accessors**. Other methods, such as the sort method\n",
        "of the list class, do change the state of an object. These methods are known as\n",
        "**mutators **or **update methods**."
      ]
    },
    {
      "cell_type": "markdown",
      "metadata": {
        "id": "Wvngk0rXQBCr",
        "colab_type": "text"
      },
      "source": [
        "**Python Built-In Classes**"
      ]
    },
    {
      "cell_type": "markdown",
      "metadata": {
        "id": "VhRUsOlilF-c",
        "colab_type": "text"
      },
      "source": [
        "\n",
        "\n",
        "```\n",
        "# The bool, int, float \n",
        "```\n",
        "\n"
      ]
    },
    {
      "cell_type": "markdown",
      "metadata": {
        "id": "bFYG_XGeIU4f",
        "colab_type": "text"
      },
      "source": [
        "**The list, tuple and str classes**\n",
        "--> The list, tuple, and str classes are sequence types in Python, representing a collection\n",
        "of values in which the order is significant. The list class is the most general,\n",
        "representing a sequence of arbitrary objects (akin to an “array” in other languages).\n",
        "The tuple class is an immutable version of the list class, benefiting from a **streamlined\n",
        "internal representation.**\n",
        "\n",
        "--> The str class is specially designed for representing an immutable sequence of text characters.\n",
        "\n",
        "--> Python does not have a separate class for character, they are just strings with length 1. "
      ]
    },
    {
      "cell_type": "markdown",
      "metadata": {
        "id": "IMquqShTPMZG",
        "colab_type": "text"
      },
      "source": [
        "**Containers are any object that holds an arbitrary number of other objects. Generally, containers provide a way to access the contained objects and to iterate over them. Examples of containers include tuple , list , set , dict ; these are the built-in containers**"
      ]
    },
    {
      "cell_type": "markdown",
      "metadata": {
        "id": "tju6z3EzJXjJ",
        "colab_type": "text"
      },
      "source": [
        "**The List class**\n",
        "--> A list instance stores a sequence of objects. A list is a referential structure, as it\n",
        "technically stores a sequence of references to its elements. Elements\n",
        "of a list may be arbitrary objects (including the None object). Lists are\n",
        "array-based sequences and are zero-indexed, thus a list of length n has elements\n",
        "indexed from 0 to n−1 inclusive\n",
        "--> lists can dynamically expand and contract their capacities as needed. "
      ]
    },
    {
      "cell_type": "code",
      "metadata": {
        "id": "wxs4xpzvRoqP",
        "colab_type": "code",
        "outputId": "61ee254c-0bc2-40df-9872-f4ae936375b0",
        "colab": {
          "base_uri": "https://localhost:8080/",
          "height": 167
        }
      },
      "source": [
        "empty_list = [ ]\n",
        "print(empty_list)\n",
        "\n",
        "empty_list_using_constructor = list() #by default\n",
        "print(empty_list_using_constructor)\n",
        "\n",
        "list_of_literal_strings = ['red','green','yellow']\n",
        "print(list_of_literal_strings)\n",
        "\n",
        "list_of_literal_numbers = [456,67,23]\n",
        "print(list_of_literal_numbers)\n",
        "\n",
        "var = 42\n",
        "list_of_mix_types = [var,'hello',22,'xii',76.8 ]\n",
        "print(list_of_mix_types)\n",
        "\n",
        "a=42\n",
        "b=65\n",
        "list_of_identifiers = [a,b]\n",
        "print(list_of_identifiers)\n",
        "\n",
        "# list accepts parameters which are iterable in type. eg: strings, lists, tuples, sets, dictionaries\n",
        "original_data = list('primer')\n",
        "print(original_data)\n",
        "\n",
        "#list is itself iterable hence, can be used to construct a new instance referencing the same contents as the original.\n",
        "copied_data = list (original_data)\n",
        "print(copied_data)"
      ],
      "execution_count": 0,
      "outputs": [
        {
          "output_type": "stream",
          "text": [
            "[]\n",
            "[]\n",
            "['red', 'green', 'yellow']\n",
            "[456, 67, 23]\n",
            "[42, 'hello', 22, 'xii', 76.8]\n",
            "[42, 65]\n",
            "['p', 'r', 'i', 'm', 'e', 'r']\n",
            "['p', 'r', 'i', 'm', 'e', 'r']\n"
          ],
          "name": "stdout"
        }
      ]
    },
    {
      "cell_type": "markdown",
      "metadata": {
        "id": "SW6xVG2O_y5k",
        "colab_type": "text"
      },
      "source": [
        "**The tuple class**\n",
        "--> The tuple class provides an immutable version of a sequence, and therefore its\n",
        "instances have an internal representation that may be more streamlined than that of\n",
        "a list. While Python uses the [ ] characters to delimit a list, parentheses delimit a\n",
        "tuple, with () being an empty tuple. "
      ]
    },
    {
      "cell_type": "code",
      "metadata": {
        "id": "-2o-F93PDfAq",
        "colab_type": "code",
        "outputId": "0cf3cbcc-20e1-482f-dbea-cdaef0f6d12c",
        "colab": {
          "base_uri": "https://localhost:8080/",
          "height": 286
        }
      },
      "source": [
        "#empty tuple\n",
        "empty_tuple = ()\n",
        "print(empty_tuple)\n",
        "\n",
        "empty_tuple_using_constructor = tuple()\n",
        "print(empty_tuple_using_constructor)\n",
        "\n",
        "#tuple of length 1 needs to be expressed using a comma\n",
        "tuple_with_single_element = (22,)\n",
        "print(tuple_with_single_element)\n",
        "\n",
        "#tuple of length 1 **NOT** expressed using a comma\n",
        "tuple_with_single_element - (34)\n",
        "print(tuple_with_single_element) #considered as a simple parenthesized numeric expression."
      ],
      "execution_count": 0,
      "outputs": [
        {
          "output_type": "stream",
          "text": [
            "()\n",
            "()\n",
            "(22,)\n"
          ],
          "name": "stdout"
        },
        {
          "output_type": "error",
          "ename": "TypeError",
          "evalue": "ignored",
          "traceback": [
            "\u001b[0;31m---------------------------------------------------------------------------\u001b[0m",
            "\u001b[0;31mTypeError\u001b[0m                                 Traceback (most recent call last)",
            "\u001b[0;32m<ipython-input-14-90451578cae1>\u001b[0m in \u001b[0;36m<module>\u001b[0;34m()\u001b[0m\n\u001b[1;32m     10\u001b[0m \u001b[0;34m\u001b[0m\u001b[0m\n\u001b[1;32m     11\u001b[0m \u001b[0;31m#tuple of length 1 **NOT** expressed using a comma\u001b[0m\u001b[0;34m\u001b[0m\u001b[0;34m\u001b[0m\u001b[0;34m\u001b[0m\u001b[0m\n\u001b[0;32m---> 12\u001b[0;31m \u001b[0mtuple_with_single_element\u001b[0m \u001b[0;34m-\u001b[0m \u001b[0;34m(\u001b[0m\u001b[0;36m34\u001b[0m\u001b[0;34m)\u001b[0m\u001b[0;34m\u001b[0m\u001b[0;34m\u001b[0m\u001b[0m\n\u001b[0m\u001b[1;32m     13\u001b[0m \u001b[0mprint\u001b[0m\u001b[0;34m(\u001b[0m\u001b[0mtuple_with_single_element\u001b[0m\u001b[0;34m)\u001b[0m \u001b[0;31m#considered as a simple parenthesized numeric expression.\u001b[0m\u001b[0;34m\u001b[0m\u001b[0;34m\u001b[0m\u001b[0m\n",
            "\u001b[0;31mTypeError\u001b[0m: unsupported operand type(s) for -: 'tuple' and 'int'"
          ]
        }
      ]
    },
    {
      "cell_type": "markdown",
      "metadata": {
        "id": "icX9lAflFZfJ",
        "colab_type": "text"
      },
      "source": [
        "[Difference between List and Tuple in more depth](https://www.afternerd.com/blog/difference-between-list-tuple/)\n",
        "\n",
        "> Indented block\n",
        "\n"
      ]
    },
    {
      "cell_type": "markdown",
      "metadata": {
        "id": "AWnJt6rNFZa5",
        "colab_type": "text"
      },
      "source": [
        "**The Str class**\n",
        "--> represents an immutbale sequence of chracter based upon Unicode international character set. Strings have a more compact internal represetation than the referential lists and tuples. "
      ]
    },
    {
      "cell_type": "code",
      "metadata": {
        "id": "2ywR1n-0GSmk",
        "colab_type": "code",
        "outputId": "b87ecea9-ea39-443d-80da-91c907cc1424",
        "colab": {
          "base_uri": "https://localhost:8080/",
          "height": 129
        }
      },
      "source": [
        "string_with_single_quote = 'python primer'\n",
        "print(string_with_single_quote)\n",
        "\n",
        "string_with_double_quotes = \"python's world\"\n",
        "print(string_with_double_quotes)\n",
        "\n",
        "string_with_escape_character = 'python\\'s zone'\n",
        "print(string_with_escape_character)\n",
        "\n",
        "#using ''' and \"\"\" to begin and end a string literal. In these the newline characters can be embedded naturally.\n",
        "\n",
        "print(\"\"\"Welcoem to the world of python data structure\n",
        "and algorithms. Please go through the first chapter focusing upon\n",
        "the basics of python.\"\"\")"
      ],
      "execution_count": 0,
      "outputs": [
        {
          "output_type": "stream",
          "text": [
            "python primer\n",
            "python's world\n",
            "python's zone\n",
            "Welcoem to the world of python data structure\n",
            "and algorithms. Please go through the first chapter focusing upon\n",
            "the basics of python.\n"
          ],
          "name": "stdout"
        }
      ]
    },
    {
      "cell_type": "markdown",
      "metadata": {
        "id": "8_2iIST5H_W5",
        "colab_type": "text"
      },
      "source": [
        "***The set and frozenset classes***\n",
        "--> Python’s set class represents the mathematical notion of a set, namely a collection\n",
        "of elements, without duplicates, and without an inherent order to those elements.\n",
        "The major advantage of using a set, as opposed to a list, is that it has a highly\n",
        "optimized method for checking whether a specific element is contained in the set.\n",
        "This is based on a data structure known as a hash table.\n",
        "\n",
        "Two restrictions caused by algorithmic underpinnings\n",
        "\n",
        "--> The first is that the set does not maintain the elements\n",
        "in any particular order. \n",
        "\n",
        "--> The second is that only instances of immutable types can be\n",
        "added to a Python set."
      ]
    },
    {
      "cell_type": "code",
      "metadata": {
        "id": "CjvnTfFYJujN",
        "colab_type": "code",
        "outputId": "78242b2c-8719-4573-e55c-02ecb97f68da",
        "colab": {
          "base_uri": "https://localhost:8080/",
          "height": 380
        }
      },
      "source": [
        "empty_set = { } # this is empty dictionary NOT set\n",
        "print(empty_set) \n",
        "\n",
        "#we dont use set{} like list{} to represent empty set\n",
        "#empty_set = set{}\n",
        "\n",
        "empty_set = set() # this is empty set \n",
        "print(empty_set)\n",
        "\n",
        "#sort list of elements\n",
        "set_for_sorting_iterable_list = set([3,1,4,1,5])\n",
        "print(set_for_sorting_iterable_list)\n",
        "\n",
        "#sort tuple of elements\n",
        "set_for_sorting_iterable_tuple = set((3,1,4,1,5))\n",
        "print(set_for_sorting_iterable_tuple)\n",
        "\n",
        "#sort set of elements\n",
        "set_for_sorting_iterable_set = set({3,1,4,1,5})\n",
        "print(set_for_sorting_iterable_set)\n",
        "\n",
        "set_of_numbers = {1,5,3,7}\n",
        "print(set_of_numbers)\n",
        "\n",
        "#set of immutable objects\n",
        "set_of_mix_types = {'hello',7,'20xx',17.8}\n",
        "print(set_of_mix_types)\n",
        "\n",
        "#set of immutable tuples\n",
        "set_of_immutbale_tuples = {('red','yellow','green'),(14,78,1234),(12.6,98,3,45,2),('hello',7,'20xx',17.8)}\n",
        "print(set_of_immutbale_tuples)\n",
        "\n",
        "#set of mutable lists\n",
        "set_of_mutable_lists = {[1,2,3,4],[5,6,7,8]} #will throw an error \n",
        "print(set_of_mutable_lists)"
      ],
      "execution_count": 0,
      "outputs": [
        {
          "output_type": "stream",
          "text": [
            "{}\n",
            "set()\n",
            "{1, 3, 4, 5}\n",
            "{1, 3, 4, 5}\n",
            "{1, 3, 4, 5}\n",
            "{1, 3, 5, 7}\n",
            "{17.8, 'hello', '20xx', 7}\n",
            "{('red', 'yellow', 'green'), (14, 78, 1234), (12.6, 98, 3, 45, 2), ('hello', 7, '20xx', 17.8)}\n"
          ],
          "name": "stdout"
        },
        {
          "output_type": "error",
          "ename": "TypeError",
          "evalue": "ignored",
          "traceback": [
            "\u001b[0;31m---------------------------------------------------------------------------\u001b[0m",
            "\u001b[0;31mTypeError\u001b[0m                                 Traceback (most recent call last)",
            "\u001b[0;32m<ipython-input-29-efcb13a3c587>\u001b[0m in \u001b[0;36m<module>\u001b[0;34m()\u001b[0m\n\u001b[1;32m     32\u001b[0m \u001b[0;34m\u001b[0m\u001b[0m\n\u001b[1;32m     33\u001b[0m \u001b[0;31m#set of mutable lists\u001b[0m\u001b[0;34m\u001b[0m\u001b[0;34m\u001b[0m\u001b[0;34m\u001b[0m\u001b[0m\n\u001b[0;32m---> 34\u001b[0;31m \u001b[0mset_of_mutable_lists\u001b[0m \u001b[0;34m=\u001b[0m \u001b[0;34m{\u001b[0m\u001b[0;34m[\u001b[0m\u001b[0;36m1\u001b[0m\u001b[0;34m,\u001b[0m\u001b[0;36m2\u001b[0m\u001b[0;34m,\u001b[0m\u001b[0;36m3\u001b[0m\u001b[0;34m,\u001b[0m\u001b[0;36m4\u001b[0m\u001b[0;34m]\u001b[0m\u001b[0;34m,\u001b[0m\u001b[0;34m[\u001b[0m\u001b[0;36m5\u001b[0m\u001b[0;34m,\u001b[0m\u001b[0;36m6\u001b[0m\u001b[0;34m,\u001b[0m\u001b[0;36m7\u001b[0m\u001b[0;34m,\u001b[0m\u001b[0;36m8\u001b[0m\u001b[0;34m]\u001b[0m\u001b[0;34m}\u001b[0m \u001b[0;31m#will throw an error\u001b[0m\u001b[0;34m\u001b[0m\u001b[0;34m\u001b[0m\u001b[0m\n\u001b[0m\u001b[1;32m     35\u001b[0m \u001b[0mprint\u001b[0m\u001b[0;34m(\u001b[0m\u001b[0mset_of_mutable_lists\u001b[0m\u001b[0;34m)\u001b[0m\u001b[0;34m\u001b[0m\u001b[0;34m\u001b[0m\u001b[0m\n",
            "\u001b[0;31mTypeError\u001b[0m: unhashable type: 'list'"
          ]
        }
      ]
    },
    {
      "cell_type": "code",
      "metadata": {
        "id": "cy_ldbDINxWS",
        "colab_type": "code",
        "outputId": "3a6b6074-fc4c-48d2-bc96-e8bb7ac1d24f",
        "colab": {
          "base_uri": "https://localhost:8080/",
          "height": 193
        }
      },
      "source": [
        "#set of mutable sets \n",
        "set_of_sets = {{1,2,3},{4,5,6},{7,8,9}} #will throw an error\n",
        "print(set_of_sets)"
      ],
      "execution_count": 0,
      "outputs": [
        {
          "output_type": "error",
          "ename": "TypeError",
          "evalue": "ignored",
          "traceback": [
            "\u001b[0;31m---------------------------------------------------------------------------\u001b[0m",
            "\u001b[0;31mTypeError\u001b[0m                                 Traceback (most recent call last)",
            "\u001b[0;32m<ipython-input-25-264c64f9fb7c>\u001b[0m in \u001b[0;36m<module>\u001b[0;34m()\u001b[0m\n\u001b[0;32m----> 1\u001b[0;31m \u001b[0mset_of_sets\u001b[0m \u001b[0;34m=\u001b[0m \u001b[0;34m{\u001b[0m\u001b[0;34m{\u001b[0m\u001b[0;36m1\u001b[0m\u001b[0;34m,\u001b[0m\u001b[0;36m2\u001b[0m\u001b[0;34m,\u001b[0m\u001b[0;36m3\u001b[0m\u001b[0;34m}\u001b[0m\u001b[0;34m,\u001b[0m\u001b[0;34m{\u001b[0m\u001b[0;36m4\u001b[0m\u001b[0;34m,\u001b[0m\u001b[0;36m5\u001b[0m\u001b[0;34m,\u001b[0m\u001b[0;36m6\u001b[0m\u001b[0;34m}\u001b[0m\u001b[0;34m,\u001b[0m\u001b[0;34m{\u001b[0m\u001b[0;36m7\u001b[0m\u001b[0;34m,\u001b[0m\u001b[0;36m8\u001b[0m\u001b[0;34m,\u001b[0m\u001b[0;36m9\u001b[0m\u001b[0;34m}\u001b[0m\u001b[0;34m}\u001b[0m \u001b[0;31m#will throw an error\u001b[0m\u001b[0;34m\u001b[0m\u001b[0;34m\u001b[0m\u001b[0m\n\u001b[0m\u001b[1;32m      2\u001b[0m \u001b[0mprint\u001b[0m\u001b[0;34m(\u001b[0m\u001b[0mset_of_sets\u001b[0m\u001b[0;34m)\u001b[0m\u001b[0;34m\u001b[0m\u001b[0;34m\u001b[0m\u001b[0m\n",
            "\u001b[0;31mTypeError\u001b[0m: unhashable type: 'set'"
          ]
        }
      ]
    },
    {
      "cell_type": "markdown",
      "metadata": {
        "id": "d-ws7D2RP09z",
        "colab_type": "text"
      },
      "source": [
        "**The Frozenset** --> frozenset is an IMMUTABLE form of a set"
      ]
    },
    {
      "cell_type": "code",
      "metadata": {
        "id": "tnNfy1zfPw7Y",
        "colab_type": "code",
        "outputId": "9b49df2d-0457-400d-bef2-548766ae27e4",
        "colab": {
          "base_uri": "https://localhost:8080/",
          "height": 36
        }
      },
      "source": [
        "empty_frozenset = frozenset([2,7,1])\n",
        "print(empty_frozenset)"
      ],
      "execution_count": 0,
      "outputs": [
        {
          "output_type": "stream",
          "text": [
            "frozenset({1, 2, 7})\n"
          ],
          "name": "stdout"
        }
      ]
    },
    {
      "cell_type": "markdown",
      "metadata": {
        "id": "w0hwssxlO14c",
        "colab_type": "text"
      },
      "source": [
        "**The dict class**\n",
        "--> Python’s dict class represents a dictionary, or mapping, from a set of distinct keys\n",
        "to associated values.\n",
        "\n",
        "--> Python implements a dict using an almost identical approach to that of a\n",
        "set, but with storage of the associated values.\n",
        "\n",
        "--> The constructor for the dict class accepts an existing mapping as a parameter,\n",
        "in which case it creates a new dictionary with identical associations as the existing\n",
        "one. Alternatively, the constructor accepts a sequence of key-value pairs as a parameter."
      ]
    },
    {
      "cell_type": "code",
      "metadata": {
        "id": "Z8Yl66oyPgqW",
        "colab_type": "code",
        "outputId": "15522685-8c72-4f20-db9e-4e724e8c7198",
        "colab": {
          "base_uri": "https://localhost:8080/",
          "height": 111
        }
      },
      "source": [
        "empty_dictionary = { }\n",
        "print(empty_dictionary)\n",
        "\n",
        "empty_dictionary_using_constructor = dict()\n",
        "print(empty_dictionary_using_constructor)\n",
        "\n",
        "dictionary_variable = {'apple':'fruit','monkey':'animal'}\n",
        "print(dictionary_variable)\n",
        "\n",
        "original_dictionary_pair = {('infinity','war'),('end','game')} #dictionary\n",
        "new_dictionary_using_constructor = dict(original_dictionary_pair) #dictionary given as a parameter to another dict() constructor\n",
        "print(new_dictionary_using_constructor)\n",
        "\n",
        "original_dictionary_pair = [('civil','war'),('winter','soldier')] #list \n",
        "new_dictionary_using_constructor = dict(original_dictionary_pair) #list is given as parameter to dict() constructor\n",
        "print(new_dictionary_using_constructor)\n",
        "\n",
        "\n",
        "\n",
        "#read more on creating dict() class objects\n"
      ],
      "execution_count": 0,
      "outputs": [
        {
          "output_type": "stream",
          "text": [
            "{}\n",
            "{}\n",
            "{'apple': 'fruit', 'monkey': 'animal'}\n",
            "{'end': 'game', 'infinity': 'war'}\n",
            "{'civil': 'war', 'winter': 'soldier'}\n"
          ],
          "name": "stdout"
        }
      ]
    },
    {
      "cell_type": "markdown",
      "metadata": {
        "id": "lqSBE8oUDv0F",
        "colab_type": "text"
      },
      "source": [
        "**Expressions, Operators and Precedence**\n",
        "expressions --> a+b\n",
        "\n",
        "compound expressions --> a+b*c (more than one operations)"
      ]
    },
    {
      "cell_type": "code",
      "metadata": {
        "id": "rHqML3GRU4zI",
        "colab_type": "code",
        "colab": {}
      },
      "source": [
        "a=[4,5,6,7]\n",
        "b=[6,4,7,5]\n",
        "if(a==b):\n",
        "  print(\"both variables refer to the same object\")\n",
        "elif(a==b):\n",
        "  print(\"both variables are true alias of one another\")\n",
        "elif(a is b):\n",
        "  print(\"both variables \")"
      ],
      "execution_count": 0,
      "outputs": []
    },
    {
      "cell_type": "code",
      "metadata": {
        "id": "xINY8UhzD82n",
        "colab_type": "code",
        "outputId": "e5ffd3bf-5ced-4d86-e891-1be1f131ae60",
        "colab": {
          "base_uri": "https://localhost:8080/",
          "height": 36
        }
      },
      "source": [
        "a=12\n",
        "b=13\n",
        "c=15\n",
        "result = a+b*c\n",
        "print(result)"
      ],
      "execution_count": 0,
      "outputs": [
        {
          "output_type": "stream",
          "text": [
            "207\n"
          ],
          "name": "stdout"
        }
      ]
    },
    {
      "cell_type": "markdown",
      "metadata": {
        "id": "P0a_U0ViUA5p",
        "colab_type": "text"
      },
      "source": [
        "**Logical Operators**\n",
        "--> Python supports the following keyword operators for Boolean values:\n",
        "\n",
        "**not unary negation**\n",
        "\n",
        "**and conditional and**\n",
        "\n",
        "**or conditional or** \n",
        "\n",
        "The and and or operators short-circuit, in that they do not evaluate the second\n",
        "operand if the result can be determined based on the value of the first operand.\n",
        "This feature is useful when constructing Boolean expressions in which we first test\n",
        "that a certain condition holds (such as a reference not being None), and then test a\n",
        "condition that could have otherwise generated an error condition had the prior test\n",
        "not succeeded."
      ]
    },
    {
      "cell_type": "markdown",
      "metadata": {
        "id": "-KOTqGHMUH9N",
        "colab_type": "text"
      },
      "source": [
        "**Equality Operators**\n",
        "\n",
        "**is** same identity\n",
        "\n",
        "**is not** different identity\n",
        "\n",
        "**==** equivalent \n",
        "\n",
        "**!=** not quivalent\n",
        "\n",
        "These operators have expected behavior for numeric types, and are defined lexicographically,\n",
        "and case-sensitively, for strings"
      ]
    },
    {
      "cell_type": "code",
      "metadata": {
        "id": "xzyfDTRhllHQ",
        "colab_type": "code",
        "outputId": "12a6aadb-946b-4774-da20-b7a52f6308c4",
        "colab": {
          "base_uri": "https://localhost:8080/",
          "height": 131
        }
      },
      "source": [
        "a = 0\n",
        "b = 1\n",
        "c = a and b\n",
        "print(c)\n",
        "d = a or b\n",
        "print(d)\n",
        "e = not(a and b)\n",
        "print(e)\n",
        "d = None\n",
        "f = d and a\n",
        "print(f) #most probably will generate an error --> condition(1) below\n",
        "\n",
        "'''checking conditions :\n",
        "1. test that the certian condition holds. \n",
        "2. test a condition that could have otherwise generated an error \n",
        "condition had the prior test not succeeded. \n",
        "'''"
      ],
      "execution_count": 0,
      "outputs": [
        {
          "output_type": "stream",
          "text": [
            "0\n",
            "1\n",
            "True\n",
            "None\n"
          ],
          "name": "stdout"
        },
        {
          "output_type": "execute_result",
          "data": {
            "text/plain": [
              "'checking conditions :\\n1. test that the certian condition holds. \\n2. test a condition that could have otherwise generated an error \\ncondition had the prior test not succeeded. \\n'"
            ]
          },
          "metadata": {
            "tags": []
          },
          "execution_count": 8
        }
      ]
    },
    {
      "cell_type": "markdown",
      "metadata": {
        "id": "iFPpBrllm_p2",
        "colab_type": "text"
      },
      "source": [
        "**Equality Operators**"
      ]
    },
    {
      "cell_type": "code",
      "metadata": {
        "id": "ClNJcY-BnV1Z",
        "colab_type": "code",
        "outputId": "a6827079-73af-4879-ae66-55581928ad0d",
        "colab": {
          "base_uri": "https://localhost:8080/",
          "height": 168
        }
      },
      "source": [
        "a = 24\n",
        "b = 24\n",
        "c = 25\n",
        "if a is b: #a and b are aliases to the same object\n",
        "  print('a and b have same identity')\n",
        "if(a is not c): #a\n",
        "  print('a and c have different identity')\n",
        "if(a==b):\n",
        "  print('a is equivalent to b')\n",
        "if(a!=c):\n",
        "  print('a is not equivalent to c')\n",
        "d = 24\n",
        "e = 24\n",
        "f = d\n",
        "g = e\n",
        "if(f==g):\n",
        "  print('f==g also evaluates to true when the identifiers refer to different objects that happen to have the same values \\\n",
        "  and can be deemed equivalent')\n",
        "\n",
        "#Equality operators for sets.\n",
        "a = ['p','y','t','h','o','n']\n",
        "b = ['y','t','o','p','h','n']\n",
        "c = ['y','t','o','k','h','n']\n",
        "if (a==b):\n",
        "  print('a and b are equal sets irrespective of order')\n",
        "if (a!=c):\n",
        "  print('a and c are unequal sets')\n",
        "\n",
        "# is and is not operators should be used for true aliasing \n",
        "\n",
        "a = ['p','y','t','h','o','n']\n",
        "b = ['p','y','t','h','o','n']\n",
        "if(a==b):\n",
        "  print('a and b are true aliases of each other')\n",
        "\n",
        "#Equality operators for strings\n",
        "a = 'python'\n",
        "b = 'yphtno'\n",
        "c = 'python'\n",
        "if(a==b):\n",
        "  print('a and b are equivalent strings irrespective of order')\n",
        "if(a!=c):\n",
        "  print('a and b are not equivalent strings.')"
      ],
      "execution_count": 0,
      "outputs": [
        {
          "output_type": "stream",
          "text": [
            "a and b have same identity\n",
            "a and c have different identity\n",
            "a is equivalent to b\n",
            "a is not equivalent to c\n",
            "f==g also evaluates to true when the identifiers refer to different objects that happen to have the same values   and can be deemed equivalent\n",
            "a and c are unequal sets\n",
            "a and b are true aliases of each other\n"
          ],
          "name": "stdout"
        }
      ]
    },
    {
      "cell_type": "markdown",
      "metadata": {
        "id": "BMKc2wewqhvc",
        "colab_type": "text"
      },
      "source": [
        "**Comparison Operators**\n",
        "These operators have expected behavior for numeric types, and are defined lexicographically,\n",
        "and case-sensitively, for strings"
      ]
    },
    {
      "cell_type": "code",
      "metadata": {
        "id": "Icm7PwXaueqh",
        "colab_type": "code",
        "outputId": "caf069f5-4a69-4ef9-f147-38fa2bd0992a",
        "colab": {
          "base_uri": "https://localhost:8080/",
          "height": 54
        }
      },
      "source": [
        "a=23\n",
        "b=24\n",
        "c='hello'\n",
        "d='HeLLo'\n",
        "if(a<b):\n",
        "  print('a is less than b')\n",
        "if(a<=b):\n",
        "  print('a is less than equal to b')\n",
        "if(d>c):\n",
        "  print('d is greater than c')\n",
        "if(d>=c):\n",
        "  print('d is greater than equal to c')"
      ],
      "execution_count": 0,
      "outputs": [
        {
          "output_type": "stream",
          "text": [
            "a is less than b\n",
            "a is less than equal to b\n"
          ],
          "name": "stdout"
        }
      ]
    },
    {
      "cell_type": "markdown",
      "metadata": {
        "id": "qD_9IgwQ0e8y",
        "colab_type": "text"
      },
      "source": [
        "**Arithematic Operators**\n",
        "'+' addition\n",
        "\n",
        "'-' subtraction\n",
        "\n",
        "'*' multiplication\n",
        "\n",
        "/ true division\n",
        "\n",
        "// integer division\n",
        "\n",
        "% the modulo operator"
      ]
    },
    {
      "cell_type": "code",
      "metadata": {
        "id": "poZSuUp501eE",
        "colab_type": "code",
        "outputId": "e208454e-cf39-48ab-a09b-d44cb35e14a1",
        "colab": {
          "base_uri": "https://localhost:8080/",
          "height": 129
        }
      },
      "source": [
        "a = 99\n",
        "b = 2\n",
        "print(a+b)\n",
        "print(a-b)\n",
        "print(a*b)\n",
        "print(a/b) # true division gives the floating point value\n",
        "print(a//b) #which gives the int floor value quotient \n",
        "print(a%b) #which gives the remainder"
      ],
      "execution_count": 0,
      "outputs": [
        {
          "output_type": "stream",
          "text": [
            "101\n",
            "97\n",
            "198\n",
            "49.5\n",
            "49\n",
            "1\n"
          ],
          "name": "stdout"
        }
      ]
    },
    {
      "cell_type": "markdown",
      "metadata": {
        "id": "nB6SyQJS1mfv",
        "colab_type": "text"
      },
      "source": [
        "**NOTE**\n",
        "\n",
        "We note that languages\n",
        "such as C, C++, and Java do not support the // operator; instead, the / operator\n",
        "returns the truncated quotient when both operands have integral type, and the\n",
        "result of true division when at least one operand has a floating-point type.\n",
        "\n",
        "-->  Python guarantees that q*m + r will equal n and 0 ≤ r < m. when the divisor m is negative then, m < r ≤ 0. "
      ]
    },
    {
      "cell_type": "code",
      "metadata": {
        "id": "PuSkvo431nYj",
        "colab_type": "code",
        "outputId": "b357760c-e9d8-4d9e-cb61-e83ed3f6a25c",
        "colab": {
          "base_uri": "https://localhost:8080/",
          "height": 279
        }
      },
      "source": [
        "print('for positive dividends')\n",
        "n = 6\n",
        "print(n)\n",
        "m = 4\n",
        "print(m)\n",
        "q = n//m\n",
        "print(q)\n",
        "r = n%m\n",
        "print(r)\n",
        "result = q*m+r\n",
        "print(result)\n",
        "if(r<m):\n",
        "  print('0 ≤ r < m')\n",
        "\n",
        "print('for negative dividends')\n",
        "n = -27\n",
        "print(n)\n",
        "m = 4\n",
        "print(m)\n",
        "q = n//m\n",
        "print(q)\n",
        "r = n%m\n",
        "print(r)\n",
        "result_2 = q*m+r\n",
        "print(result_2)\n",
        "if(m>r):\n",
        "  print('m < r ≤ 0')\n"
      ],
      "execution_count": 0,
      "outputs": [
        {
          "output_type": "stream",
          "text": [
            "for positive dividends\n",
            "6\n",
            "4\n",
            "1\n",
            "2\n",
            "6\n",
            "0 ≤ r < m\n",
            "for negative dividends\n",
            "-27\n",
            "4\n",
            "-7\n",
            "1\n",
            "-27\n",
            "m < r ≤ 0\n"
          ],
          "name": "stdout"
        }
      ]
    },
    {
      "cell_type": "markdown",
      "metadata": {
        "id": "qn54I22YJTKK",
        "colab_type": "text"
      },
      "source": [
        "**Bitwise Operators**\n",
        "Python provides the following bitwise operators for integers:\n",
        "\n",
        "∼ bitwise complement (prefix unary operator)\n",
        "\n",
        "& bitwise and\n",
        "\n",
        "| bitwise or\n",
        "\n",
        "ˆ bitwise exclusive-or\n",
        "\n",
        "'<<' -  shift bits left, filling in with zeros\n",
        "\n",
        "'>>' -  shift bits right, filling in with sign bit"
      ]
    },
    {
      "cell_type": "code",
      "metadata": {
        "id": "6Xgd95tnJ9Bc",
        "colab_type": "code",
        "outputId": "37a910d6-b206-44c2-8ace-ddf5ebf5cd71",
        "colab": {
          "base_uri": "https://localhost:8080/",
          "height": 129
        }
      },
      "source": [
        "a = 22\n",
        "b = 37\n",
        "print(~a)\n",
        "print(a&b)\n",
        "print(a|b)\n",
        "print(~(a|b))\n",
        "print(a<<5)\n",
        "print(a>>5)"
      ],
      "execution_count": 0,
      "outputs": [
        {
          "output_type": "stream",
          "text": [
            "-23\n",
            "4\n",
            "55\n",
            "-56\n",
            "704\n",
            "0\n"
          ],
          "name": "stdout"
        }
      ]
    },
    {
      "cell_type": "markdown",
      "metadata": {
        "id": "Wz9H1oC2KrPW",
        "colab_type": "text"
      },
      "source": [
        "**Sequence Operators**\n",
        "\n",
        "Each of Python’s built-in sequence types (str, tuple, and list) support the following\n",
        "operator syntaxes:\n",
        "\n",
        "s[j] element at index j\n",
        "\n",
        "s[start:stop] slice including \n",
        "indices [start,stop)\n",
        "\n",
        "s[start:stop:step] slice including indices start, start + step,\n",
        "start + 2 step, . . . , up to but not equalling or stop\n",
        "\n",
        "s + t concatenation of sequences\n",
        "\n",
        "k s shorthand for s + s + s + ... (k times)\n",
        "\n",
        "val in s containment check\n",
        "\n",
        "val not in s non-containment check"
      ]
    },
    {
      "cell_type": "code",
      "metadata": {
        "id": "AY_hXmG2LWTq",
        "colab_type": "code",
        "outputId": "30be018b-dedc-4376-f554-f8196e72b56b",
        "colab": {
          "base_uri": "https://localhost:8080/",
          "height": 34
        }
      },
      "source": [
        "#list example \n",
        "string_name = 'python data structures'\n",
        "string_name[1]\n",
        "print(string_name[1])"
      ],
      "execution_count": 0,
      "outputs": [
        {
          "output_type": "stream",
          "text": [
            "y\n"
          ],
          "name": "stdout"
        }
      ]
    },
    {
      "cell_type": "markdown",
      "metadata": {
        "id": "BVmoVlIBRjpi",
        "colab_type": "text"
      },
      "source": [
        "**Sequence Operators on Strings**\n",
        "- strings are immutable\n"
      ]
    },
    {
      "cell_type": "code",
      "metadata": {
        "id": "KQxTc4z7RrFJ",
        "colab_type": "code",
        "outputId": "60a331bc-1848-4a1b-e264-08678b1d5947",
        "colab": {
          "base_uri": "https://localhost:8080/",
          "height": 128
        }
      },
      "source": [
        "# sequence types : str, tuple and list \n",
        "string_name = 'python_data_structures'\n",
        "print(string_name[4])\n",
        "print(string_name[4:9]) #slice by step 1 by default to form sub-sequence of the given string\n",
        "print(string_name[2:3:10]) #slice by step 3 \n",
        "\n",
        "#concatenation of sequences\n",
        "another_name = '_and_algorithms'\n",
        "resultant_string = string_name+another_name\n",
        "print(resultant_string)\n",
        "#print the given string k number of times \n",
        "repetitive_string_name = 'primer'\n",
        "k = int(input(\"Enter the number of times you want to repeat the string :\"))\n",
        "print(repetitive_string_name*k) # will repeat string k number of times \n",
        "#checking for a particular value in the given string\n",
        "value_string = 'structures'"
      ],
      "execution_count": 0,
      "outputs": [
        {
          "output_type": "stream",
          "text": [
            "o\n",
            "on_da\n",
            "t\n",
            "python_data_structures_and_algorithms\n",
            "Enter the number of times you want to repeat the string :5\n",
            "primerprimerprimerprimerprimer\n"
          ],
          "name": "stdout"
        }
      ]
    },
    {
      "cell_type": "markdown",
      "metadata": {
        "id": "nNEWX_mwqDxA",
        "colab_type": "text"
      },
      "source": [
        "**Containment check**\n",
        "val in s"
      ]
    },
    {
      "cell_type": "code",
      "metadata": {
        "id": "PkV_zfz1qUZh",
        "colab_type": "code",
        "outputId": "aea587f3-f6d5-409e-f78f-6497864cf0f9",
        "colab": {
          "base_uri": "https://localhost:8080/",
          "height": 351
        }
      },
      "source": [
        "count = 0\n",
        "for character_value in value_string:\n",
        "  print(character_value)\n",
        "  if character_value == 's':\n",
        "    count = count+1\n",
        "print(\"The number of s\\'s in the given string is {0}\".format(count))\n",
        "\n",
        "print(\"-------------------------------------------------------------\")\n",
        "#checking for a larger substring in a given string \n",
        "value_string = \"ABCABBAABCABAAB\"\n",
        "# Method one : using in method\n",
        "\"AAB\" in value_string\n",
        "value_string.find('AAB')\n",
        "print(\" The find function gave the position of the starting of the searched word\")"
      ],
      "execution_count": 0,
      "outputs": [
        {
          "output_type": "stream",
          "text": [
            "A\n",
            "B\n",
            "C\n",
            "A\n",
            "B\n",
            "B\n",
            "A\n",
            "A\n",
            "B\n",
            "C\n",
            "A\n",
            "B\n",
            "A\n",
            "A\n",
            "B\n",
            "The number of s's in the given string is 0\n",
            "-------------------------------------------------------------\n",
            " The find function gave the position of the starting of the searched word\n"
          ],
          "name": "stdout"
        }
      ]
    },
    {
      "cell_type": "markdown",
      "metadata": {
        "id": "OLoRygYBqk-W",
        "colab_type": "text"
      },
      "source": [
        "**Non-containment check**\n",
        "va not in s"
      ]
    },
    {
      "cell_type": "code",
      "metadata": {
        "id": "5TmxWefJqqvs",
        "colab_type": "code",
        "outputId": "47357307-9fcc-4dbb-9ae1-cc25034282eb",
        "colab": {
          "base_uri": "https://localhost:8080/",
          "height": 136
        }
      },
      "source": [
        "#checking if a particular value is not found in the given string\n",
        "non_count = 0\n",
        "string_value = 'pythonprimer'\n",
        "for characer_value not in string_value:\n",
        "  non_count = non_count+1\n",
        "  if character_string != 's'):\n",
        "    not_count =  not_count+1\n",
        "print(\"s not found in the string even after count {0}\".format(char(count))"
      ],
      "execution_count": 0,
      "outputs": [
        {
          "output_type": "error",
          "ename": "SyntaxError",
          "evalue": "ignored",
          "traceback": [
            "\u001b[0;36m  File \u001b[0;32m\"<ipython-input-24-a6cdb254c29a>\"\u001b[0;36m, line \u001b[0;32m3\u001b[0m\n\u001b[0;31m    for characer_value not in string_value:\u001b[0m\n\u001b[0m                         ^\u001b[0m\n\u001b[0;31mSyntaxError\u001b[0m\u001b[0;31m:\u001b[0m invalid syntax\n"
          ]
        }
      ]
    },
    {
      "cell_type": "markdown",
      "metadata": {
        "id": "uUERVfZ8q5e8",
        "colab_type": "text"
      },
      "source": [
        "**Sequence Operators on List**\n",
        "- lists are mutable\n"
      ]
    },
    {
      "cell_type": "code",
      "metadata": {
        "id": "vB1lEUAssXnj",
        "colab_type": "code",
        "outputId": "4b15aef4-b1a4-4b1a-f84f-ea383dc07474",
        "colab": {
          "base_uri": "https://localhost:8080/",
          "height": 128
        }
      },
      "source": [
        "sample_list = ['a','b',4,6,87.3,'hello','python','primer',99.34,23,'n','parrot'] # list having multiple types of elements\n",
        "print(sample_list[1])\n",
        "\n",
        "#to remove elements form a given list of elements\n",
        "print(\"original list : {0}\".format(sample_list))\n",
        "del(sample_list[3])\n",
        "print(\"modified list : {0}\".format(sample_list))\n",
        "\n",
        "print(sample_list[2:5])\n",
        "#to perform a slicing on a given list, the syntax is list_name(start:stop[:step])\n",
        "print(sample_list[2:11:3])\n",
        "# the above syntax is similar to -> list_name[slice(start, stop, step)]\n",
        "print(sample_list[slice(2,10,2)])"
      ],
      "execution_count": 0,
      "outputs": [
        {
          "output_type": "stream",
          "text": [
            "b\n",
            "original list : ['a', 'b', 4, 6, 87.3, 'hello', 'python', 'primer', 99.34, 23, 'n', 'parrot']\n",
            "modified list : ['a', 'b', 4, 87.3, 'hello', 'python', 'primer', 99.34, 23, 'n', 'parrot']\n",
            "[4, 87.3, 'hello']\n",
            "[4, 'python', 23]\n",
            "[4, 'hello', 'primer', 23]\n"
          ],
          "name": "stdout"
        }
      ]
    },
    {
      "cell_type": "markdown",
      "metadata": {
        "id": "w2psnb3d6Xna",
        "colab_type": "text"
      },
      "source": [
        "**Negative indices for the sequence operators**"
      ]
    },
    {
      "cell_type": "code",
      "metadata": {
        "id": "Z7aUTsGJ6ghx",
        "colab_type": "code",
        "outputId": "bea240e9-11f4-4894-dfdb-0ee01f9f24d1",
        "colab": {
          "base_uri": "https://localhost:8080/",
          "height": 147
        }
      },
      "source": [
        "a = [0,1,2,3,4,5,6,7,8,9,10,11,12,13,14,15,16,17,18,19,20]\n",
        "print(a[-1])    # last item in the array\n",
        "print(a[-2:])   # last two items in the array\n",
        "print(a[:-2])   # everything except the last two items\n",
        "\n",
        "# Similarly, step may be a negative number:\n",
        "\n",
        "print(a[::-1])    # all items in the array, reversed\n",
        "print(a[1::-1])   # the first two items, reversed\n",
        "print(a[:-3:-1])  # the last two items, reversed\n",
        "print(a[-3::-1])  # everything except the last two items, reversed"
      ],
      "execution_count": 0,
      "outputs": [
        {
          "output_type": "stream",
          "text": [
            "20\n",
            "[19, 20]\n",
            "[0, 1, 2, 3, 4, 5, 6, 7, 8, 9, 10, 11, 12, 13, 14, 15, 16, 17, 18]\n",
            "[20, 19, 18, 17, 16, 15, 14, 13, 12, 11, 10, 9, 8, 7, 6, 5, 4, 3, 2, 1, 0]\n",
            "[1, 0]\n",
            "[20, 19]\n",
            "[18, 17, 16, 15, 14, 13, 12, 11, 10, 9, 8, 7, 6, 5, 4, 3, 2, 1, 0]\n"
          ],
          "name": "stdout"
        }
      ]
    },
    {
      "cell_type": "code",
      "metadata": {
        "id": "n4UVTA989eQG",
        "colab_type": "code",
        "outputId": "7a0b4785-d08a-418c-8393-0167f38de1e5",
        "colab": {
          "base_uri": "https://localhost:8080/",
          "height": 56
        }
      },
      "source": [
        "'''\n",
        "Program for finding a substring inside an already exisitng string without using the 'in' method and str.find(). \n",
        "Write the complete function showcasing the complete internal workng of the function. Also,print the number of times \n",
        "a particular substring occurs in a given string and it's respective position. \n",
        "\n",
        "Eg: \n",
        "input : AAB\n",
        "string : AABAABAABABBBBABBBBABABABABAAABBBBBABABABAAABBBB\n",
        "output : 5  -> this represnts the number of times the substtring occured \n",
        "[0,3,6,28,42] -> this represnts the postions at which the substring occured \n",
        "'''\n",
        "# your code comes here\n",
        "#\n",
        "#\n",
        "#\n",
        "#\n",
        "#"
      ],
      "execution_count": 0,
      "outputs": [
        {
          "output_type": "execute_result",
          "data": {
            "text/plain": [
              "\"\\nProgram for finding a substring inside an already exisitng string without using the 'in' method and str.find(). \\nWrite the complete function showcasing the complete internal workng of the function. Also,print the number of times \\na particular substring occurs in a given string and it's respective position. \\n\\nEg: \\ninput : AAB\\nstring : AABAABAABABBBBABBBBABABABABAAABBBBBABABABAAABBBB\\noutput : 5  -> this represnts the number of times the substtring occured \\n[0,3,6,28,42] -> this represnts the postions at which the substring occured \\n\""
            ]
          },
          "metadata": {
            "tags": []
          },
          "execution_count": 61
        }
      ]
    },
    {
      "cell_type": "markdown",
      "metadata": {
        "id": "5_HOP0ch_OJ8",
        "colab_type": "text"
      },
      "source": [
        "All sequences define comparison operations based on lexicographic order, performing\n",
        "an element by element comparison until the first difference is found. For\n",
        "\n",
        "example, [5, 6, 9] < [5, 7] because of the entries at index 1. \n",
        "\n",
        "Therefore, the following\n",
        "\n",
        "operations are supported by sequence types:\n",
        "\n",
        "s == t equivalent (element by element)\n",
        "\n",
        "s != t not equivalent\n",
        "\n",
        "s < t lexicographically less than\n",
        "\n",
        "s <= t lexicographically less than or equal to\n",
        "\n",
        "s > t lexicographically greater than\n",
        "\n",
        "s >= t lexicographically greater than or equal to"
      ]
    },
    {
      "cell_type": "code",
      "metadata": {
        "id": "bQajUWBR_fNK",
        "colab_type": "code",
        "outputId": "b51b09d4-2aba-418a-e5d6-f1414d5d849f",
        "colab": {
          "base_uri": "https://localhost:8080/",
          "height": 166
        }
      },
      "source": [
        "s = [5,6,9]\n",
        "t = [5,7]\n",
        "v = [6,5,9]\n",
        "print(s==t)\n",
        "print(s==v) # s and v are lexicographically not equal because the order is different even though the elements are same\n",
        "print(s!=v)\n",
        "print(s!=t)\n",
        "print(s<t)\n",
        "print(s<=t)\n",
        "print(s>t)\n",
        "print(s>=t)"
      ],
      "execution_count": 0,
      "outputs": [
        {
          "output_type": "stream",
          "text": [
            "False\n",
            "False\n",
            "True\n",
            "True\n",
            "True\n",
            "True\n",
            "False\n",
            "False\n"
          ],
          "name": "stdout"
        }
      ]
    },
    {
      "cell_type": "markdown",
      "metadata": {
        "id": "g4s8cW9SAp9U",
        "colab_type": "text"
      },
      "source": [
        "**Operators for sets and dictionaries**\n",
        "\n",
        "Sets and frozensets support the following operators:\n",
        "\n",
        "key in s containment check\n",
        "\n",
        "key not in s non-containment check\n",
        "\n",
        "s1 == s2 s1 is equivalent to s2\n",
        "\n",
        "s1 != s2 s1 is not equivalent to s2\n",
        "\n",
        "s1 <= s2 s1 is subset of s2\n",
        "\n",
        "s1 < s2 s1 is proper subset of s2\n",
        "\n",
        "s1 >= s2 s1 is superset of s2\n",
        "\n",
        "s1 > s2 s1 is proper superset of s2\n",
        "\n",
        "s1 | s2 the union of s1 and s2\n",
        "\n",
        "s1 & s2 the intersection of s1 and s2\n",
        "\n",
        "s1 − s2 the set of elements in s1 but not s2\n",
        "\n",
        "s1 ˆ s2 the set of elements in precisely one of s1 or s2\n",
        "\n",
        "**- the comparison operators, such as <, are not lexicographic; rather, they are based on the mathematical notion of a subset.**"
      ]
    },
    {
      "cell_type": "code",
      "metadata": {
        "id": "C6qnreOxVuLU",
        "colab_type": "code",
        "outputId": "2c439dde-776d-4640-90be-05b15d4066bb",
        "colab": {
          "base_uri": "https://localhost:8080/",
          "height": 437
        }
      },
      "source": [
        "# Sets (mutable) and frozensets (immutable)\n",
        "set_example = {2,5,'python',83.4,True}\n",
        "#operations on sets \n",
        "print(set_example) #gives sorted elements\n",
        "for key in set_example:\n",
        "  print(key)              #gives sorted elements\n",
        "print(\"-----------------\")\n",
        "#containment check in a single line \n",
        "result = 'python' in set_example\n",
        "print(result)\n",
        "print(\"-----------------\")\n",
        "#non-containment check in a python set\n",
        "result = 'primer' not in set_example\n",
        "print(result)\n",
        "frozen_set_example = frozenset(set_example)\n",
        "print(frozen_set_example)\n",
        "frozen_set_example[1] = '45' #will throw an error"
      ],
      "execution_count": 0,
      "outputs": [
        {
          "output_type": "stream",
          "text": [
            "{True, 2, 5, 83.4, 'python'}\n",
            "True\n",
            "2\n",
            "5\n",
            "83.4\n",
            "python\n",
            "-----------------\n",
            "True\n",
            "-----------------\n",
            "True\n",
            "frozenset({True, 2, 83.4, 5, 'python'})\n"
          ],
          "name": "stdout"
        },
        {
          "output_type": "error",
          "ename": "TypeError",
          "evalue": "ignored",
          "traceback": [
            "\u001b[0;31m---------------------------------------------------------------------------\u001b[0m",
            "\u001b[0;31mTypeError\u001b[0m                                 Traceback (most recent call last)",
            "\u001b[0;32m<ipython-input-12-48b71da78aa9>\u001b[0m in \u001b[0;36m<module>\u001b[0;34m()\u001b[0m\n\u001b[1;32m     14\u001b[0m \u001b[0mfrozen_set_example\u001b[0m \u001b[0;34m=\u001b[0m \u001b[0mfrozenset\u001b[0m\u001b[0;34m(\u001b[0m\u001b[0mset_example\u001b[0m\u001b[0;34m)\u001b[0m\u001b[0;34m\u001b[0m\u001b[0;34m\u001b[0m\u001b[0m\n\u001b[1;32m     15\u001b[0m \u001b[0mprint\u001b[0m\u001b[0;34m(\u001b[0m\u001b[0mfrozen_set_example\u001b[0m\u001b[0;34m)\u001b[0m\u001b[0;34m\u001b[0m\u001b[0;34m\u001b[0m\u001b[0m\n\u001b[0;32m---> 16\u001b[0;31m \u001b[0mfrozen_set_example\u001b[0m\u001b[0;34m[\u001b[0m\u001b[0;36m1\u001b[0m\u001b[0;34m]\u001b[0m \u001b[0;34m=\u001b[0m \u001b[0;34m'45'\u001b[0m \u001b[0;31m#will throw an error\u001b[0m\u001b[0;34m\u001b[0m\u001b[0;34m\u001b[0m\u001b[0m\n\u001b[0m",
            "\u001b[0;31mTypeError\u001b[0m: 'frozenset' object does not support item assignment"
          ]
        }
      ]
    },
    {
      "cell_type": "code",
      "metadata": {
        "id": "U0MOKd2zZwL8",
        "colab_type": "code",
        "outputId": "90d40007-6c9c-435b-94c6-e5d2025dd04b",
        "colab": {
          "base_uri": "https://localhost:8080/",
          "height": 204
        }
      },
      "source": [
        "# s is equivalent to t\n",
        "s = {'pyhton','1',56.4,'True'}\n",
        "t = {'pyhton','1',56.4,'True'}\n",
        "v = t = {'pyhton','1',56.4,'True','primer'}\n",
        "print(s==t)\n",
        "print(s!=t)\n",
        "print(s<t)\n",
        "print(s<=t)\n",
        "print(s>t)\n",
        "print(s>=t)\n",
        "print(s|v)\n",
        "print(s&v)\n",
        "print(v-s)\n",
        "print(s^v)"
      ],
      "execution_count": 0,
      "outputs": [
        {
          "output_type": "stream",
          "text": [
            "False\n",
            "True\n",
            "True\n",
            "True\n",
            "False\n",
            "False\n",
            "{'True', 'primer', 'pyhton', 56.4, '1'}\n",
            "{56.4, 'pyhton', 'True', '1'}\n",
            "{'primer'}\n",
            "{'primer'}\n"
          ],
          "name": "stdout"
        }
      ]
    },
    {
      "cell_type": "markdown",
      "metadata": {
        "id": "pp2rO5JUfij9",
        "colab_type": "text"
      },
      "source": [
        "\n",
        "\n",
        "*   The comparison operators define a partial order, but not a total order, as disjoint sets are neither “less than,” “equal\n",
        "to,” or “greater than” each other. \n",
        "*   Sets also support many fundamental behaviors\n",
        "through named methods (e.g., add, remove);\n",
        "\n"
      ]
    },
    {
      "cell_type": "code",
      "metadata": {
        "id": "juk7jy7Xfy5w",
        "colab_type": "code",
        "outputId": "aeec54bf-59d0-46c2-ee4e-e61be1f73121",
        "colab": {
          "base_uri": "https://localhost:8080/",
          "height": 73
        }
      },
      "source": [
        "original_set = {6,5,3,8,7,2}\n",
        "print(original_set)\n",
        "original_set.add(10)\n",
        "print(original_set)\n",
        "original_set.remove(5)\n",
        "print(original_set)"
      ],
      "execution_count": 0,
      "outputs": [
        {
          "output_type": "stream",
          "text": [
            "{2, 3, 5, 6, 7, 8}\n",
            "{2, 3, 5, 6, 7, 8, 10}\n",
            "{2, 3, 6, 7, 8, 10}\n"
          ],
          "name": "stdout"
        }
      ]
    },
    {
      "cell_type": "markdown",
      "metadata": {
        "id": "SwJ7fmPViLi1",
        "colab_type": "text"
      },
      "source": [
        "**Operations on Dictionaries**\n",
        "\n",
        "Dictionaries, like sets, do not maintain a well-defined order on their elements.\n",
        "Furthermore, the concept of a subset is not typically meaningful for dictionaries, so\n",
        "the dict class does not support operators such as <. Dictionaries support the notion\n",
        "of equivalence, with d1 == d2 if the two dictionaries contain the same set of keyvalue\n",
        "pairs."
      ]
    },
    {
      "cell_type": "code",
      "metadata": {
        "id": "owrkNTNWiRZ1",
        "colab_type": "code",
        "outputId": "fb871863-d46a-4b43-e1c6-093413c3883b",
        "colab": {
          "base_uri": "https://localhost:8080/",
          "height": 187
        }
      },
      "source": [
        "dictionary_sample = {'number':47,'string':'primer','decimal':67.5}\n",
        "another_dictionary_sample = {'number':47,'string':'primer','decimal':67.5}\n",
        "\n",
        "print('dictionary_sample {0}'.format(dictionary_sample))\n",
        "\n",
        "print('another dictionary_sample {0}'.format(another_dictionary_sample))\n",
        "\n",
        "#equivalence relation between two dictionaries \n",
        "print(dictionary_sample==another_dictionary_sample)\n",
        "\n",
        "#accessing dictionary values based upon key value\n",
        "print(dictionary_sample['number'])\n",
        "\n",
        "# setting or restting a value based upon key of an existing dictionary\n",
        "new_dictionary_sample = {'number':47,'string':'primer','decimal':67.5}\n",
        "print(new_dictionary_sample)\n",
        "new_dictionary_sample['number'] = 56\n",
        "print(new_dictionary_sample)\n",
        "# dictionary is mutable\n",
        "#dictionary also supports named methods\n",
        "\n",
        "#containment check \n",
        "print('string' in dictionary_sample)\n",
        "\n",
        "#non-containment check\n",
        "print('string' not in dictionary_sample)\n"
      ],
      "execution_count": 0,
      "outputs": [
        {
          "output_type": "stream",
          "text": [
            "dictionary_sample {'number': 47, 'string': 'primer', 'decimal': 67.5}\n",
            "another dictionary_sample {'number': 47, 'string': 'primer', 'decimal': 67.5}\n",
            "True\n",
            "47\n",
            "{'number': 47, 'string': 'primer', 'decimal': 67.5}\n",
            "{'number': 56, 'string': 'primer', 'decimal': 67.5}\n",
            "True\n",
            "False\n"
          ],
          "name": "stdout"
        }
      ]
    },
    {
      "cell_type": "markdown",
      "metadata": {
        "id": "7CfS5fUSlcNM",
        "colab_type": "text"
      },
      "source": [
        "**Extended assignment operators**\n"
      ]
    },
    {
      "cell_type": "code",
      "metadata": {
        "id": "XBb5cSbflyKv",
        "colab_type": "code",
        "outputId": "d0c08f25-7bfe-46d2-c97c-d0abe3b68e59",
        "colab": {
          "base_uri": "https://localhost:8080/",
          "height": 92
        }
      },
      "source": [
        "count = 0 #immutable int type\n",
        "print(count)\n",
        "count+=2 #it doesnt modifies the original int value but reassigns the constructor to the newly constructed value.\n",
        "print(count)\n",
        "#certain extended operations on list and mutating the values\n",
        "alpha = [1,2,4]\n",
        "beta = alpha\n",
        "alpha+=[6,7,8] #will give the new set\n",
        "beta+=[6,7,8] #will give the new set\n",
        "print('alpha : {0}'.format(alpha))\n",
        "print('beta : {0}'.format(beta))"
      ],
      "execution_count": 0,
      "outputs": [
        {
          "output_type": "stream",
          "text": [
            "0\n",
            "2\n",
            "alpha : [1, 2, 4, 6, 7, 8, 6, 7, 8]\n",
            "beta : [1, 2, 4, 6, 7, 8, 6, 7, 8]\n"
          ],
          "name": "stdout"
        }
      ]
    },
    {
      "cell_type": "markdown",
      "metadata": {
        "id": "rwOGA-mR8oJ6",
        "colab_type": "text"
      },
      "source": [
        "**Compound Expressions and Operator Precedence**\n",
        "\n",
        "* Operators within a category are typically evaluated from left to  right\n",
        "* Exceptions to this rule include that unary operators and exponentiation are evaluated form right to left. "
      ]
    },
    {
      "cell_type": "code",
      "metadata": {
        "id": "ZzFEDZGG-3an",
        "colab_type": "code",
        "outputId": "72db6817-a2f9-4437-aff4-d62a903dcdb3",
        "colab": {
          "base_uri": "https://localhost:8080/",
          "height": 54
        }
      },
      "source": [
        "#chained assignemnt \n",
        "x=y=2\n",
        "print(x*y)\n",
        "\n",
        "#chaining of comparison operators\n",
        "1<=x+y<=10 \n",
        "'''\n",
        "gives output as True and gets evaluated as (1<=x+y)and(x+y<=10) \n",
        "w/o computing the intermediate value x+y twice.\n",
        "''' "
      ],
      "execution_count": 0,
      "outputs": [
        {
          "output_type": "stream",
          "text": [
            "4\n"
          ],
          "name": "stdout"
        },
        {
          "output_type": "execute_result",
          "data": {
            "text/plain": [
              "True"
            ]
          },
          "metadata": {
            "tags": []
          },
          "execution_count": 6
        }
      ]
    },
    {
      "cell_type": "markdown",
      "metadata": {
        "id": "N9vo4xK1ATo3",
        "colab_type": "text"
      },
      "source": [
        "![image.png](data:image/png;base64,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)"
      ]
    },
    {
      "cell_type": "markdown",
      "metadata": {
        "id": "xgeDiHssAUdT",
        "colab_type": "text"
      },
      "source": [
        "**Control Flow**\n",
        "\n",
        "The colon character is used to delimit the\n",
        "beginning of a block of code that acts as a body for a control structure. If the body\n",
        "can be stated as a single executable statement, it can technically placed on the same\n",
        "line, to the right of the colon. However, a body is more typically typeset as an\n",
        "indented block starting on the line following the colon. Python relies on the indentation\n",
        "level to designate the extent of that block of code, or any nested blocks of\n",
        "code within."
      ]
    },
    {
      "cell_type": "code",
      "metadata": {
        "id": "VtRTiCZ4DOcb",
        "colab_type": "code",
        "outputId": "ba23db75-1dc8-4ae9-a34d-7af2cc436b8d",
        "colab": {
          "base_uri": "https://localhost:8080/",
          "height": 92
        }
      },
      "source": [
        "user_input = str(input(\"Enter the name of the file :\"))\n",
        "file_size = 10\n",
        "if(user_input==' '):\n",
        "  print(\"Please enter the name of the file.\")\n",
        "elif(user_input=='New Folder'):\n",
        "  print(\"Please enter an exisitng folder name.\")\n",
        "else:\n",
        "  print(\"Working through opening the entered file.\")\n",
        "  file_size_entered = input(\"Enter the file size : \")\n",
        "  if(file_size_entered==file_size):\n",
        "    print(\"The file size of the entered file is less.\")\n",
        "  else:\n",
        "    print(\"The file size of the entered file is more than 10 MB.\")"
      ],
      "execution_count": 0,
      "outputs": [
        {
          "output_type": "stream",
          "text": [
            "Enter the name of the file :Python_primer\n",
            "Working through opening the entered file.\n",
            "Enter the file size : 24\n",
            "The file size of the entered file is more than 10 MB.\n"
          ],
          "name": "stdout"
        }
      ]
    },
    {
      "cell_type": "markdown",
      "metadata": {
        "id": "HRnM_1-fGcgM",
        "colab_type": "text"
      },
      "source": [
        "**Loops in Python**\n",
        "* for\n",
        "* while\n",
        "* do-while \n",
        "\n",
        "# **NOTE : Have to execute the loop scripts**"
      ]
    },
    {
      "cell_type": "markdown",
      "metadata": {
        "id": "21wr4zNtIKKF",
        "colab_type": "text"
      },
      "source": [
        "**Break and Continue Statements**\n",
        "Python supports a break statement that immediately terminate a while or for loop\n",
        "when executed within its body. More formally, if applied within nested control\n",
        "structures, it causes the termination of the most immediately enclosing loop. As\n",
        "a typical example, here is code that determines whether a target value occurs in a\n",
        "data set:\n",
        "\n",
        "found = False\n",
        "\n",
        "for item in data:\n",
        "\n",
        "if item == target:\n",
        "\n",
        "found = True\n",
        "\n",
        "break\n",
        "\n",
        "Python also supports a continue statement that causes the current iteration of a\n",
        "loop body to stop, but with subsequent passes of the loop proceeding as expected.\n",
        "\n"
      ]
    },
    {
      "cell_type": "markdown",
      "metadata": {
        "id": "-9FxsCymIhND",
        "colab_type": "text"
      },
      "source": [
        "**Functions and Methods**\n",
        "--> function to describe a traditional, stateless function that is invoked\n",
        "without the context of a particular class or an instance of that class, such as\n",
        "sorted(data). We use the more specific term method to describe a member function\n",
        "that is invoked upon a specific object using an object-oriented message passing syntax,\n",
        "such as data.sort( )\n",
        "\n",
        "--> Each time a function is called,\n",
        "Python creates a dedicated activation record that stores information relevant to the\n",
        "current call. This activation record includes what is known as a namespace to manage all identifiers that have local scope within the current call.\n",
        "The namespace includes the function’s parameters and any other identifiers that are\n",
        "defined locally within the body of the function. An identifier in the local scope\n",
        "of the function caller has no relation to any identifier with the same name in the\n",
        "caller’s scope (although identifiers in different scopes may be aliases to the same\n",
        "object).\n",
        "\n",
        "**NOTE: Activation record is also called memory stack**\n"
      ]
    },
    {
      "cell_type": "markdown",
      "metadata": {
        "id": "KAm4sucGerxC",
        "colab_type": "text"
      },
      "source": [
        "**Return Statement**\n",
        "\n",
        "A return statement is used within the body of a function to indicate that the function should immediately cease execution, and that an expressed value should be returned to the caller. If a return statement is executed without an explicit argument, the None value is automatically returned. Likewise, None will be returned if the flow of control ever reaches the end of a function body without having executed a return statement. Often, a return statement will be the final command within the body of the function"
      ]
    },
    {
      "cell_type": "code",
      "metadata": {
        "id": "a2IxmiVNbvjb",
        "colab_type": "code",
        "outputId": "ba69f321-d168-458d-930e-b146695af75d",
        "colab": {
          "base_uri": "https://localhost:8080/",
          "height": 54
        }
      },
      "source": [
        "def item_in_target(item,target):\n",
        "  if item in target:\n",
        "    result = True\n",
        "  else:\n",
        "    result = False\n",
        "  return result\n",
        "\n",
        "def main():\n",
        "  target = 'python primer'\n",
        "  item = 'python'\n",
        "  result = item_in_target(item,target)\n",
        "  print(result)\n",
        "\n",
        "main() #in python 3 this works \n",
        "\n",
        "'''\n",
        "\n",
        "had it been python 2x, it would have required us to execute by running the command :\n",
        "\n",
        "if __name__=='__main__:\n",
        "  main()\n",
        "\n",
        "'''"
      ],
      "execution_count": 0,
      "outputs": [
        {
          "output_type": "stream",
          "text": [
            "True\n"
          ],
          "name": "stdout"
        },
        {
          "output_type": "execute_result",
          "data": {
            "text/plain": [
              "\"\\n\\nhad it been python 2x, it would have required us to execute by running the command :\\n\\nif __name__=='__main__:\\n  main()\\n\\n\""
            ]
          },
          "metadata": {
            "tags": []
          },
          "execution_count": 11
        }
      ]
    },
    {
      "cell_type": "markdown",
      "metadata": {
        "id": "9rFbfUE5nth_",
        "colab_type": "text"
      },
      "source": [
        "**Information Passing**\n",
        "\n",
        "In the context of a function signature, the identifiers used to describe the expected parameters are known as formal parameters, and the objects sent by the caller when invoking the function are the actual parameters. Parameter passing in Python follows the semantics of the standard assignment statement. When a function is invoked, each identifier that serves as a formal parameter is assigned, in the function's local scope, to the respective actual parameter that is provided by the caller of the function.\n",
        "\n",
        "An advantage to Python's mechanism for passing information to and from a function is that objects are not copied. This ensures that the invocation of a function is efficient, even in a case where a parameter or return value is a complex object."
      ]
    },
    {
      "cell_type": "code",
      "metadata": {
        "id": "ocRn-GxBol0N",
        "colab_type": "code",
        "outputId": "e8ad7ea7-6e08-4cf5-b390-31343cb66190",
        "colab": {
          "base_uri": "https://localhost:8080/",
          "height": 92
        }
      },
      "source": [
        "def count(data, target):\n",
        "  n=0\n",
        "  data.append('F')\n",
        "  print(\"The value of data inside function {0}\".format(data))\n",
        "  for item in data:\n",
        "      if(item==target):\n",
        "        n+=1\n",
        "      return n\n",
        "def contains(data, target):\n",
        "  for item in target:\n",
        "    if item==target: #found a match\n",
        "      return True\n",
        "  return False\n",
        "\n",
        "def main():\n",
        "  grades = ['A','B','C','D','E']\n",
        "  print(\"The value of data outside function {0}\".format(grades))\n",
        "  target = 'A'\n",
        "  prizes = count(grades,target)\n",
        "  found = contains(grades,target)\n",
        "  print(prizes)\n",
        "  print(found)\n",
        "\n",
        "main()"
      ],
      "execution_count": 0,
      "outputs": [
        {
          "output_type": "stream",
          "text": [
            "The value of data outside function ['A', 'B', 'C', 'D', 'E']\n",
            "The value of data inside function ['A', 'B', 'C', 'D', 'E', 'F']\n",
            "1\n",
            "True\n"
          ],
          "name": "stdout"
        }
      ]
    },
    {
      "cell_type": "markdown",
      "metadata": {
        "id": "32PPtI3Drl6E",
        "colab_type": "text"
      },
      "source": [
        "**Mutable Parameters**\n",
        "\n",
        "* Python's parameter passing model has additional implications when a parameter is a mutable object. Because the formal parameter is an alias for the actual parameter, the body of the function may interact with the object in ways that change its state.\n",
        "\n",
        "* As an aside, we note that reassigning a new\n",
        "value to a formal parameter with a function body, such as by setting data = [ ],\n",
        "does not alter the actual parameter; such a reassignment simply breaks the alias.\n",
        "\n",
        "\n"
      ]
    },
    {
      "cell_type": "code",
      "metadata": {
        "id": "BqiyHIJ5tiWh",
        "colab_type": "code",
        "outputId": "2df011d2-eb25-463a-bf38-c088a87eb7df",
        "colab": {
          "base_uri": "https://localhost:8080/",
          "height": 36
        }
      },
      "source": [
        "''' case where the formal parameter is required to alter \n",
        "or modify the actual parameter ''' \n",
        "\n",
        "def scale(data, factor):\n",
        "  for j in range(len(data)):\n",
        "    data[j] = data[j]*factor \n",
        "  return data\n",
        "\n",
        "def main():\n",
        "  list_sample=[1,2,3,4,5,6]\n",
        "  factor = 2\n",
        "  new_data = scale(list_sample,factor)\n",
        "  print(new_data)\n",
        "\n",
        "main()"
      ],
      "execution_count": 0,
      "outputs": [
        {
          "output_type": "stream",
          "text": [
            "[2, 4, 6, 8, 10, 12]\n"
          ],
          "name": "stdout"
        }
      ]
    },
    {
      "cell_type": "markdown",
      "metadata": {
        "id": "CimCIMwYBC0s",
        "colab_type": "text"
      },
      "source": [
        "**Default Parameter Values**\n",
        "\n",
        "* a default parameter is always placed of the right most corner of the function definiton. \n",
        "\n",
        "# **Run the below code again to rectify the errors**"
      ]
    },
    {
      "cell_type": "code",
      "metadata": {
        "id": "B52sZzJRCWTv",
        "colab_type": "code",
        "outputId": "ce978e33-23e8-463c-e70d-c2ccf190cde3",
        "colab": {
          "base_uri": "https://localhost:8080/",
          "height": 385
        }
      },
      "source": [
        "def display(name,place,animal,thing):\n",
        "  print(\"{0} {0} {0} {0}\").format(name).format(place).format(animal).format(thing)\n",
        "def display(place,animal,thing,name='python'):\n",
        "  print(\"{0} {0} {0} {0}\").format(name).format(place).format(animal).format(thing)\n",
        "def display(animal,thing,place='USA',name='panda'):\n",
        "  print(\"{0} {0} {0} {0}\").format(name).format(place).format(animal).format(thing)\n",
        "def display(thing,animal='koala',place='India',name='michael'):\n",
        "  print(\"{0} {0} {0} {0}\").format(name).format(place).format(animal).format(thing)\n",
        "def displa(name='lucifer',place='Kansas',animal='bear',thing='cage'):\n",
        "  print(\"{0} {0} {0} {0}\").format(name).format(place).format(animal).format(thing)\n",
        "\n",
        "def main():\n",
        "  display('cage')\n",
        "  display('lioness','jungle')\n",
        "  display('Lebanon','bamboo')\n",
        "  display('Puerto Rico','Rabbit','hut')\n",
        "\n",
        "main()"
      ],
      "execution_count": 0,
      "outputs": [
        {
          "output_type": "stream",
          "text": [
            "{0} {0} {0} {0}\n"
          ],
          "name": "stdout"
        },
        {
          "output_type": "error",
          "ename": "AttributeError",
          "evalue": "ignored",
          "traceback": [
            "\u001b[0;31m---------------------------------------------------------------------------\u001b[0m",
            "\u001b[0;31mAttributeError\u001b[0m                            Traceback (most recent call last)",
            "\u001b[0;32m<ipython-input-30-19c0a0e28ff9>\u001b[0m in \u001b[0;36m<module>\u001b[0;34m()\u001b[0m\n\u001b[1;32m     16\u001b[0m   \u001b[0mdisplay\u001b[0m\u001b[0;34m(\u001b[0m\u001b[0;34m'Puerto Rico'\u001b[0m\u001b[0;34m,\u001b[0m\u001b[0;34m'Rabbit'\u001b[0m\u001b[0;34m,\u001b[0m\u001b[0;34m'hut'\u001b[0m\u001b[0;34m)\u001b[0m\u001b[0;34m\u001b[0m\u001b[0;34m\u001b[0m\u001b[0m\n\u001b[1;32m     17\u001b[0m \u001b[0;34m\u001b[0m\u001b[0m\n\u001b[0;32m---> 18\u001b[0;31m \u001b[0mmain\u001b[0m\u001b[0;34m(\u001b[0m\u001b[0;34m)\u001b[0m\u001b[0;34m\u001b[0m\u001b[0;34m\u001b[0m\u001b[0m\n\u001b[0m",
            "\u001b[0;32m<ipython-input-30-19c0a0e28ff9>\u001b[0m in \u001b[0;36mmain\u001b[0;34m()\u001b[0m\n\u001b[1;32m     11\u001b[0m \u001b[0;34m\u001b[0m\u001b[0m\n\u001b[1;32m     12\u001b[0m \u001b[0;32mdef\u001b[0m \u001b[0mmain\u001b[0m\u001b[0;34m(\u001b[0m\u001b[0;34m)\u001b[0m\u001b[0;34m:\u001b[0m\u001b[0;34m\u001b[0m\u001b[0;34m\u001b[0m\u001b[0m\n\u001b[0;32m---> 13\u001b[0;31m   \u001b[0mdisplay\u001b[0m\u001b[0;34m(\u001b[0m\u001b[0;34m'cage'\u001b[0m\u001b[0;34m)\u001b[0m\u001b[0;34m\u001b[0m\u001b[0;34m\u001b[0m\u001b[0m\n\u001b[0m\u001b[1;32m     14\u001b[0m   \u001b[0mdisplay\u001b[0m\u001b[0;34m(\u001b[0m\u001b[0;34m'lioness'\u001b[0m\u001b[0;34m,\u001b[0m\u001b[0;34m'jungle'\u001b[0m\u001b[0;34m)\u001b[0m\u001b[0;34m\u001b[0m\u001b[0;34m\u001b[0m\u001b[0m\n\u001b[1;32m     15\u001b[0m   \u001b[0mdisplay\u001b[0m\u001b[0;34m(\u001b[0m\u001b[0;34m'Lebanon'\u001b[0m\u001b[0;34m,\u001b[0m\u001b[0;34m'bamboo'\u001b[0m\u001b[0;34m)\u001b[0m\u001b[0;34m\u001b[0m\u001b[0;34m\u001b[0m\u001b[0m\n",
            "\u001b[0;32m<ipython-input-30-19c0a0e28ff9>\u001b[0m in \u001b[0;36mdisplay\u001b[0;34m(thing, animal, place, name)\u001b[0m\n\u001b[1;32m      6\u001b[0m   \u001b[0mprint\u001b[0m\u001b[0;34m(\u001b[0m\u001b[0;34m\"{0} {0} {0} {0}\"\u001b[0m\u001b[0;34m)\u001b[0m\u001b[0;34m.\u001b[0m\u001b[0mformat\u001b[0m\u001b[0;34m(\u001b[0m\u001b[0mname\u001b[0m\u001b[0;34m)\u001b[0m\u001b[0;34m.\u001b[0m\u001b[0mformat\u001b[0m\u001b[0;34m(\u001b[0m\u001b[0mplace\u001b[0m\u001b[0;34m)\u001b[0m\u001b[0;34m.\u001b[0m\u001b[0mformat\u001b[0m\u001b[0;34m(\u001b[0m\u001b[0manimal\u001b[0m\u001b[0;34m)\u001b[0m\u001b[0;34m.\u001b[0m\u001b[0mformat\u001b[0m\u001b[0;34m(\u001b[0m\u001b[0mthing\u001b[0m\u001b[0;34m)\u001b[0m\u001b[0;34m\u001b[0m\u001b[0;34m\u001b[0m\u001b[0m\n\u001b[1;32m      7\u001b[0m \u001b[0;32mdef\u001b[0m \u001b[0mdisplay\u001b[0m\u001b[0;34m(\u001b[0m\u001b[0mthing\u001b[0m\u001b[0;34m,\u001b[0m\u001b[0manimal\u001b[0m\u001b[0;34m=\u001b[0m\u001b[0;34m'koala'\u001b[0m\u001b[0;34m,\u001b[0m\u001b[0mplace\u001b[0m\u001b[0;34m=\u001b[0m\u001b[0;34m'India'\u001b[0m\u001b[0;34m,\u001b[0m\u001b[0mname\u001b[0m\u001b[0;34m=\u001b[0m\u001b[0;34m'michael'\u001b[0m\u001b[0;34m)\u001b[0m\u001b[0;34m:\u001b[0m\u001b[0;34m\u001b[0m\u001b[0;34m\u001b[0m\u001b[0m\n\u001b[0;32m----> 8\u001b[0;31m   \u001b[0mprint\u001b[0m\u001b[0;34m(\u001b[0m\u001b[0;34m\"{0} {0} {0} {0}\"\u001b[0m\u001b[0;34m)\u001b[0m\u001b[0;34m.\u001b[0m\u001b[0mformat\u001b[0m\u001b[0;34m(\u001b[0m\u001b[0mname\u001b[0m\u001b[0;34m)\u001b[0m\u001b[0;34m.\u001b[0m\u001b[0mformat\u001b[0m\u001b[0;34m(\u001b[0m\u001b[0mplace\u001b[0m\u001b[0;34m)\u001b[0m\u001b[0;34m.\u001b[0m\u001b[0mformat\u001b[0m\u001b[0;34m(\u001b[0m\u001b[0manimal\u001b[0m\u001b[0;34m)\u001b[0m\u001b[0;34m.\u001b[0m\u001b[0mformat\u001b[0m\u001b[0;34m(\u001b[0m\u001b[0mthing\u001b[0m\u001b[0;34m)\u001b[0m\u001b[0;34m\u001b[0m\u001b[0;34m\u001b[0m\u001b[0m\n\u001b[0m\u001b[1;32m      9\u001b[0m \u001b[0;32mdef\u001b[0m \u001b[0mdispla\u001b[0m\u001b[0;34m(\u001b[0m\u001b[0mname\u001b[0m\u001b[0;34m=\u001b[0m\u001b[0;34m'lucifer'\u001b[0m\u001b[0;34m,\u001b[0m\u001b[0mplace\u001b[0m\u001b[0;34m=\u001b[0m\u001b[0;34m'Kansas'\u001b[0m\u001b[0;34m,\u001b[0m\u001b[0manimal\u001b[0m\u001b[0;34m=\u001b[0m\u001b[0;34m'bear'\u001b[0m\u001b[0;34m,\u001b[0m\u001b[0mthing\u001b[0m\u001b[0;34m=\u001b[0m\u001b[0;34m'cage'\u001b[0m\u001b[0;34m)\u001b[0m\u001b[0;34m:\u001b[0m\u001b[0;34m\u001b[0m\u001b[0;34m\u001b[0m\u001b[0m\n\u001b[1;32m     10\u001b[0m   \u001b[0mprint\u001b[0m\u001b[0;34m(\u001b[0m\u001b[0;34m\"{0} {0} {0} {0}\"\u001b[0m\u001b[0;34m)\u001b[0m\u001b[0;34m.\u001b[0m\u001b[0mformat\u001b[0m\u001b[0;34m(\u001b[0m\u001b[0mname\u001b[0m\u001b[0;34m)\u001b[0m\u001b[0;34m.\u001b[0m\u001b[0mformat\u001b[0m\u001b[0;34m(\u001b[0m\u001b[0mplace\u001b[0m\u001b[0;34m)\u001b[0m\u001b[0;34m.\u001b[0m\u001b[0mformat\u001b[0m\u001b[0;34m(\u001b[0m\u001b[0manimal\u001b[0m\u001b[0;34m)\u001b[0m\u001b[0;34m.\u001b[0m\u001b[0mformat\u001b[0m\u001b[0;34m(\u001b[0m\u001b[0mthing\u001b[0m\u001b[0;34m)\u001b[0m\u001b[0;34m\u001b[0m\u001b[0;34m\u001b[0m\u001b[0m\n",
            "\u001b[0;31mAttributeError\u001b[0m: 'NoneType' object has no attribute 'format'"
          ]
        }
      ]
    },
    {
      "cell_type": "markdown",
      "metadata": {
        "id": "g6eoLarGEylA",
        "colab_type": "text"
      },
      "source": [
        "**Keyword Paramters**\n",
        "\n",
        "* The traditional mechanism for matching the actual parameters sent by a caller, to\n",
        "the formal parameters declared by the function signature is based on the concept\n",
        "of positional arguments.\n",
        "\n",
        "* Python supports an alternate mechanism for sending a parameter to a function\n",
        "known as a keyword argument. A keyword argument is specified by explicitly\n",
        "assigning an actual parameter to a formal parameter by name\n"
      ]
    },
    {
      "cell_type": "code",
      "metadata": {
        "colab_type": "code",
        "outputId": "0ab5309f-2d3b-4915-b660-ff1d3c8f7518",
        "id": "xBzuUBAbR46X",
        "colab": {
          "base_uri": "https://localhost:8080/",
          "height": 54
        }
      },
      "source": [
        "def foo(q,r=45):\n",
        "  p = q+r\n",
        "  return p \n",
        "def main():\n",
        "  print(foo(q=5)) # positional arguments + keyword parameters\n",
        "  print(foo(10))\n",
        "main()"
      ],
      "execution_count": 0,
      "outputs": [
        {
          "output_type": "stream",
          "text": [
            "50\n",
            "55\n"
          ],
          "name": "stdout"
        }
      ]
    },
    {
      "cell_type": "markdown",
      "metadata": {
        "id": "Rjqt0gvuHmkj",
        "colab_type": "text"
      },
      "source": [
        "**Using keyword argument**\n",
        "\n",
        "function_name(a,b,key=abs)\n",
        "\n",
        "By default, max operates based upon the natural order of elements according\n",
        "to the < operator for that type. But the maximum can be computed by comparing\n",
        "some other aspect of the elements. This is done by providing an auxiliary function\n",
        "that converts a natural element to some other value for the sake of comparison.\n",
        "For example, if we are interested in finding a numeric value with magnitude that is\n",
        "maximal (i.e., considering −35 to be larger than +20), we can use the calling syntax\n",
        "max(a, b, key=abs). In this case, the built-in abs function is itself sent as the\n",
        "value associated with the keyword parameter key. (Functions are first-class objects\n",
        "in Python; see Section 1.10.) When max is called in this way, it will compare abs(a)\n",
        "to abs(b), rather than a to b. The motivation for the keyword syntax as an alternate\n",
        "to positional arguments is important in the case of max. This function is polymorphic\n",
        "in the number of arguments, allowing a call such as max(a,b,c,d); therefore,\n",
        "it is not possible to designate a key function as a traditional positional element.\n",
        "Sorting functions in Python also support a similar key parameter for indicating a\n",
        "nonstandard order.\n"
      ]
    },
    {
      "cell_type": "code",
      "metadata": {
        "id": "cwZ03trhKodR",
        "colab_type": "code",
        "colab": {}
      },
      "source": [
        "def max(a,b,key=abs):\n",
        "  if(a>b):\n",
        "    return a\n",
        "  else;\n"
      ],
      "execution_count": 0,
      "outputs": []
    },
    {
      "cell_type": "markdown",
      "metadata": {
        "id": "TCvfFsoMOXuc",
        "colab_type": "text"
      },
      "source": [
        "**Python's Built in functions**\n",
        "\n",
        "**Input/Output**: print, input, and open \n",
        "\n",
        "**Character Encoding**: ord and chr relate characters and their integer code points.\n",
        "For example, ord( A ) is 65 and chr(65) is A .\n",
        "\n",
        "**Mathematics**: abs, divmod, pow, round, and sum provide common mathematical\n",
        "functionality; \n",
        "\n",
        "**Ordering**: max and min apply to any data type that supports a notion of comparison,\n",
        "or to any collection of such values. Likewise, sorted can be used to produce\n",
        "an ordered list of elements drawn from any existing collection.\n",
        "\n",
        "**Collections/Iterations**: range generates a new sequence of numbers; len reports\n",
        "the length of any existing collection; functions reversed, all, any, and map operate\n",
        "on arbitrary iterations as well; iter and next provide a general framework for\n",
        "iteration through elements of a collection"
      ]
    },
    {
      "cell_type": "markdown",
      "metadata": {
        "id": "NolwBNQhP4Ro",
        "colab_type": "text"
      },
      "source": [
        "![image.png](data:image/png;base64,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)"
      ]
    },
    {
      "cell_type": "code",
      "metadata": {
        "id": "XlnARVJQQPXw",
        "colab_type": "code",
        "outputId": "71e7a8a8-ca1b-4c27-b306-ef91791eebaa",
        "colab": {
          "base_uri": "https://localhost:8080/",
          "height": 279
        }
      },
      "source": [
        "print(\"absolute value of x is {0}\".format(abs(-2345)))\n",
        "#-------------------------------------------------------\n",
        "all_iterable_false = [4,5,0,7,3,9] \n",
        "all_iterable_true = [4,5,6,7,3,9]\n",
        "all_iterable_none = [4,5,None,7,3,9]\n",
        "print(\"all(iterable): {}\".format(all(all_iterable_false)))\n",
        "print(\"all(iterable): {}\".format(all(all_iterable_true)))\n",
        "print(\"all(iterable): {}\".format(all(all_iterable_none)))\n",
        "#-------------------------------------------------------\n",
        "any_iterable_false = [1,0,0,0,0,0]\n",
        "any_iterable_true = [0,0,0,0,0]\n",
        "any_iterable_none = [None,None,None,1,None]\n",
        "print(\"any(iterable): {}\".format(any(any_iterable_false)))\n",
        "print(\"any(iterable): {}\".format(any(any_iterable_true)))\n",
        "print(\"any(iterable): {}\".format(any(any_iterable_none)))\n",
        "#-------------------------------------------------------\n",
        "print(chr(345))\n",
        "#-------------------------------------------------------\n",
        "print(divmod(10,7))\n",
        "#-------------------------------------------------------\n",
        "print(hash(int))\n",
        "print(hash(float))\n",
        "print(hash(bool))\n",
        "#print(hash(char)) #will generate an error \n",
        "#-------------------------------------------------------\n",
        "print(id(int))\n",
        "a=45\n",
        "print(id(a))\n",
        "#-------------------------------------------------------\n"
      ],
      "execution_count": 0,
      "outputs": [
        {
          "output_type": "stream",
          "text": [
            "absolute value of x is 2345\n",
            "all(iterable): False\n",
            "all(iterable): True\n",
            "all(iterable): False\n",
            "any(iterable): True\n",
            "any(iterable): False\n",
            "any(iterable): True\n",
            "ř\n",
            "(1, 3)\n",
            "642328\n",
            "641258\n",
            "643930\n",
            "10277248\n",
            "10915904\n"
          ],
          "name": "stdout"
        }
      ]
    },
    {
      "cell_type": "markdown",
      "metadata": {
        "id": "yIQ5hJpEtnMf",
        "colab_type": "text"
      },
      "source": [
        "**The print function**\n",
        "\n",
        "* By default, the print function inserts a separating space into the output between\n",
        "each pair of arguments. The separator can be customized by providing\n",
        "a desired separating string as a keyword parameter, sep. For example, colon separated\n",
        "output can be produced as print(a, b, c, sep= : ). The separating\n",
        "string need not be a single character; it can be a longer string, and it can be\n",
        "the empty string, sep= , causing successive arguments to be directly concatenated.\n",
        "* By default, a trailing newline is output after the final argument. An alternative\n",
        "trailing string can be designated using a keyword parameter, end. Designating\n",
        "the empty string end= suppresses all trailing characters.\n",
        "* By default, the print function sends its output to the standard console. However,\n",
        "output can be directed to a file by indicating an output file stream using file as a keyword parameter."
      ]
    },
    {
      "cell_type": "code",
      "metadata": {
        "id": "GXX8I_7D2JIK",
        "colab_type": "code",
        "outputId": "4ca4fce7-cfe5-4564-faec-7afa4ebea1fa",
        "colab": {
          "base_uri": "https://localhost:8080/",
          "height": 54
        }
      },
      "source": [
        "print('maroon',5)\n",
        "print('python','primer','volume','1',sep = '-')"
      ],
      "execution_count": 0,
      "outputs": [
        {
          "output_type": "stream",
          "text": [
            "maroon 5\n",
            "python-primer-volume-1\n"
          ],
          "name": "stdout"
        }
      ]
    },
    {
      "cell_type": "markdown",
      "metadata": {
        "id": "gxaaBChM3oZa",
        "colab_type": "text"
      },
      "source": [
        "**The input function**"
      ]
    },
    {
      "cell_type": "code",
      "metadata": {
        "id": "NM3DRGEy3sR8",
        "colab_type": "code",
        "outputId": "ed2b1799-d157-43f9-e6e1-5ff4f3851bb7",
        "colab": {
          "base_uri": "https://localhost:8080/",
          "height": 129
        }
      },
      "source": [
        "numbers = input(\"Enter 5 numbers separated by hyphen : \")\n",
        "pieces = numbers.split('-')\n",
        "for item in pieces:\n",
        "  print(\"piece {0} : \".format(item),item)"
      ],
      "execution_count": 0,
      "outputs": [
        {
          "output_type": "stream",
          "text": [
            "Enter 5 numbers separated by hyphen : 7-6-5-9-1\n",
            "piece 7 :  7\n",
            "piece 6 :  6\n",
            "piece 5 :  5\n",
            "piece 9 :  9\n",
            "piece 1 :  1\n"
          ],
          "name": "stdout"
        }
      ]
    },
    {
      "cell_type": "code",
      "metadata": {
        "id": "dhgBZMDx5FBP",
        "colab_type": "code",
        "outputId": "8c899c9c-e822-44d7-a81f-0e4dcab42f9c",
        "colab": {
          "base_uri": "https://localhost:8080/",
          "height": 54
        }
      },
      "source": [
        "# Sample Program to demonstarte the functions of input and output\n",
        "age = int(input(\"Enter your age in years: \"))\n",
        "max_heart_rate = 206.9-(0.67*age)\n",
        "target = 0.65*max_heart_rate\n",
        "print('your target fat-burning heart rate is',target)"
      ],
      "execution_count": 0,
      "outputs": [
        {
          "output_type": "stream",
          "text": [
            "Enter your age in years: 22\n",
            "your target fat-burning heart rate is 124.904\n"
          ],
          "name": "stdout"
        }
      ]
    },
    {
      "cell_type": "markdown",
      "metadata": {
        "id": "2qzmywQ0OKvf",
        "colab_type": "text"
      },
      "source": [
        "**File Handling**\n",
        "\n",
        "Files are typically accessed in Python beginning with a call to a built-in function,\n",
        "named open, that returns a proxy for interactions with the underlying file. For\n",
        "example, the command, fp = open( sample.txt ), attempts to open a file named\n",
        "sample.txt, returning a proxy that allows read-only access to the text file.\n",
        "The open function accepts an optional second parameter that determines the\n",
        "access mode. The default mode is r for reading. Other common modes are w\n",
        "for writing to the file (causing any existing file with that name to be overwritten),\n",
        "or a for appending to the end of an existing file. Although we focus on use of\n",
        "text files, it is possible to work with binary files, using access modes such as rb\n",
        "or wb.  \n",
        "When processing a file, the proxy maintains a current position within the file as\n",
        "an offset from the beginning, measured in number of bytes. When opening a file\n",
        "with mode r or w , the position is initially 0; if opened in append mode, a ,\n",
        "the position is initially at the end of the file. The syntax fp.close( ) closes the file\n",
        "associated with proxy fp, ensuring that any written contents are saved.\n",
        "\n"
      ]
    },
    {
      "cell_type": "code",
      "metadata": {
        "colab_type": "code",
        "id": "Vk6SEvzpYgT-",
        "colab": {}
      },
      "source": [
        "# the builtin function returns \n",
        "file_pointer = open('sample.txt','r')\n",
        "file_pointer = open('sample.txt','w')\n",
        "binary_file_pointer = open('sample_binary.txt','rb')\n",
        "binary_file_pointer = open('sample_binary.txt','wb')\n",
        "file_pointer.close()\n",
        "binary_file_pointer.close()"
      ],
      "execution_count": 0,
      "outputs": []
    },
    {
      "cell_type": "code",
      "metadata": {
        "id": "qq4CmyLwrXSV",
        "colab_type": "code",
        "colab": {}
      },
      "source": [
        "# different python file functions \n",
        "'''\n",
        "Sample.txt\n",
        "\n",
        "This is a sample file which will be used as a reference \n",
        "for understanding the concepts for python file handling \n",
        "operations \n",
        "\n",
        "'''\n",
        "file_pointer = open('Sample.txt','r')\n",
        "file_pointer.read() #this returns the contents od a readable or string\n",
        "file_pointer.read(k) # this returns the k bytes of a readable file as a string \n",
        "file_pointer.readline() #return the remainder of the current line of a readable file as string\n",
        "# for loop\n",
        "for file_counter in file_pointer:\n",
        "  print(file_counter)\n",
        "# iterating over all the lines in the file\n",
        "\n",
        "file_pointer.seek(k)\n",
        "#changing the current position and getting the pointer to the kth byte in the file \n",
        "file_pointer.tell()\n",
        "#returns the current position as the byte-offset from the first byte.\n",
        "file_pointer.write('hello world')\n",
        "#begins writing from the current position of the kth file pointer\n",
        "file_pointer.writelines('hello to the world of python')\n",
        "#begins writing the strings of the given sequence at the \n",
        "#current postion of the writable file. this command does \n",
        "#not insert any newlines, beyond those that are embedded in the strings \n",
        "print(...,file=file_pointer)"
      ],
      "execution_count": 0,
      "outputs": []
    },
    {
      "cell_type": "markdown",
      "metadata": {
        "id": "AxpayZHJO2hN",
        "colab_type": "text"
      },
      "source": [
        "**Exception Handling**\n",
        "Exceptions are unexpected events that occur during the execution of a program.\n",
        "An exception might result from a logical error or an unanticipated situation. In\n",
        "Python, exceptions (also known as errors) are objects that are raised (or thrown) by\n",
        "code that encounters an unexpected circumstance. The Python interpreter can also\n",
        "raise an exception should it encounter an unexpected condition, like running out of\n",
        "memory. A raised error may be caught by a surrounding context that “handles” the\n",
        "exception in an appropriate fashion. If uncaught, an exception causes the interpreter\n",
        "to stop executing the program and to report an appropriate message to the console.\n",
        "In this section, we examine the most common error types in Python, the mechanism\n",
        "for catching and handling errors that have been raised, and the syntax for raising\n",
        "errors from within user-defined blocks of code.\n"
      ]
    },
    {
      "cell_type": "markdown",
      "metadata": {
        "id": "E5cKi7beO2lY",
        "colab_type": "text"
      },
      "source": [
        "**Common Exception Types**\n",
        "\n",
        "![image.png](data:image/png;base64,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)\n"
      ]
    },
    {
      "cell_type": "code",
      "metadata": {
        "id": "dvJS3psKTmGi",
        "colab_type": "code",
        "outputId": "157c62d9-acae-4f56-edd7-a84f1005ff61",
        "colab": {
          "base_uri": "https://localhost:8080/",
          "height": 269
        }
      },
      "source": [
        "# Raising an exception usinf the 'raise' command\n",
        "x = 47\n",
        "y = input(\"Enter the value of y : \")\n",
        "if(y==0):\n",
        "  raise ValueError('y cannot be zero')\n",
        "else:\n",
        "  result = x/y\n",
        "  print(\"the result of x/y is : {0}\".format(result))"
      ],
      "execution_count": 0,
      "outputs": [
        {
          "output_type": "stream",
          "text": [
            "Enter the value of y : 0\n"
          ],
          "name": "stdout"
        },
        {
          "output_type": "error",
          "ename": "TypeError",
          "evalue": "ignored",
          "traceback": [
            "\u001b[0;31m---------------------------------------------------------------------------\u001b[0m",
            "\u001b[0;31mTypeError\u001b[0m                                 Traceback (most recent call last)",
            "\u001b[0;32m<ipython-input-3-85e710478356>\u001b[0m in \u001b[0;36m<module>\u001b[0;34m()\u001b[0m\n\u001b[1;32m      4\u001b[0m   \u001b[0;32mraise\u001b[0m \u001b[0mValueError\u001b[0m\u001b[0;34m(\u001b[0m\u001b[0;34m'y cannot be zero'\u001b[0m\u001b[0;34m)\u001b[0m\u001b[0;34m\u001b[0m\u001b[0;34m\u001b[0m\u001b[0m\n\u001b[1;32m      5\u001b[0m \u001b[0;32melse\u001b[0m\u001b[0;34m:\u001b[0m\u001b[0;34m\u001b[0m\u001b[0;34m\u001b[0m\u001b[0m\n\u001b[0;32m----> 6\u001b[0;31m   \u001b[0mresult\u001b[0m \u001b[0;34m=\u001b[0m \u001b[0mx\u001b[0m\u001b[0;34m/\u001b[0m\u001b[0my\u001b[0m\u001b[0;34m\u001b[0m\u001b[0;34m\u001b[0m\u001b[0m\n\u001b[0m\u001b[1;32m      7\u001b[0m   \u001b[0mprint\u001b[0m\u001b[0;34m(\u001b[0m\u001b[0;34m\"the result of x/y is : {0}\"\u001b[0m\u001b[0;34m.\u001b[0m\u001b[0mformat\u001b[0m\u001b[0;34m(\u001b[0m\u001b[0mresult\u001b[0m\u001b[0;34m)\u001b[0m\u001b[0;34m)\u001b[0m\u001b[0;34m\u001b[0m\u001b[0;34m\u001b[0m\u001b[0m\n",
            "\u001b[0;31mTypeError\u001b[0m: unsupported operand type(s) for /: 'int' and 'str'"
          ]
        }
      ]
    },
    {
      "cell_type": "code",
      "metadata": {
        "id": "r0wUzoHmq4kS",
        "colab_type": "code",
        "outputId": "577f4f0e-b695-41d5-f4b5-3833554644bd",
        "colab": {
          "base_uri": "https://localhost:8080/",
          "height": 405
        }
      },
      "source": [
        "# raising an error using the the sqrt function \n",
        "import math\n",
        "def sqrt(x):\n",
        "  if not isinstance(x,(int,float)):\n",
        "    raise TypeError('x must be numeric')\n",
        "  elif x<0:\n",
        "    raise ValueError('x cannot be negative')\n",
        "  else:\n",
        "    result = math.sqrt(x)\n",
        "    print(result)\n",
        "\n",
        "def main():\n",
        "  sqrt(25)\n",
        "  sqrt('a')\n",
        "  sqrt(-78)\n",
        "\n",
        "main()"
      ],
      "execution_count": 0,
      "outputs": [
        {
          "output_type": "stream",
          "text": [
            "5.0\n"
          ],
          "name": "stdout"
        },
        {
          "output_type": "error",
          "ename": "TypeError",
          "evalue": "ignored",
          "traceback": [
            "\u001b[0;31m---------------------------------------------------------------------------\u001b[0m",
            "\u001b[0;31mTypeError\u001b[0m                                 Traceback (most recent call last)",
            "\u001b[0;32m<ipython-input-5-8e3adce8ff02>\u001b[0m in \u001b[0;36m<module>\u001b[0;34m()\u001b[0m\n\u001b[1;32m     14\u001b[0m   \u001b[0msqrt\u001b[0m\u001b[0;34m(\u001b[0m\u001b[0;34m-\u001b[0m\u001b[0;36m78\u001b[0m\u001b[0;34m)\u001b[0m\u001b[0;34m\u001b[0m\u001b[0;34m\u001b[0m\u001b[0m\n\u001b[1;32m     15\u001b[0m \u001b[0;34m\u001b[0m\u001b[0m\n\u001b[0;32m---> 16\u001b[0;31m \u001b[0mmain\u001b[0m\u001b[0;34m(\u001b[0m\u001b[0;34m)\u001b[0m\u001b[0;34m\u001b[0m\u001b[0;34m\u001b[0m\u001b[0m\n\u001b[0m",
            "\u001b[0;32m<ipython-input-5-8e3adce8ff02>\u001b[0m in \u001b[0;36mmain\u001b[0;34m()\u001b[0m\n\u001b[1;32m     11\u001b[0m \u001b[0;32mdef\u001b[0m \u001b[0mmain\u001b[0m\u001b[0;34m(\u001b[0m\u001b[0;34m)\u001b[0m\u001b[0;34m:\u001b[0m\u001b[0;34m\u001b[0m\u001b[0;34m\u001b[0m\u001b[0m\n\u001b[1;32m     12\u001b[0m   \u001b[0msqrt\u001b[0m\u001b[0;34m(\u001b[0m\u001b[0;36m25\u001b[0m\u001b[0;34m)\u001b[0m\u001b[0;34m\u001b[0m\u001b[0;34m\u001b[0m\u001b[0m\n\u001b[0;32m---> 13\u001b[0;31m   \u001b[0msqrt\u001b[0m\u001b[0;34m(\u001b[0m\u001b[0;34m'a'\u001b[0m\u001b[0;34m)\u001b[0m\u001b[0;34m\u001b[0m\u001b[0;34m\u001b[0m\u001b[0m\n\u001b[0m\u001b[1;32m     14\u001b[0m   \u001b[0msqrt\u001b[0m\u001b[0;34m(\u001b[0m\u001b[0;34m-\u001b[0m\u001b[0;36m78\u001b[0m\u001b[0;34m)\u001b[0m\u001b[0;34m\u001b[0m\u001b[0;34m\u001b[0m\u001b[0m\n\u001b[1;32m     15\u001b[0m \u001b[0;34m\u001b[0m\u001b[0m\n",
            "\u001b[0;32m<ipython-input-5-8e3adce8ff02>\u001b[0m in \u001b[0;36msqrt\u001b[0;34m(x)\u001b[0m\n\u001b[1;32m      2\u001b[0m \u001b[0;32mdef\u001b[0m \u001b[0msqrt\u001b[0m\u001b[0;34m(\u001b[0m\u001b[0mx\u001b[0m\u001b[0;34m)\u001b[0m\u001b[0;34m:\u001b[0m\u001b[0;34m\u001b[0m\u001b[0;34m\u001b[0m\u001b[0m\n\u001b[1;32m      3\u001b[0m   \u001b[0;32mif\u001b[0m \u001b[0;32mnot\u001b[0m \u001b[0misinstance\u001b[0m\u001b[0;34m(\u001b[0m\u001b[0mx\u001b[0m\u001b[0;34m,\u001b[0m\u001b[0;34m(\u001b[0m\u001b[0mint\u001b[0m\u001b[0;34m,\u001b[0m\u001b[0mfloat\u001b[0m\u001b[0;34m)\u001b[0m\u001b[0;34m)\u001b[0m\u001b[0;34m:\u001b[0m\u001b[0;34m\u001b[0m\u001b[0;34m\u001b[0m\u001b[0m\n\u001b[0;32m----> 4\u001b[0;31m     \u001b[0;32mraise\u001b[0m \u001b[0mTypeError\u001b[0m\u001b[0;34m(\u001b[0m\u001b[0;34m'x must be numeric'\u001b[0m\u001b[0;34m)\u001b[0m\u001b[0;34m\u001b[0m\u001b[0;34m\u001b[0m\u001b[0m\n\u001b[0m\u001b[1;32m      5\u001b[0m   \u001b[0;32melif\u001b[0m \u001b[0mx\u001b[0m\u001b[0;34m<\u001b[0m\u001b[0;36m0\u001b[0m\u001b[0;34m:\u001b[0m\u001b[0;34m\u001b[0m\u001b[0;34m\u001b[0m\u001b[0m\n\u001b[1;32m      6\u001b[0m     \u001b[0;32mraise\u001b[0m \u001b[0mValueError\u001b[0m\u001b[0;34m(\u001b[0m\u001b[0;34m'x cannot be negative'\u001b[0m\u001b[0;34m)\u001b[0m\u001b[0;34m\u001b[0m\u001b[0;34m\u001b[0m\u001b[0m\n",
            "\u001b[0;31mTypeError\u001b[0m: x must be numeric"
          ]
        }
      ]
    },
    {
      "cell_type": "markdown",
      "metadata": {
        "id": "sw9W47Q3HgVT",
        "colab_type": "text"
      },
      "source": [
        "Checking the type of an object can be performed at run-time using the built-in\n",
        "function, isinstance. In simplest form, isinstance(obj, cls) returns True if object,\n",
        "obj, is an instance of class, cls, or any subclass of that type. In the above example, a\n",
        "more general form is used with a tuple of allowable types indicated with the second\n",
        "parameter. After confirming that the parameter is numeric, the function enforces\n",
        "an expectation that the number be nonnegative, raising a ValueError otherwise"
      ]
    },
    {
      "cell_type": "markdown",
      "metadata": {
        "id": "MsPIpMp_HzpW",
        "colab_type": "text"
      },
      "source": [
        "**Catching an Exception**\n",
        "\n",
        "The relative advantage of using a try-except structure is that the non-exceptional\n",
        "case runs efficiently, without extraneous checks for the exceptional condition. However,\n",
        "handling the exceptional case requires slightly more time when using a tryexcept\n",
        "structure than with a standard conditional statement. For this reason, the\n",
        "try-except clause is best used when there is reason to believe that the exceptional\n",
        "case is relatively unlikely, or when it is prohibitively expensive to proactively evaluate\n",
        "a condition to avoid the exception"
      ]
    },
    {
      "cell_type": "code",
      "metadata": {
        "id": "BBGc-73sIy6L",
        "colab_type": "code",
        "outputId": "7b0fdbaf-1118-4822-d99f-ea09b1cd3cac",
        "colab": {
          "base_uri": "https://localhost:8080/",
          "height": 418
        }
      },
      "source": [
        "# to catch an exception, its better to use the concept of try-except blocks. \n",
        "x = 35\n",
        "y = 0\n",
        "try:\n",
        "  ratio = x//y\n",
        "except ZeroDivisionError: #this will raise the error when it finds y = 0\n",
        "  raise ZeroDivisionError('y cannot be zero for division')"
      ],
      "execution_count": 0,
      "outputs": [
        {
          "output_type": "error",
          "ename": "ZeroDivisionError",
          "evalue": "ignored",
          "traceback": [
            "\u001b[0;31m---------------------------------------------------------------------------\u001b[0m",
            "\u001b[0;31mZeroDivisionError\u001b[0m                         Traceback (most recent call last)",
            "\u001b[0;32m<ipython-input-8-10670a8a4f4a>\u001b[0m in \u001b[0;36m<module>\u001b[0;34m()\u001b[0m\n\u001b[1;32m      3\u001b[0m \u001b[0;32mtry\u001b[0m\u001b[0;34m:\u001b[0m\u001b[0;34m\u001b[0m\u001b[0;34m\u001b[0m\u001b[0m\n\u001b[0;32m----> 4\u001b[0;31m   \u001b[0mratio\u001b[0m \u001b[0;34m=\u001b[0m \u001b[0mx\u001b[0m\u001b[0;34m//\u001b[0m\u001b[0my\u001b[0m\u001b[0;34m\u001b[0m\u001b[0;34m\u001b[0m\u001b[0m\n\u001b[0m\u001b[1;32m      5\u001b[0m \u001b[0;32mexcept\u001b[0m \u001b[0mZeroDivisionError\u001b[0m\u001b[0;34m:\u001b[0m \u001b[0;31m#this will raise the error when it finds y = 0\u001b[0m\u001b[0;34m\u001b[0m\u001b[0;34m\u001b[0m\u001b[0m\n",
            "\u001b[0;31mZeroDivisionError\u001b[0m: integer division or modulo by zero",
            "\nDuring handling of the above exception, another exception occurred:\n",
            "\u001b[0;31mZeroDivisionError\u001b[0m                         Traceback (most recent call last)",
            "\u001b[0;32m<ipython-input-8-10670a8a4f4a>\u001b[0m in \u001b[0;36m<module>\u001b[0;34m()\u001b[0m\n\u001b[1;32m      4\u001b[0m   \u001b[0mratio\u001b[0m \u001b[0;34m=\u001b[0m \u001b[0mx\u001b[0m\u001b[0;34m//\u001b[0m\u001b[0my\u001b[0m\u001b[0;34m\u001b[0m\u001b[0;34m\u001b[0m\u001b[0m\n\u001b[1;32m      5\u001b[0m \u001b[0;32mexcept\u001b[0m \u001b[0mZeroDivisionError\u001b[0m\u001b[0;34m:\u001b[0m \u001b[0;31m#this will raise the error when it finds y = 0\u001b[0m\u001b[0;34m\u001b[0m\u001b[0;34m\u001b[0m\u001b[0m\n\u001b[0;32m----> 6\u001b[0;31m   \u001b[0;32mraise\u001b[0m \u001b[0mZeroDivisionError\u001b[0m\u001b[0;34m(\u001b[0m\u001b[0;34m'y cannot be zero for division'\u001b[0m\u001b[0;34m)\u001b[0m\u001b[0;34m\u001b[0m\u001b[0;34m\u001b[0m\u001b[0m\n\u001b[0m",
            "\u001b[0;31mZeroDivisionError\u001b[0m: y cannot be zero for division"
          ]
        }
      ]
    },
    {
      "cell_type": "code",
      "metadata": {
        "id": "-0mUNskZqwIL",
        "colab_type": "code",
        "colab": {}
      },
      "source": [
        "# Exceptions are objects that can be examined when caught using an identifier as shown below :\n",
        "def display_file():\n",
        "  try:\n",
        "    file_pointer = open('sample.txt','r')\n",
        "  except IOError as e:\n",
        "    print('Unable to open the file',e)\n",
        "\n",
        "#e denotes the instance of the exception that was thrown  and printing it \n",
        "#causes a detailed error message to be displayed.  "
      ],
      "execution_count": 0,
      "outputs": []
    },
    {
      "cell_type": "code",
      "metadata": {
        "id": "URYcuItmTzzc",
        "colab_type": "code",
        "outputId": "2472fe30-536e-470e-b6ee-c3002705c2a5",
        "colab": {
          "base_uri": "https://localhost:8080/",
          "height": 136
        }
      },
      "source": [
        "# Handling of more than one exception in a single statement \n",
        "age = -1 \n",
        "whle age<=0:\n",
        "  try: \n",
        "    age = int(input('Enter your age : '))\n",
        "    if age<0:\n",
        "      print('your age cant be negative')\n",
        "  except (ValueError, EOFError) as e:\n",
        "      print('Invalid Response',e)"
      ],
      "execution_count": 0,
      "outputs": [
        {
          "output_type": "error",
          "ename": "SyntaxError",
          "evalue": "ignored",
          "traceback": [
            "\u001b[0;36m  File \u001b[0;32m\"<ipython-input-6-1a3e8f3acb42>\"\u001b[0;36m, line \u001b[0;32m2\u001b[0m\n\u001b[0;31m    whle age<=0:\u001b[0m\n\u001b[0m           ^\u001b[0m\n\u001b[0;31mSyntaxError\u001b[0m\u001b[0;31m:\u001b[0m invalid syntax\n"
          ]
        }
      ]
    },
    {
      "cell_type": "markdown",
      "metadata": {
        "id": "pEfKc-99Y4o0",
        "colab_type": "text"
      },
      "source": [
        "In this code, we catch either of the error, print a response, and continue wiht another pass of the enclosing loop.\n",
        "   if the exception arises within the call to\n",
        "input, or the subsequent call to the int constructor, the assignment to age never\n",
        "occurs, nor the message about needing a positive value. Because the value of age will be unchanged, the while loop will continue. If we preferred to have the while\n",
        "loop continue without printing the Invalid response message, we could have\n",
        "written the exception-clause as\n",
        "\n",
        "except (ValueError, EOFError):\n",
        "  \n",
        "  pass"
      ]
    },
    {
      "cell_type": "markdown",
      "metadata": {
        "id": "jXER1N39bVNK",
        "colab_type": "text"
      },
      "source": [
        "**Iterators**\n",
        "\n",
        "In Python, the mechanism for iteration is\n",
        "based upon the following conventions:\n",
        "* An iterator is an object that manages an iteration through a series of values. If\n",
        "variable, i, identifies an iterator object, then each call to the built-in function,\n",
        "next(i), produces a subsequent element from the underlying series, with a\n",
        "StopIteration exception raised to indicate that there are no further elements.\n",
        "* An iterable is an object, obj, that produces an iterator via the syntax iter(obj)."
      ]
    },
    {
      "cell_type": "code",
      "metadata": {
        "id": "QCBeRIPLU1vt",
        "colab_type": "code",
        "outputId": "28115223-88c7-46f8-bc29-7bc0a098f55c",
        "colab": {
          "base_uri": "https://localhost:8080/",
          "height": 92
        }
      },
      "source": [
        "r = range(1000)\n",
        "# this doesnt print values from 0 to 1000. But rather, creates a range object. \n",
        "print(r[3])\n",
        "#which can be accessed one at a time\n",
        "\n",
        "list_sample = (1,2,3,4,5,6) #list being an iterable\n",
        "i = iter(list_sample) # creating an iterator\n",
        "print(i)\n",
        "print(next(i))\n",
        "print(next(i))"
      ],
      "execution_count": 0,
      "outputs": [
        {
          "output_type": "stream",
          "text": [
            "3\n",
            "<tuple_iterator object at 0x7f481ee89630>\n",
            "1\n",
            "2\n"
          ],
          "name": "stdout"
        }
      ]
    },
    {
      "cell_type": "markdown",
      "metadata": {
        "id": "urlmBuRJf7uu",
        "colab_type": "text"
      },
      "source": [
        "Python also supports functions and classes that produce an implicit iterable series\n",
        "of values, that is, without constructing a data structure to store all of its values\n",
        "at once. For example, the call range(1000000) does not return a list of numbers; it\n",
        "returns a range object that is iterable. This object generates the million values one\n",
        "at a time, and only as needed. Such a lazy evaluation technique has great advantage.\n",
        "In the case of range, it allows a loop of the form, for j in range(1000000):,\n",
        "to execute without setting aside memory for storing one million values. Also, if\n",
        "such a loop were to be interrupted in some fashion, no time will have been spent\n",
        "computing unused values of the range."
      ]
    },
    {
      "cell_type": "markdown",
      "metadata": {
        "id": "2wBagOjTgwWd",
        "colab_type": "text"
      },
      "source": [
        "We see lazy evaluation used in many of Python’s libraries. For example, the\n",
        "dictionary class supports methods keys( ), values( ), and items( ), which respectively\n",
        "produce a “view” of all keys, values, or (key,value) pairs within a dictionary.\n",
        "None of these methods produces an explicit list of results. Instead, the views that\n",
        "are produced are iterable objects based upon the actual contents of the dictionary.\n",
        "An explicit list of values from such an iteration can be immediately constructed by\n",
        "calling the list class constructor with the iteration as a parameter. For example, the\n",
        "syntax list(range(1000)) produces a list instance with values from 0 to 999, while\n",
        "the syntax list(d.values( )) produces a list that has elements based upon the current\n",
        "values of dictionary d. We can similarly construct a tuple or set instance based\n",
        "upon a given iterable."
      ]
    },
    {
      "cell_type": "markdown",
      "metadata": {
        "id": "C8BpR7odgw-E",
        "colab_type": "text"
      },
      "source": [
        "**Generators**\n",
        "\n",
        "* used to create iterators\n",
        "\n",
        "* A generator is implemented with a syntax that\n",
        "is very similar to a function, but instead of returning values, a yield statement is\n",
        "executed to indicate each element of the series.\n",
        "\n",
        "* Notice use of the keyword yield rather than return to indicate a result. This indicates\n",
        "to Python that we are defining a generator, rather than a traditional function. It\n",
        "is illegal to combine yield and return statements in the same implementation, other\n",
        "than a zero-argument return statement to cause a generator to end its execution. \n",
        "\n",
        "*  For each iteration of the loop, Python executes our procedure until a yield statement indicates the next value. At that point, the procedure is temporarily\n",
        "interrupted, only to be resumed when another value is requested. When\n",
        "the flow of control naturally reaches the end of our procedure (or a zero-argument\n",
        "return statement), a StopIteration exception is automatically raised. Although this\n",
        "particular example uses a single yield statement in the source code, a generator can\n",
        "rely on multiple yield statements in different constructs, with the generated series\n",
        "determined by the natural flow of control.\n"
      ]
    },
    {
      "cell_type": "code",
      "metadata": {
        "id": "5utjV2l1lJEm",
        "colab_type": "code",
        "outputId": "65424cca-ac2c-4544-aab7-88a6783825a5",
        "colab": {
          "base_uri": "https://localhost:8080/",
          "height": 36
        }
      },
      "source": [
        "# general case of using a return statment \n",
        "def factors(n):\n",
        "  results = []\n",
        "  for k in range(1,n+1):\n",
        "    if n%k == 0:\n",
        "      results.append(k)\n",
        "  return results\n",
        "\n",
        "def main():\n",
        "  results = factors(45)\n",
        "  print(results)\n",
        "\n",
        "main()\n",
        "  "
      ],
      "execution_count": 0,
      "outputs": [
        {
          "output_type": "stream",
          "text": [
            "[1, 3, 5, 9, 15, 45]\n"
          ],
          "name": "stdout"
        }
      ]
    },
    {
      "cell_type": "code",
      "metadata": {
        "id": "gNDMOzPvl5Cs",
        "colab_type": "code",
        "outputId": "bcebdb23-e81c-4b5a-a2e4-fe4873655a27",
        "colab": {
          "base_uri": "https://localhost:8080/",
          "height": 129
        }
      },
      "source": [
        "#general case of using a yield statement\n",
        "def factors(n):\n",
        "  for k in range(1,n+1):\n",
        "    if n%k == 0:\n",
        "      yield k\n",
        "\n",
        "def main():\n",
        "  for i in factors(45):\n",
        "    print(i)\n",
        "\n",
        "main()\n"
      ],
      "execution_count": 0,
      "outputs": [
        {
          "output_type": "stream",
          "text": [
            "1\n",
            "3\n",
            "5\n",
            "9\n",
            "15\n",
            "45\n"
          ],
          "name": "stdout"
        }
      ]
    },
    {
      "cell_type": "code",
      "metadata": {
        "id": "Iea_GTQRX2Su",
        "colab_type": "code",
        "outputId": "ab395b09-4e57-40d5-8ef7-d1b78c81aebb",
        "colab": {
          "base_uri": "https://localhost:8080/",
          "height": 260
        }
      },
      "source": [
        "def rev_str(my_str):\n",
        "    length = len(my_str)\n",
        "    for i in range(length - 1,-1,-1):\n",
        "        yield my_str[i]\n",
        "\n",
        "for character_string in rev_str('python primer'):\n",
        "  print(character_string)"
      ],
      "execution_count": 0,
      "outputs": [
        {
          "output_type": "stream",
          "text": [
            "r\n",
            "e\n",
            "m\n",
            "i\n",
            "r\n",
            "p\n",
            " \n",
            "n\n",
            "o\n",
            "h\n",
            "t\n",
            "y\n",
            "p\n"
          ],
          "name": "stdout"
        }
      ]
    },
    {
      "cell_type": "markdown",
      "metadata": {
        "id": "eZqtvcLk7FJ7",
        "colab_type": "text"
      },
      "source": [
        "**Generator in more depth**\n"
      ]
    },
    {
      "cell_type": "markdown",
      "metadata": {
        "id": "PT3wQB8V9XQX",
        "colab_type": "text"
      },
      "source": [
        "What are generators in Python?\n",
        "\n",
        "There is a lot of overhead in building an iterator in Python; we have to implement a class with __iter__() and __next__() method, keep track of internal states, raise StopIteration when there was no values to be returned etc.\n",
        "\n",
        "This is both lengthy and counter intuitive. Generator comes into rescue in such situations.\n",
        "\n",
        "Python generators are a simple way of creating iterators. All the overhead we mentioned above are automatically handled by generators in Python.\n",
        "\n",
        "Simply speaking, a generator is a function that returns an object (iterator) which we can iterate over (one value at a time).\n",
        "How to create a generator in Python?\n",
        "\n",
        "It is fairly simple to create a generator in Python. It is as easy as defining a normal function with yield statement instead of a return statement.\n",
        "\n",
        "If a function contains at least one yield statement (it may contain other yield or return statements), it becomes a generator function. Both yield and return will return some value from a function.\n",
        "\n",
        "The difference is that, while a return statement terminates a function entirely, yield statement pauses the function saving all its states and later continues from there on successive calls.\n",
        "Differences between Generator function and a Normal function\n",
        "\n",
        "Here is how a generator function differs from a normal function.\n",
        "\n",
        "    Generator function contains one or more yield statement.\n",
        "    When called, it returns an object (iterator) but does not start execution immediately.\n",
        "    Methods like __iter__() and __next__() are implemented automatically. So we can iterate through the items using next().\n",
        "    Once the function yields, the function is paused and the control is transferred to the caller.\n",
        "    Local variables and their states are remembered between successive calls.\n",
        "    Finally, when the function terminates, StopIteration is raised automatically on further calls.\n",
        "\n",
        "Here is an example to illustrate all of the points stated above. We have a generator function named my_gen() with several yield statements.\n",
        "\n",
        "    script.py\n",
        "    IPython Shell\n",
        "\n",
        "An interactive run in the interpreter is given below. Run these in the Python shell to see the output.\n",
        "\n",
        "    >>> # It returns an object but does not start execution immediately.\n",
        "    >>> a = my_gen()\n",
        "    >>> # We can iterate through the items using next().\n",
        "    >>> next(a)\n",
        "    This is printed first\n",
        "    1\n",
        "    >>> # Once the function yields, the function is paused and the control is transferred to the caller.\n",
        "    >>> # Local variables and theirs states are remembered between successive calls.\n",
        "    >>> next(a)\n",
        "    This is printed second\n",
        "    2\n",
        "    >>> next(a)\n",
        "    This is printed at last\n",
        "    3\n",
        "    >>> # Finally, when the function terminates, StopIteration is raised automatically on further calls.\n",
        "    >>> next(a)\n",
        "    Traceback (most recent call last):\n",
        "    ...\n",
        "    StopIteration\n",
        "    >>> next(a)\n",
        "    Traceback (most recent call last):\n",
        "    ...\n",
        "    StopIteration\n",
        "\n",
        "One interesting thing to note in the above example is that, the value of variable n is remembered between each call.\n",
        "\n",
        "Unlike normal functions, the local variables are not destroyed when the function yields. Furthermore, the generator object can be iterated only once.\n",
        "\n",
        "To restart the process we need to create another generator object using something like a = my_gen().\n",
        "\n",
        "Note: One final thing to note is that we can use generators with for loops directly.\n",
        "\n",
        "This is because, a for loop takes an iterator and iterates over it using next() function. It automatically ends when StopIteration is raised. Check here to know how a for loop is actually implemented in Python.\n",
        "\n",
        "    script.py\n",
        "    IPython Shell\n",
        "\n",
        "When you run the program, the output will be:\n",
        "\n",
        "This is printed first\n",
        "1\n",
        "This is printed second\n",
        "2\n",
        "This is printed at last\n",
        "3\n",
        "\n",
        "Python Generators with a Loop\n",
        "\n",
        "The above example is of less use and we studied it just to get an idea of what was happening in the background.\n",
        "\n",
        "Normally, generator functions are implemented with a loop having a suitable terminating condition.\n",
        "\n",
        "Let's take an example of a generator that reverses a string.\n",
        "\n",
        "    script.py\n",
        "    IPython Shell\n",
        "\n",
        "In this example, we use range() function to get the index in reverse order using the for loop.\n",
        "\n",
        "It turns out that this generator function not only works with string, but also with other kind of iterables like list, tuple etc.\n",
        "Python Generator Expression\n",
        "\n",
        "Simple generators can be easily created on the fly using generator expressions. It makes building generators easy.\n",
        "\n",
        "Same as lambda function creates an anonymous function, generator expression creates an anonymous generator function.\n",
        "\n",
        "The syntax for generator expression is similar to that of a list comprehension in Python. But the square brackets are replaced with round parentheses.\n",
        "\n",
        "The major difference between a list comprehension and a generator expression is that while list comprehension produces the entire list, generator expression produces one item at a time.\n",
        "\n",
        "They are kind of lazy, producing items only when asked for. For this reason, a generator expression is much more memory efficient than an equivalent list comprehension.\n",
        "\n",
        "    script.py\n",
        "    IPython Shell\n",
        "\n",
        "\n",
        "\n",
        "We can see above that the generator expression did not produce the required result immediately. Instead, it returned a generator object with produces items on demand.\n",
        "\n",
        "    script.py\n",
        "    IPython Shell\n",
        "\n",
        "Generator expression can be used inside functions. When used in such a way, the round parentheses can be dropped.\n",
        "\n",
        "    >>> sum(x**2 for x in my_list)\n",
        "    146\n",
        "    >>> max(x**2 for x in my_list)\n",
        "    100\n",
        "\n",
        "Why generators are used in Python?\n",
        "\n",
        "There are several reasons which make generators an attractive implementation to go for.\n",
        "1. Easy to Implement\n",
        "\n",
        "Generators can be implemented in a clear and concise way as compared to their iterator class counterpart. Following is an example to implement a sequence of power of 2's using iterator class.\n",
        "\n",
        "    class PowTwo:\n",
        "        def __init__(self, max = 0):\n",
        "            self.max = max\n",
        "        def __iter__(self):\n",
        "            self.n = 0\n",
        "            return self\n",
        "        def __next__(self):\n",
        "            if self.n > self.max:\n",
        "                raise StopIteration\n",
        "            result = 2 ** self.n\n",
        "            self.n += 1\n",
        "            return result\n",
        "\n",
        "This was lengthy. Now lets do the same using a generator function.\n",
        "\n",
        "    def PowTwoGen(max = 0):\n",
        "        n = 0\n",
        "        while n < max:\n",
        "            yield 2 ** n\n",
        "            n += 1\n",
        "\n",
        "Since, generators keep track of details automatically, it was concise and much cleaner in implementation.\n",
        "2. Memory Efficient\n",
        "\n",
        "A normal function to return a sequence will create the entire sequence in memory before returning the result. This is an overkill if the number of items in the sequence is very large.\n",
        "\n",
        "Generator implementation of such sequence is memory friendly and is preferred since it only produces one item at a time.\n",
        "3. Represent Infinite Stream\n",
        "\n",
        "Generators are excellent medium to represent an infinite stream of data. Infinite streams cannot be stored in memory and since generators produce only one item at a time, it can represent infinite stream of data.\n",
        "\n",
        "The following example can generate all the even numbers (at least in theory).\n",
        "\n",
        "    def all_even():\n",
        "        n = 0\n",
        "        while True:\n",
        "            yield n\n",
        "            n += 2\n",
        "\n",
        "4. Pipelining Generators\n",
        "\n",
        "Generators can be used to pipeline a series of operations. This is best illustrated using an example.\n",
        "\n",
        "Suppose we have a log file from a famous fast food chain. The log file has a column (4th column) that keeps track of the number of pizza sold every hour and we want to sum it to find the total pizzas sold in 5 years.\n",
        "\n",
        "Assume everything is in string and numbers that are not available are marked as 'N/A'. A generator implementation of this could be as follows.\n",
        "\n",
        "    with open('sells.log') as file:\n",
        "        pizza_col = (line[3] for line in file)\n",
        "        per_hour = (int(x) for x in pizza_col if x != 'N/A')\n",
        "        print(\"Total pizzas sold = \",sum(per_hour))"
      ]
    },
    {
      "cell_type": "code",
      "metadata": {
        "id": "umip92EH_Vzn",
        "colab_type": "code",
        "outputId": "ea4bbb88-e733-4966-ef09-cfdfa9b3d8a1",
        "colab": {
          "base_uri": "https://localhost:8080/",
          "height": 36
        }
      },
      "source": [
        "#printing a fibonacci series \n",
        "def fibonacci():\n",
        "  a = 0 \n",
        "  b = 1\n",
        "  yield a\n",
        "  future = a+b\n",
        "  a = b\n",
        "  b = future\n",
        "\n",
        "def main():\n",
        "  for number in fibonacci():\n",
        "    print(number)\n",
        "\n",
        "main()\n",
        "\n",
        "#this will print one element 0 at a time because of generator function."
      ],
      "execution_count": 0,
      "outputs": [
        {
          "output_type": "stream",
          "text": [
            "0\n"
          ],
          "name": "stdout"
        }
      ]
    },
    {
      "cell_type": "markdown",
      "metadata": {
        "id": "kurTC-P7_ekg",
        "colab_type": "text"
      },
      "source": [
        "**Additional Python Conveniences**\n",
        "\n",
        "These conveniences are are meant for writing a clean and concise code. \n",
        "\n",
        "**Conditionl Expressions**\n",
        "\n",
        "Python supports a conditional expression syntax that can replace a simple control\n",
        "structure. The general syntax is an expression of the form:\n",
        "expr1 if condition else expr2\n",
        "This compound expression evaluates to expr1 if the condition is true, and otherwise\n",
        "evaluates to expr2. For those familiar with Java or C++, this is equivalent to the\n",
        "syntax, condition ? expr1 : expr2, in those languages.\n",
        "\n",
        "\n",
        "\n"
      ]
    },
    {
      "cell_type": "code",
      "metadata": {
        "id": "o8jH6clajCfl",
        "colab_type": "code",
        "outputId": "96e29c61-78e3-48aa-f7be-5ea224301e1d",
        "colab": {
          "base_uri": "https://localhost:8080/",
          "height": 36
        }
      },
      "source": [
        "def foo(n):\n",
        "  parameter = n if n >= 0 else -n \n",
        "  return parameter\n",
        "def main():\n",
        "  result = foo(-45)\n",
        "  print(result)\n",
        "main()\n",
        "\n",
        "#this doesnt seem to work. for some reason, its giving 45 as the output instead of -45"
      ],
      "execution_count": 0,
      "outputs": [
        {
          "output_type": "stream",
          "text": [
            "45\n"
          ],
          "name": "stdout"
        }
      ]
    },
    {
      "cell_type": "code",
      "metadata": {
        "id": "8VAB1lznke4l",
        "colab_type": "code",
        "outputId": "ed24b3dd-602f-4251-b8f0-a15b11ade89f",
        "colab": {
          "base_uri": "https://localhost:8080/",
          "height": 213
        }
      },
      "source": [
        "#using a function \n",
        "result = foo(n if n >= 0 else -n)\n",
        "print(result)\n",
        "\n",
        "#this dosnt seem to work"
      ],
      "execution_count": 0,
      "outputs": [
        {
          "output_type": "error",
          "ename": "TypeError",
          "evalue": "ignored",
          "traceback": [
            "\u001b[0;31m---------------------------------------------------------------------------\u001b[0m",
            "\u001b[0;31mTypeError\u001b[0m                                 Traceback (most recent call last)",
            "\u001b[0;32m<ipython-input-7-995ed4ac380c>\u001b[0m in \u001b[0;36m<module>\u001b[0;34m()\u001b[0m\n\u001b[0;32m----> 1\u001b[0;31m \u001b[0mresult\u001b[0m \u001b[0;34m=\u001b[0m \u001b[0mfoo\u001b[0m\u001b[0;34m(\u001b[0m\u001b[0mn\u001b[0m \u001b[0;32mif\u001b[0m \u001b[0mn\u001b[0m \u001b[0;34m>=\u001b[0m \u001b[0;36m0\u001b[0m \u001b[0;32melse\u001b[0m \u001b[0;34m-\u001b[0m\u001b[0mn\u001b[0m\u001b[0;34m)\u001b[0m\u001b[0;34m\u001b[0m\u001b[0;34m\u001b[0m\u001b[0m\n\u001b[0m\u001b[1;32m      2\u001b[0m \u001b[0mprint\u001b[0m\u001b[0;34m(\u001b[0m\u001b[0mresult\u001b[0m\u001b[0;34m)\u001b[0m\u001b[0;34m\u001b[0m\u001b[0;34m\u001b[0m\u001b[0m\n",
            "\u001b[0;31mTypeError\u001b[0m: '>=' not supported between instances of 'str' and 'int'"
          ]
        }
      ]
    },
    {
      "cell_type": "markdown",
      "metadata": {
        "id": "vamh3lDtlDRA",
        "colab_type": "text"
      },
      "source": [
        "**Comprehension Syntax**\n",
        "\n",
        "A very common programming task is to produce one series of values based upon\n",
        "the processing of another series. Often, this task can be accomplished quite simply\n",
        "in Python using what is known as a comprehension syntax. We begin by demonstrating\n",
        "list comprehension, as this was the first form to be supported by Python.\n",
        "Its general form is as follows:\n",
        "\n",
        "[ expression **for** value **in** iterable **if** condition ]\n",
        "\n",
        "We note that both expression and condition may depend on value, and that the\n",
        "if-clause is optional.\n"
      ]
    },
    {
      "cell_type": "code",
      "metadata": {
        "id": "T-GyOWYjlVkH",
        "colab_type": "code",
        "outputId": "e7f498d2-72b7-4e09-967a-d87315123cf9",
        "colab": {
          "base_uri": "https://localhost:8080/",
          "height": 36
        }
      },
      "source": [
        "#traditional method for calculating sqaured of a given list\n",
        "def calc_squares(list_sample,n):\n",
        "  squares = []\n",
        "  for k in range(1,n+1):\n",
        "    squares.append(k*k)\n",
        "  return squares\n",
        "\n",
        "def main():\n",
        "    list_sample = [1,2,3,4,5,6]\n",
        "    result = calc_squares(list_sample, len(list_sample)) \n",
        "    print(result)\n",
        "\n",
        "main()"
      ],
      "execution_count": 0,
      "outputs": [
        {
          "output_type": "stream",
          "text": [
            "[1, 4, 9, 16, 25, 36]\n"
          ],
          "name": "stdout"
        }
      ]
    },
    {
      "cell_type": "markdown",
      "metadata": {
        "id": "71RBg5m9libA",
        "colab_type": "text"
      },
      "source": [
        "[ k*k for k in range(1, n+1) ] list comprehension\n",
        "\n",
        "{ k*k for k in range(1, n+1) } set comprehension\n",
        "\n",
        "**( k*k for k in range(1, n+1) ) generator comprehension**\n",
        "\n",
        "{ k : k*k for k in range(1, n+1) } dictionary comprehension"
      ]
    },
    {
      "cell_type": "code",
      "metadata": {
        "id": "ZG3d47uym62h",
        "colab_type": "code",
        "outputId": "889f2b7e-29f6-4077-a612-a0662e722aaf",
        "colab": {
          "base_uri": "https://localhost:8080/",
          "height": 74
        }
      },
      "source": [
        "# example codes for list comprehension and generator expression where, the latter doesnt generate a list object\n",
        "\n",
        "#normal code of if loop \n",
        "from sys import getsizeof\n",
        "list = []\n",
        "for i in range(1000):\n",
        "  if i%2==0:\n",
        "    list.append(i)\n",
        "print(list)\n",
        "print(\"the size of normal function list is : {0}\".format(getsizeof(list)))"
      ],
      "execution_count": 0,
      "outputs": [
        {
          "output_type": "stream",
          "text": [
            "[0, 2, 4, 6, 8, 10, 12, 14, 16, 18, 20, 22, 24, 26, 28, 30, 32, 34, 36, 38, 40, 42, 44, 46, 48, 50, 52, 54, 56, 58, 60, 62, 64, 66, 68, 70, 72, 74, 76, 78, 80, 82, 84, 86, 88, 90, 92, 94, 96, 98, 100, 102, 104, 106, 108, 110, 112, 114, 116, 118, 120, 122, 124, 126, 128, 130, 132, 134, 136, 138, 140, 142, 144, 146, 148, 150, 152, 154, 156, 158, 160, 162, 164, 166, 168, 170, 172, 174, 176, 178, 180, 182, 184, 186, 188, 190, 192, 194, 196, 198, 200, 202, 204, 206, 208, 210, 212, 214, 216, 218, 220, 222, 224, 226, 228, 230, 232, 234, 236, 238, 240, 242, 244, 246, 248, 250, 252, 254, 256, 258, 260, 262, 264, 266, 268, 270, 272, 274, 276, 278, 280, 282, 284, 286, 288, 290, 292, 294, 296, 298, 300, 302, 304, 306, 308, 310, 312, 314, 316, 318, 320, 322, 324, 326, 328, 330, 332, 334, 336, 338, 340, 342, 344, 346, 348, 350, 352, 354, 356, 358, 360, 362, 364, 366, 368, 370, 372, 374, 376, 378, 380, 382, 384, 386, 388, 390, 392, 394, 396, 398, 400, 402, 404, 406, 408, 410, 412, 414, 416, 418, 420, 422, 424, 426, 428, 430, 432, 434, 436, 438, 440, 442, 444, 446, 448, 450, 452, 454, 456, 458, 460, 462, 464, 466, 468, 470, 472, 474, 476, 478, 480, 482, 484, 486, 488, 490, 492, 494, 496, 498, 500, 502, 504, 506, 508, 510, 512, 514, 516, 518, 520, 522, 524, 526, 528, 530, 532, 534, 536, 538, 540, 542, 544, 546, 548, 550, 552, 554, 556, 558, 560, 562, 564, 566, 568, 570, 572, 574, 576, 578, 580, 582, 584, 586, 588, 590, 592, 594, 596, 598, 600, 602, 604, 606, 608, 610, 612, 614, 616, 618, 620, 622, 624, 626, 628, 630, 632, 634, 636, 638, 640, 642, 644, 646, 648, 650, 652, 654, 656, 658, 660, 662, 664, 666, 668, 670, 672, 674, 676, 678, 680, 682, 684, 686, 688, 690, 692, 694, 696, 698, 700, 702, 704, 706, 708, 710, 712, 714, 716, 718, 720, 722, 724, 726, 728, 730, 732, 734, 736, 738, 740, 742, 744, 746, 748, 750, 752, 754, 756, 758, 760, 762, 764, 766, 768, 770, 772, 774, 776, 778, 780, 782, 784, 786, 788, 790, 792, 794, 796, 798, 800, 802, 804, 806, 808, 810, 812, 814, 816, 818, 820, 822, 824, 826, 828, 830, 832, 834, 836, 838, 840, 842, 844, 846, 848, 850, 852, 854, 856, 858, 860, 862, 864, 866, 868, 870, 872, 874, 876, 878, 880, 882, 884, 886, 888, 890, 892, 894, 896, 898, 900, 902, 904, 906, 908, 910, 912, 914, 916, 918, 920, 922, 924, 926, 928, 930, 932, 934, 936, 938, 940, 942, 944, 946, 948, 950, 952, 954, 956, 958, 960, 962, 964, 966, 968, 970, 972, 974, 976, 978, 980, 982, 984, 986, 988, 990, 992, 994, 996, 998]\n",
            "the size of normal function list is : 4272\n"
          ],
          "name": "stdout"
        }
      ]
    },
    {
      "cell_type": "code",
      "metadata": {
        "id": "6mI4iQ6cny1r",
        "colab_type": "code",
        "outputId": "fae65514-3a70-4294-b56f-ad6da10b173f",
        "colab": {
          "base_uri": "https://localhost:8080/",
          "height": 36
        }
      },
      "source": [
        "#list comprehension \n",
        "\n",
        "list = [i for i in range(1000) if i%2==0]\n",
        "print(\"the size of list comprehension is : {0}\".format(getsizeof(list)))\n",
        "\n",
        "# list comprehension only optimizes the readability of the code when it replaces the code of the normal function.\n",
        "#it doenst reduce the memory consumption for the entire list"
      ],
      "execution_count": 0,
      "outputs": [
        {
          "output_type": "stream",
          "text": [
            "the size of list comprehension is : 4272\n"
          ],
          "name": "stdout"
        }
      ]
    },
    {
      "cell_type": "code",
      "metadata": {
        "id": "YOgai4uHoGm-",
        "colab_type": "code",
        "outputId": "62d0b083-bf00-4418-e6cd-f0f57667a4d0",
        "colab": {
          "base_uri": "https://localhost:8080/",
          "height": 36
        }
      },
      "source": [
        "#generator expression or generator comprehension\n",
        "\n",
        "list = (i for i in range(1000) if i%2==0)\n",
        "print(\"the size of list comprehension is : {0}\".format(getsizeof(list)))\n",
        "\n",
        "# this reduces the memory consumption and is particularly attractive when the results do not need to be stored in memory. \n"
      ],
      "execution_count": 0,
      "outputs": [
        {
          "output_type": "stream",
          "text": [
            "the size of list comprehension is : 88\n"
          ],
          "name": "stdout"
        }
      ]
    },
    {
      "cell_type": "markdown",
      "metadata": {
        "id": "WtlAHNtDwc5L",
        "colab_type": "text"
      },
      "source": [
        "**For example, to compute the sum of the first n squares, the generator\n",
        "syntax, total = sum(k*k for k in range(1, n+1)), is preferred to the use of an explicitly instantiated list comprehension as the parameter.**"
      ]
    },
    {
      "cell_type": "code",
      "metadata": {
        "id": "H3gI2hERwiTO",
        "colab_type": "code",
        "outputId": "b2744303-e7d1-4b51-f652-8d74009ee07d",
        "colab": {
          "base_uri": "https://localhost:8080/",
          "height": 36
        }
      },
      "source": [
        "total = sum((k*k for k in range(5)))\n",
        "print(\"The total value is {0}\".format(total))"
      ],
      "execution_count": 0,
      "outputs": [
        {
          "output_type": "stream",
          "text": [
            "The total value is 30\n"
          ],
          "name": "stdout"
        }
      ]
    },
    {
      "cell_type": "markdown",
      "metadata": {
        "id": "OkYawK3szOe5",
        "colab_type": "text"
      },
      "source": [
        "**Packing and unpacking of Sequences**\n",
        "\n",
        "Python provides two additional conveniences involving the treatment of tuples and\n",
        "other sequence types. The first is rather cosmetic. If a series of comma-separated\n",
        "expressions are given in a larger context, they will be treated as a single tuple, even\n",
        "if no enclosing parentheses are provided. For example, the assignment\n",
        "    \n",
        "    data = 2, 4, 6, 8\n",
        "\n",
        "results in identifier, data, being assigned to the tuple (2, 4, 6, 8). This behavior\n",
        "is called **automatic packing** of a tuple. \n",
        "\n"
      ]
    },
    {
      "cell_type": "code",
      "metadata": {
        "id": "pdVq6C4-JZrL",
        "colab_type": "code",
        "outputId": "b6e85118-099d-4cd6-806c-1cd516855411",
        "colab": {
          "base_uri": "https://localhost:8080/",
          "height": 36
        }
      },
      "source": [
        "#function returning more than one vlaues \n",
        "def display(x=2,y=3):\n",
        "  return x, y\n",
        "\n",
        "def main():\n",
        "  result_x, result_y = display() # returns single tuple object\n",
        "  print(\" x and y returned as tuples by default from the function\", result_x, result_y)\n",
        "\n",
        "main()"
      ],
      "execution_count": 0,
      "outputs": [
        {
          "output_type": "stream",
          "text": [
            " x and y returned as tuples by default from the function 2 3\n"
          ],
          "name": "stdout"
        }
      ]
    },
    {
      "cell_type": "markdown",
      "metadata": {
        "id": "chEk2vhMO3Ve",
        "colab_type": "text"
      },
      "source": [
        "**Python can automatically unpack a sequence,\n",
        "allowing one to assign a series of individual identifiers to the elements\n",
        "of sequence**"
      ]
    },
    {
      "cell_type": "code",
      "metadata": {
        "id": "20vbUBETKxpJ",
        "colab_type": "code",
        "outputId": "e930b933-567c-4b9e-c783-a65acaeb0195",
        "colab": {
          "base_uri": "https://localhost:8080/",
          "height": 129
        }
      },
      "source": [
        "first,second,third,fourth,fifth = range(7,12)\n",
        "print(\"first : {} second : {} third : {} fourth : {} fifth : {}\".format(first,second,third,fourth,fifth))\n",
        "\n",
        "# in unpacking a sequence, the RHS can be any iterable type as long as the number of \n",
        "# variables on the LHS is the same as the number of elements in the iteration. \n",
        "#----------------------------------------------------\n",
        "quotient, remainder = divmod(45,30)\n",
        "print(\"quotient: \",quotient,\"remainder:\",remainder)\n",
        "print('form : divmod(a//b,a%b)')\n",
        "#----------------------------------------------------\n",
        "#iterating over a sequence of iterables\n",
        "for x, y in[(7,2),(5,8),(6,4)]:\n",
        "  print(\"The current value of x and y is : {} {}\".format(x,y))\n",
        "#----------------------------------------------------"
      ],
      "execution_count": 0,
      "outputs": [
        {
          "output_type": "stream",
          "text": [
            "first : 7 second : 8 third : 9 fourth : 10 fifth : 11\n",
            "quotient:  1 remainder: 15\n",
            "form : divmod(a//b,a%b)\n",
            "The current value of x and y is : 7 2\n",
            "The current value of x and y is : 5 8\n",
            "The current value of x and y is : 6 4\n"
          ],
          "name": "stdout"
        }
      ]
    },
    {
      "cell_type": "markdown",
      "metadata": {
        "id": "SLDMEUo4TCO4",
        "colab_type": "text"
      },
      "source": [
        "This style of loop is quite commonly used to iterate through\n",
        "key-value pairs that are returned by the items( ) method of the dict class, as in:\n",
        "    \n",
        "    for k, v in mapping.items():"
      ]
    },
    {
      "cell_type": "markdown",
      "metadata": {
        "id": "m1UUvjwiTIS-",
        "colab_type": "text"
      },
      "source": [
        "**Simultaneous Assignments**\n",
        "The combination of automatic packing and unpacking forms a technique known as **Simultaneous Assignment**, where we explicitly assin a series of vlaues to a series of identifiers"
      ]
    },
    {
      "cell_type": "code",
      "metadata": {
        "id": "VKo-DASma6se",
        "colab_type": "code",
        "outputId": "08729432-d42b-46c5-e5b4-3530033543be",
        "colab": {
          "base_uri": "https://localhost:8080/",
          "height": 36
        }
      },
      "source": [
        "first, second, third = 1,2,3\n",
        "print(\"first {}\".format(first),\"second {}\".format(second),\"third {}\".format(third))\n",
        "# In effect, the right-hand side of this assignment is automatically packed into a tuple,\n",
        "# and then automatically unpacked with its elements assigned to the three identifiers\n",
        "# on the left-hand side."
      ],
      "execution_count": 0,
      "outputs": [
        {
          "output_type": "stream",
          "text": [
            "first 1 second 2 third 3\n"
          ],
          "name": "stdout"
        }
      ]
    },
    {
      "cell_type": "markdown",
      "metadata": {
        "id": "sQJgu-zacdvi",
        "colab_type": "text"
      },
      "source": [
        "When using a simultaneous assignment, all of the expressions are evaluated\n",
        "on the right-hand side before any of the assignments are made to the left-hand\n",
        "variables. This is significant, as it provides a convenient means for swapping the\n",
        "values associated with two variables:\n",
        "\n",
        "    j, k = k, j\n",
        "\n",
        "With this command, j will be assigned to the old value of k, and k will be assigned\n",
        "to the old value of j. Without simultaneous assignment, a swap typically requires\n",
        "more delicate use of a temporary variable, such as\n",
        "\n",
        "    temp = j\n",
        "    j = k\n",
        "    k = temp\n",
        "\n",
        "With the simultaneous assignment, the unnamed tuple representing the packed values\n",
        "on the right-hand side implicitly serves as the temporary variable when performing\n",
        "such a swap."
      ]
    },
    {
      "cell_type": "markdown",
      "metadata": {
        "id": "BThKRWcoc0Fq",
        "colab_type": "text"
      },
      "source": [
        "\n",
        "# **SIMULTANEOUS ASSIGNMENT**\n",
        "# **SCOPES AND NAMESPACES**\n",
        "# **MODULE AND IMPORT STATEMENT**"
      ]
    },
    {
      "cell_type": "markdown",
      "metadata": {
        "id": "ozbnnn3EdLnO",
        "colab_type": "text"
      },
      "source": [
        "**EXERCISES**"
      ]
    },
    {
      "cell_type": "code",
      "metadata": {
        "id": "ztAAebgjdQmy",
        "colab_type": "code",
        "outputId": "7d13f0d3-9c90-4576-ca99-bb018c089a21",
        "colab": {
          "base_uri": "https://localhost:8080/",
          "height": 402
        }
      },
      "source": [
        "# Write a short Python function, is multiple(n, m), that takes two integer\n",
        "# values and returns True if n is a multiple of m, that is, n = mi for some\n",
        "# integer i, and False otherwise.\n",
        "\n",
        "def is_multiple(n,m):\n",
        "  if n%m==0:\n",
        "    val = True \n",
        "  else:\n",
        "    val = False\n",
        "  return val\n",
        "def main():\n",
        "  dividend = input(\"Enter the dividend value :\")\n",
        "  divisor =  input(\"Enter the divisor value :\")\n",
        "  bool_value = is_multiple(dividend,divisor)\n",
        "  print(bool_value)\n",
        "\n",
        "main()"
      ],
      "execution_count": 0,
      "outputs": [
        {
          "output_type": "stream",
          "text": [
            "Enter the dividend value :56\n",
            "Enter the divisor value :7\n"
          ],
          "name": "stdout"
        },
        {
          "output_type": "error",
          "ename": "TypeError",
          "evalue": "ignored",
          "traceback": [
            "\u001b[0;31m---------------------------------------------------------------------------\u001b[0m",
            "\u001b[0;31mTypeError\u001b[0m                                 Traceback (most recent call last)",
            "\u001b[0;32m<ipython-input-4-bb564b059bba>\u001b[0m in \u001b[0;36m<module>\u001b[0;34m()\u001b[0m\n\u001b[1;32m     12\u001b[0m   \u001b[0mprint\u001b[0m\u001b[0;34m(\u001b[0m\u001b[0mbool_value\u001b[0m\u001b[0;34m)\u001b[0m\u001b[0;34m\u001b[0m\u001b[0;34m\u001b[0m\u001b[0m\n\u001b[1;32m     13\u001b[0m \u001b[0;34m\u001b[0m\u001b[0m\n\u001b[0;32m---> 14\u001b[0;31m \u001b[0mmain\u001b[0m\u001b[0;34m(\u001b[0m\u001b[0;34m)\u001b[0m\u001b[0;34m\u001b[0m\u001b[0;34m\u001b[0m\u001b[0m\n\u001b[0m",
            "\u001b[0;32m<ipython-input-4-bb564b059bba>\u001b[0m in \u001b[0;36mmain\u001b[0;34m()\u001b[0m\n\u001b[1;32m      9\u001b[0m   \u001b[0mdividend\u001b[0m \u001b[0;34m=\u001b[0m \u001b[0minput\u001b[0m\u001b[0;34m(\u001b[0m\u001b[0;34m\"Enter the dividend value :\"\u001b[0m\u001b[0;34m)\u001b[0m\u001b[0;34m\u001b[0m\u001b[0;34m\u001b[0m\u001b[0m\n\u001b[1;32m     10\u001b[0m   \u001b[0mdivisor\u001b[0m \u001b[0;34m=\u001b[0m  \u001b[0minput\u001b[0m\u001b[0;34m(\u001b[0m\u001b[0;34m\"Enter the divisor value :\"\u001b[0m\u001b[0;34m)\u001b[0m\u001b[0;34m\u001b[0m\u001b[0;34m\u001b[0m\u001b[0m\n\u001b[0;32m---> 11\u001b[0;31m   \u001b[0mbool_value\u001b[0m \u001b[0;34m=\u001b[0m \u001b[0mis_multiple\u001b[0m\u001b[0;34m(\u001b[0m\u001b[0mdividend\u001b[0m\u001b[0;34m,\u001b[0m\u001b[0mdivisor\u001b[0m\u001b[0;34m)\u001b[0m\u001b[0;34m\u001b[0m\u001b[0;34m\u001b[0m\u001b[0m\n\u001b[0m\u001b[1;32m     12\u001b[0m   \u001b[0mprint\u001b[0m\u001b[0;34m(\u001b[0m\u001b[0mbool_value\u001b[0m\u001b[0;34m)\u001b[0m\u001b[0;34m\u001b[0m\u001b[0;34m\u001b[0m\u001b[0m\n\u001b[1;32m     13\u001b[0m \u001b[0;34m\u001b[0m\u001b[0m\n",
            "\u001b[0;32m<ipython-input-4-bb564b059bba>\u001b[0m in \u001b[0;36mis_multiple\u001b[0;34m(n, m)\u001b[0m\n\u001b[1;32m      1\u001b[0m \u001b[0;34m\u001b[0m\u001b[0m\n\u001b[1;32m      2\u001b[0m \u001b[0;32mdef\u001b[0m \u001b[0mis_multiple\u001b[0m\u001b[0;34m(\u001b[0m\u001b[0mn\u001b[0m\u001b[0;34m,\u001b[0m\u001b[0mm\u001b[0m\u001b[0;34m)\u001b[0m\u001b[0;34m:\u001b[0m\u001b[0;34m\u001b[0m\u001b[0;34m\u001b[0m\u001b[0m\n\u001b[0;32m----> 3\u001b[0;31m   \u001b[0;32mif\u001b[0m \u001b[0mn\u001b[0m\u001b[0;34m%\u001b[0m\u001b[0mm\u001b[0m\u001b[0;34m==\u001b[0m\u001b[0;36m0\u001b[0m\u001b[0;34m:\u001b[0m\u001b[0;34m\u001b[0m\u001b[0;34m\u001b[0m\u001b[0m\n\u001b[0m\u001b[1;32m      4\u001b[0m     \u001b[0mval\u001b[0m \u001b[0;34m=\u001b[0m \u001b[0;32mTrue\u001b[0m\u001b[0;34m\u001b[0m\u001b[0;34m\u001b[0m\u001b[0m\n\u001b[1;32m      5\u001b[0m   \u001b[0;32melse\u001b[0m\u001b[0;34m:\u001b[0m\u001b[0;34m\u001b[0m\u001b[0;34m\u001b[0m\u001b[0m\n",
            "\u001b[0;31mTypeError\u001b[0m: not all arguments converted during string formatting"
          ]
        }
      ]
    },
    {
      "cell_type": "code",
      "metadata": {
        "id": "LFUaQJ8ZNwzt",
        "colab_type": "code",
        "outputId": "d407d6e1-dac2-472b-d92e-4d5bddbb52a9",
        "colab": {
          "base_uri": "https://localhost:8080/",
          "height": 54
        }
      },
      "source": [
        "# Write a short Python function, is even(k), that takes an integer value and\n",
        "# returns True if k is even, and False otherwise. However, your function\n",
        "# cannot use the multiplication, modulo, or division operators.\n",
        "\n",
        "'''\n",
        "\n",
        "pseudocode:\n",
        "\n",
        "if (binary(number) AND 1) is eq 0\n",
        "  print 'the number is even'\n",
        "\n",
        "'''\n",
        "def is_even(number):\n",
        "  if (number and 1) == 0:\n",
        "    print(\"The number is even\")\n",
        "  else: \n",
        "    print(\"The number is odd\")\n",
        "\n",
        "def main():\n",
        "  number = input(\"Enter the number to be checked: \")\n",
        "  is_even(number)\n",
        "\n",
        "main()"
      ],
      "execution_count": 0,
      "outputs": [
        {
          "output_type": "stream",
          "text": [
            "Enter the number to be checked: 47\n",
            "The number is odd\n"
          ],
          "name": "stdout"
        }
      ]
    },
    {
      "cell_type": "code",
      "metadata": {
        "id": "Rego-xVDPQVq",
        "colab_type": "code",
        "outputId": "d13bd546-b337-483a-b10e-465be78bdb55",
        "colab": {
          "base_uri": "https://localhost:8080/",
          "height": 73
        }
      },
      "source": [
        "# Write a short Python function, minmax(data), that takes a sequence of\n",
        "# one or more numbers, and returns the smallest and largest numbers, in the\n",
        "# form of a tuple of length two. Do not use the built-in functions min or\n",
        "# max in implementing your solution.\n",
        "\n",
        "def minmax_automatic(data):  #method 1 of using a built in function sorted()\n",
        "  result = sorted(data)\n",
        "  return result[0],result[len(data)-1]\n",
        "\n",
        "def minmax_manual(data): #method 2 of writing the internal sorting code \n",
        "  data_length = len(data)\n",
        "  for i in range(0,data_length):\n",
        "    for j in range(0,data_length-1):\n",
        "      if data[i]<data[j]:\n",
        "        temp = data[i]\n",
        "        data[i] = data[j]\n",
        "        data[j] = temp \n",
        "  return data[0],data[data_length-1]\n",
        "\n",
        "def main():\n",
        "  data_list = [2,5,8,4,9]\n",
        "  maximum_value,minimum_value = minmax_automatic(data_list)\n",
        "  print('({},{})'.format(maximum_value,minimum_value))\n",
        "  maximum_value,minimum_value = minmax_manual(data_list)\n",
        "  print('({},{})'.format(maximum_value,minimum_value))\n",
        "\n",
        "main()"
      ],
      "execution_count": 0,
      "outputs": [
        {
          "output_type": "stream",
          "text": [
            "[2, 4, 5, 8, 9]\n",
            "(2,9)\n",
            "(2,9)\n"
          ],
          "name": "stdout"
        }
      ]
    },
    {
      "cell_type": "code",
      "metadata": {
        "id": "RiG-v6D-PTzY",
        "colab_type": "code",
        "outputId": "9fc17128-8bed-4218-e7f8-0ee672873bbc",
        "colab": {
          "base_uri": "https://localhost:8080/",
          "height": 91
        }
      },
      "source": [
        "# Write a short Python function that takes a positive integer n and returns\n",
        "# the sum of the squares of all the positive integers smaller than n.\n",
        "#Solution 1\n",
        "def squares_less_than_n(n):\n",
        "  result = [i*i for i in range(1,n)]\n",
        "  return result\n",
        "\n",
        "def main():\n",
        "  for i in squares_less_than_n(5):\n",
        "    print(i)\n",
        "\n",
        "main()"
      ],
      "execution_count": 0,
      "outputs": [
        {
          "output_type": "stream",
          "text": [
            "1\n",
            "4\n",
            "9\n",
            "16\n"
          ],
          "name": "stdout"
        }
      ]
    },
    {
      "cell_type": "code",
      "metadata": {
        "id": "VVhjbYMT1my7",
        "colab_type": "code",
        "outputId": "9c5fa10c-9294-46e6-e997-d604adc4f8ff",
        "colab": {
          "base_uri": "https://localhost:8080/",
          "height": 91
        }
      },
      "source": [
        "#Solution 2 --> Better solution\n",
        "def squares_less_than_n_generator(n):\n",
        "  yield(i*i for i in range(1,n))\n",
        "\n",
        "def main():\n",
        "  for i in squares_less_than_n(5):\n",
        "    print(i)\n",
        "\n",
        "main()"
      ],
      "execution_count": 0,
      "outputs": [
        {
          "output_type": "stream",
          "text": [
            "1\n",
            "4\n",
            "9\n",
            "16\n"
          ],
          "name": "stdout"
        }
      ]
    },
    {
      "cell_type": "code",
      "metadata": {
        "id": "dV1-xHHEPXHp",
        "colab_type": "code",
        "outputId": "437319e4-afb7-4ca5-bf77-dbd1730ed7c7",
        "colab": {
          "base_uri": "https://localhost:8080/",
          "height": 36
        }
      },
      "source": [
        "# Give a single command that computes the sum from Exercise R-1.4, relying\n",
        "# on Python’s comprehension syntax and the built-in sum function.\n",
        "def squares_less_than_n_generator(n):\n",
        "  result = sum(i*i for i in range(1,n))\n",
        "  print(result)\n",
        "\n",
        "def main():\n",
        "  squares_less_than_n_generator(5)\n",
        "\n",
        "main()\n"
      ],
      "execution_count": 0,
      "outputs": [
        {
          "output_type": "stream",
          "text": [
            "30\n"
          ],
          "name": "stdout"
        }
      ]
    },
    {
      "cell_type": "code",
      "metadata": {
        "id": "_k7QbmFVPaEn",
        "colab_type": "code",
        "colab": {}
      },
      "source": [
        "# Write a short Python function that takes a positive integer n and returns\n",
        "# the sum of the squares of all the odd positive integers smaller than n."
      ],
      "execution_count": 0,
      "outputs": []
    },
    {
      "cell_type": "code",
      "metadata": {
        "id": "EQmIB65jPaIN",
        "colab_type": "code",
        "colab": {}
      },
      "source": [
        "# Give a single command that computes the sum from Exercise R-1.6, relying\n",
        "# on Python’s comprehension syntax and the built-in sum function."
      ],
      "execution_count": 0,
      "outputs": []
    },
    {
      "cell_type": "code",
      "metadata": {
        "id": "OK-2LgO5Pfp5",
        "colab_type": "code",
        "colab": {}
      },
      "source": [
        "# Python allows negative integers to be used as indices into a sequence,\n",
        "# such as a string. If string s has length n, and expression s[k] is used for index\n",
        "# −n≤k<0, what is the equivalent index j ≥0 such that s[j] references\n",
        "# the same element?"
      ],
      "execution_count": 0,
      "outputs": []
    },
    {
      "cell_type": "code",
      "metadata": {
        "id": "isxVlgB0PitF",
        "colab_type": "code",
        "colab": {}
      },
      "source": [
        "# What parameters should be sent to the range constructor, to produce a\n",
        "# range with values 50, 60, 70, 80?"
      ],
      "execution_count": 0,
      "outputs": []
    },
    {
      "cell_type": "code",
      "metadata": {
        "id": "gC6kj82NPkiV",
        "colab_type": "code",
        "colab": {}
      },
      "source": [
        "# What parameters should be sent to the range constructor, to produce a\n",
        "# range with values 8, 6, 4, 2, 0, −2, −4, −6, −8?"
      ],
      "execution_count": 0,
      "outputs": []
    },
    {
      "cell_type": "code",
      "metadata": {
        "id": "V8j7SemDPnja",
        "colab_type": "code",
        "colab": {}
      },
      "source": [
        "# Demonstrate how to use Python’s list comprehension syntax to produce\n",
        "# the list [1, 2, 4, 8, 16, 32, 64, 128, 256]."
      ],
      "execution_count": 0,
      "outputs": []
    },
    {
      "cell_type": "code",
      "metadata": {
        "id": "XG5jTST6Pq30",
        "colab_type": "code",
        "colab": {}
      },
      "source": [
        "# Python’s random module includes a function choice(data) that returns a\n",
        "# random element from a non-empty sequence. The random module includes\n",
        "# a more basic function randrange, with parameterization similar to\n",
        "# the built-in range function, that return a random choice from the given\n",
        "# range. Using only the randrange function, implement your own version\n",
        "# of the choice function."
      ],
      "execution_count": 0,
      "outputs": []
    }
  ]
}