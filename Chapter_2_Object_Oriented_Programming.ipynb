{
  "nbformat": 4,
  "nbformat_minor": 0,
  "metadata": {
    "colab": {
      "name": "[4th February : Object Oriented Programming].ipynb",
      "provenance": [],
      "collapsed_sections": [],
      "authorship_tag": "ABX9TyMasBu59deiv9+3pqJC1OCR",
      "include_colab_link": true
    },
    "kernelspec": {
      "name": "python3",
      "display_name": "Python 3"
    }
  },
  "cells": [
    {
      "cell_type": "markdown",
      "metadata": {
        "id": "view-in-github",
        "colab_type": "text"
      },
      "source": [
        "<a href=\"https://colab.research.google.com/github/NikitaRana/OSCP_2020/blob/master/Chapter_2_Object_Oriented_Programming.ipynb\" target=\"_parent\"><img src=\"https://colab.research.google.com/assets/colab-badge.svg\" alt=\"Open In Colab\"/></a>"
      ]
    },
    {
      "cell_type": "markdown",
      "metadata": {
        "id": "EL-ksJpjI7Gt",
        "colab_type": "text"
      },
      "source": [
        "Each object is an instance of a class. Each class presents to the outside\n",
        "world a concise and consistent view of the objects that are instances of this class,\n",
        "without going into too much unnecessary detail or giving others access to the inner\n",
        "workings of the objects. The class definition typically specifies instance variables,\n",
        "also known as data members, that the object contains, as well as the methods, also\n",
        "known as member functions, that the object can execute."
      ]
    },
    {
      "cell_type": "code",
      "metadata": {
        "id": "GB_b8MHBAq3-",
        "colab_type": "code",
        "colab": {}
      },
      "source": [
        ""
      ],
      "execution_count": 0,
      "outputs": []
    }
  ]
}